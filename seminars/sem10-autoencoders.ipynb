{
 "cells": [
  {
   "cell_type": "markdown",
   "id": "03c4e028",
   "metadata": {},
   "source": [
    "# Глубинное обучение в анализе графовых данных, ПМИ ВШЭ\n",
    "\n",
    "## Семинар 10"
   ]
  },
  {
   "cell_type": "code",
   "execution_count": null,
   "id": "c8ed6971",
   "metadata": {
    "ExecuteTime": {
     "end_time": "2022-12-08T11:56:04.819423Z",
     "start_time": "2022-12-08T11:56:04.815405Z"
    }
   },
   "outputs": [],
   "source": [
    "# import torch\n",
    "\n",
    "# !pip uninstall torch-scatter torch-sparse torch-geometric torch-cluster  --y\n",
    "# !pip install torch-scatter -f https://data.pyg.org/whl/torch-{torch.__version__}.html\n",
    "# !pip install torch-sparse -f https://data.pyg.org/whl/torch-{torch.__version__}.html\n",
    "# !pip install torch-cluster -f https://data.pyg.org/whl/torch-{torch.__version__}.html\n",
    "# !pip install git+https://github.com/pyg-team/pytorch_geometric.git"
   ]
  },
  {
   "cell_type": "code",
   "execution_count": null,
   "id": "f9a30f4d",
   "metadata": {
    "ExecuteTime": {
     "end_time": "2022-12-08T13:25:54.753392Z",
     "start_time": "2022-12-08T13:25:53.540812Z"
    }
   },
   "outputs": [],
   "source": [
    "import torch\n",
    "from torch_geometric.datasets import Planetoid\n",
    "import torch_geometric.transforms as T\n",
    "from torch_geometric.nn import GCNConv\n",
    "from torch_geometric.utils import train_test_split_edges"
   ]
  },
  {
   "cell_type": "markdown",
   "id": "ad7f6b78",
   "metadata": {},
   "source": [
    "### Graph AutoEncoders GAE & Variational Graph Autoencoders VGAE for link prediction"
   ]
  },
  {
   "cell_type": "markdown",
   "id": "8e38921a",
   "metadata": {},
   "source": [
    "![](https://miro.medium.com/max/1062/1*TKROzv_vWHNNLJW9vnkGBw.webp)"
   ]
  },
  {
   "cell_type": "code",
   "execution_count": null,
   "id": "25f521b2",
   "metadata": {
    "ExecuteTime": {
     "end_time": "2022-12-08T13:26:57.810810Z",
     "start_time": "2022-12-08T13:26:57.759229Z"
    }
   },
   "outputs": [],
   "source": [
    "dataset = Planetoid(\"data\", \"CiteSeer\", transform=T.NormalizeFeatures())\n",
    "dataset.data"
   ]
  },
  {
   "cell_type": "code",
   "execution_count": null,
   "id": "a4a39510",
   "metadata": {
    "ExecuteTime": {
     "end_time": "2022-12-08T13:27:50.222956Z",
     "start_time": "2022-12-08T13:27:50.166573Z"
    }
   },
   "outputs": [],
   "source": [
    "data = dataset[0]\n",
    "data.train_mask = data.val_mask = data.test_mask = None\n",
    "data"
   ]
  },
  {
   "cell_type": "code",
   "execution_count": null,
   "id": "995ab968",
   "metadata": {
    "ExecuteTime": {
     "end_time": "2022-12-08T13:27:52.323444Z",
     "start_time": "2022-12-08T13:27:52.162249Z"
    }
   },
   "outputs": [],
   "source": [
    "data = train_test_split_edges(data)"
   ]
  },
  {
   "cell_type": "code",
   "execution_count": null,
   "id": "5952eb73",
   "metadata": {
    "ExecuteTime": {
     "end_time": "2022-12-08T13:27:55.048334Z",
     "start_time": "2022-12-08T13:27:55.041446Z"
    }
   },
   "outputs": [],
   "source": [
    "data"
   ]
  },
  {
   "cell_type": "code",
   "execution_count": null,
   "id": "83eb2227",
   "metadata": {
    "ExecuteTime": {
     "end_time": "2022-12-08T13:29:20.906937Z",
     "start_time": "2022-12-08T13:29:20.898376Z"
    }
   },
   "outputs": [],
   "source": [
    "class GCNEncoder(torch.nn.Module):\n",
    "    def __init__(self, in_channels, out_channels):\n",
    "        super(GCNEncoder, self).__init__()\n",
    "        self.conv1 = GCNConv(in_channels, 2 * out_channels, cached=True)\n",
    "        self.conv2 = GCNConv(2 * out_channels, out_channels, cached=True)\n",
    "\n",
    "    def forward(self, x, edge_index):\n",
    "        x = self.conv1(x, edge_index).relu()\n",
    "        return self.conv2(x, edge_index)"
   ]
  },
  {
   "cell_type": "code",
   "execution_count": null,
   "id": "8eeee7f6",
   "metadata": {
    "ExecuteTime": {
     "end_time": "2022-12-08T13:29:25.880409Z",
     "start_time": "2022-12-08T13:29:25.877026Z"
    }
   },
   "outputs": [],
   "source": [
    "from torch_geometric.nn import GAE"
   ]
  },
  {
   "cell_type": "code",
   "execution_count": null,
   "id": "14ed3d35",
   "metadata": {
    "ExecuteTime": {
     "end_time": "2022-12-08T13:32:38.046277Z",
     "start_time": "2022-12-08T13:32:37.978471Z"
    }
   },
   "outputs": [],
   "source": [
    "# parameters\n",
    "out_channels = 2\n",
    "num_features = dataset.num_features\n",
    "epochs = 100\n",
    "\n",
    "# model\n",
    "model = GAE(GCNEncoder(num_features, out_channels))\n",
    "\n",
    "device = torch.device('cuda' if torch.cuda.is_available() else 'cpu')\n",
    "model = model.to(device)\n",
    "x = data.x.to(device)\n",
    "train_pos_edge_index = data.train_pos_edge_index.to(device)\n",
    "\n",
    "optimizer = torch.optim.Adam(model.parameters(), lr=0.01)"
   ]
  },
  {
   "cell_type": "code",
   "execution_count": null,
   "id": "571bfa74",
   "metadata": {
    "ExecuteTime": {
     "end_time": "2022-12-08T11:56:06.625100Z",
     "start_time": "2022-12-08T11:56:06.620136Z"
    }
   },
   "outputs": [],
   "source": [
    "class Net(torch.nn.Module):\n",
    "    def __init__(self):\n",
    "        super(Net, self).__init__()\n",
    "        self.conv1 = GCNConv(dataset.num_features, 128)\n",
    "        self.conv2 = GCNConv(128, 64)\n",
    "\n",
    "    def encode(self, data):\n",
    "        x = self.conv1(data.x, data.train_pos_edge_index) # convolution 1\n",
    "        x = x.relu()\n",
    "        return self.conv2(x, data.train_pos_edge_index) # convolution 2\n",
    "\n",
    "    def decode(self, z, pos_edge_index, neg_edge_index): # only pos and neg edges\n",
    "        edge_index = torch.cat([pos_edge_index, neg_edge_index], dim=-1) # concatenate pos and neg edges\n",
    "        logits = (z[edge_index[0]] * z[edge_index[1]]).sum(dim=-1)  # dot product \n",
    "        return logits\n",
    "\n",
    "    def decode_all(self, z): \n",
    "        prob_adj = z @ z.t() # get adj NxN\n",
    "        return (prob_adj > 0).nonzero(as_tuple=False).t() # get predicted edge_list "
   ]
  },
  {
   "cell_type": "code",
   "execution_count": null,
   "id": "4e56cfc7",
   "metadata": {
    "ExecuteTime": {
     "end_time": "2022-12-08T13:34:14.805071Z",
     "start_time": "2022-12-08T13:34:14.794533Z"
    }
   },
   "outputs": [],
   "source": [
    "def train():\n",
    "    model.train()\n",
    "    optimizer.zero_grad()\n",
    "    z = model.encode(x, train_pos_edge_index)\n",
    "    loss = model.recon_loss(z, train_pos_edge_index)\n",
    "    # if args.variational:\n",
    "    #   loss = loss + (1 / data.num_nodes) * model.kl_loss()\n",
    "    loss.backward()\n",
    "    optimizer.step()\n",
    "    return float(loss)\n",
    "\n",
    "\n",
    "def test(pos_edge_index, neg_edge_index):\n",
    "    model.eval()\n",
    "    with torch.no_grad():\n",
    "        z = model.encode(x, train_pos_edge_index)\n",
    "    return model.test(z, pos_edge_index, neg_edge_index)"
   ]
  },
  {
   "cell_type": "code",
   "execution_count": null,
   "id": "770e4003",
   "metadata": {
    "ExecuteTime": {
     "end_time": "2022-12-08T13:34:19.793551Z",
     "start_time": "2022-12-08T13:34:17.170614Z"
    },
    "scrolled": true
   },
   "outputs": [],
   "source": [
    "for epoch in range(1, epochs + 1):\n",
    "    loss = train()\n",
    "\n",
    "    auc, ap = test(data.test_pos_edge_index, data.test_neg_edge_index)\n",
    "    print('Epoch: {:03d}, AUC: {:.4f}, AP: {:.4f}'.format(epoch, auc, ap))"
   ]
  },
  {
   "cell_type": "code",
   "execution_count": null,
   "id": "a6d5f301",
   "metadata": {
    "ExecuteTime": {
     "end_time": "2022-12-08T13:34:51.509203Z",
     "start_time": "2022-12-08T13:34:51.487000Z"
    }
   },
   "outputs": [],
   "source": [
    "Z = model.encode(x, train_pos_edge_index)\n",
    "Z"
   ]
  },
  {
   "cell_type": "markdown",
   "id": "b8ca1cbf",
   "metadata": {},
   "source": [
    "### Graph Variational AutoEncoder (GVAE)"
   ]
  },
  {
   "cell_type": "markdown",
   "id": "82d1490e",
   "metadata": {},
   "source": [
    "![](https://miro.medium.com/max/1224/1*CijfkQ_NMDKsYbsN6FqCRA.webp)"
   ]
  },
  {
   "cell_type": "markdown",
   "id": "7dd96aa8",
   "metadata": {},
   "source": [
    "Энкдоер принимает матрицу смежности A и матрицу признаков X в качестве входных данных и генерирует скрытую переменную Z в качестве выходных данных. Первый слой GCN генерирует матрицу признаков меньшего размера:\n",
    "\n",
    "$$\\bar{X}=GCN(X,A)=ReLU(\\tilde{A}XW_0)$$\n",
    "\n",
    "$$\\tilde{A}=D^{-1/2}AD^{-1/2},$$ где A - симметрично нормализованная матрица смежности\n",
    "\n",
    "Второй слой генерирует $\\mu$ и $log(\\sigma^2)$:\n",
    "\n",
    "$$\\mu = GCN_{\\mu}(X,A) = \\tilde{A}\\bar{X}W_1$$\n",
    "$$log(\\sigma^2) = GCN_{\\sigma}(X,A) = \\tilde{A}\\bar{X}W_1$$\n",
    "\n",
    "затем считаем Z используя трюк с параметризацией\n",
    "\n",
    "$$Z=\\mu+\\sigma * \\epsilon,$$\n",
    "$\\epsilon$ ~ $N(0, 1)$\n",
    "\n",
    "Декодер определяется как скалярное произведение между скрытой переменной Z. Выходом декодера является реконструированная матрица смежности $\\hat{A}$, которая определяется как:\n",
    "\n",
    "$$\\hat{A}=sigmoid(zz^T)$$\n",
    "\n",
    "По итогу энкодер предсталвяется как:\n",
    "\n",
    "$$q(z_i|X, A) = N(z_i|\\mu_i, diag(\\sigma^{2}_i))$$\n",
    "\n",
    "Декодер:\n",
    "\n",
    "$$p(A_{ij} = 1| z_i,z_j) = sigmoid(z^{T}_i z_j)$$\n",
    "\n",
    "Функция потерь для вариационного автоэнкодера почти такая же, как и в обычном. Первая часть - это loss при реконструкции между входной матрицей смежности и реконструированной матрицей смежности. В частности, это бинарная кросс-энтропия между целевым (A) и выходным вероятностями(A’). Вторая часть — это KL-дивергенция между q(Z | X,A) и p(Z), где p(Z) = N(0,1). Лосс измеряет, насколько близко наше q(Z | X, A) соответствует p(Z).\n",
    "\n",
    "$$L = E_{q(Z|X,A)}[logp(A|Z)] - KL[q(Z|X,A)||p(Z)]$$\n",
    "\n",
    "Получив скрытую переменную Z, мы хотим найти способ узнать сходство каждой строки в скрытой переменной (поскольку одна строка представляет одну вершину), чтобы сгенерировать выходную матрицу смежности. Матричное произведение может вычислять косинусное сходство двух векторов, что полезно, когда нам нужна мера расстояния, инвариантная к величине векторов. Следовательно, применяя скалярное произведение к скрытой переменной Z и Z^T, мы можем узнать сходство каждого узла внутри Z, чтобы предсказать нашу матрицу смежности."
   ]
  },
  {
   "cell_type": "code",
   "execution_count": null,
   "id": "520b5462",
   "metadata": {
    "ExecuteTime": {
     "end_time": "2022-12-08T13:38:58.677927Z",
     "start_time": "2022-12-08T13:38:58.671086Z"
    }
   },
   "outputs": [],
   "source": [
    "from torch_geometric.nn import VGAE"
   ]
  },
  {
   "cell_type": "code",
   "execution_count": null,
   "id": "5d00ab36",
   "metadata": {
    "ExecuteTime": {
     "end_time": "2022-12-08T13:38:59.166137Z",
     "start_time": "2022-12-08T13:38:58.958449Z"
    }
   },
   "outputs": [],
   "source": [
    "dataset = Planetoid(\"data\", \"CiteSeer\", transform=T.NormalizeFeatures())\n",
    "data = dataset[0]\n",
    "data.train_mask = data.val_mask = data.test_mask = data.y = None\n",
    "data = train_test_split_edges(data)\n",
    "\n",
    "\n",
    "class VariationalGCNEncoder(torch.nn.Module):\n",
    "    def __init__(self, in_channels, out_channels):\n",
    "        super(VariationalGCNEncoder, self).__init__()\n",
    "        self.conv1 = GCNConv(in_channels, 2 * out_channels, cached=True)\n",
    "        self.conv_mu = GCNConv(2 * out_channels, out_channels, cached=True)\n",
    "        self.conv_logstd = GCNConv(2 * out_channels, out_channels, cached=True)\n",
    "\n",
    "    def forward(self, x, edge_index):\n",
    "        x = self.conv1(x, edge_index).relu()\n",
    "        return self.conv_mu(x, edge_index), self.conv_logstd(x, edge_index)"
   ]
  },
  {
   "cell_type": "code",
   "execution_count": null,
   "id": "f9f20139",
   "metadata": {
    "ExecuteTime": {
     "end_time": "2022-12-08T13:40:24.795705Z",
     "start_time": "2022-12-08T13:40:24.750541Z"
    }
   },
   "outputs": [],
   "source": [
    "out_channels = 2\n",
    "num_features = dataset.num_features\n",
    "epochs = 300\n",
    "\n",
    "\n",
    "model = VGAE(VariationalGCNEncoder(num_features, out_channels))  # new line\n",
    "\n",
    "device = torch.device('cuda' if torch.cuda.is_available() else 'cpu')\n",
    "model = model.to(device)\n",
    "x = data.x.to(device)\n",
    "train_pos_edge_index = data.train_pos_edge_index.to(device)\n",
    "optimizer = torch.optim.Adam(model.parameters(), lr=0.01)"
   ]
  },
  {
   "cell_type": "code",
   "execution_count": null,
   "id": "d9c1d1d2",
   "metadata": {
    "ExecuteTime": {
     "end_time": "2022-12-08T13:40:26.380027Z",
     "start_time": "2022-12-08T13:40:26.373084Z"
    }
   },
   "outputs": [],
   "source": [
    "def train():\n",
    "    model.train()\n",
    "    optimizer.zero_grad()\n",
    "    z = model.encode(x, train_pos_edge_index)\n",
    "    loss = model.recon_loss(z, train_pos_edge_index)\n",
    "    \n",
    "    loss = loss + (1 / data.num_nodes) * model.kl_loss()  # new line\n",
    "    loss.backward()\n",
    "    optimizer.step()\n",
    "    return float(loss)\n",
    "\n",
    "\n",
    "def test(pos_edge_index, neg_edge_index):\n",
    "    model.eval()\n",
    "    with torch.no_grad():\n",
    "        z = model.encode(x, train_pos_edge_index)\n",
    "    return model.test(z, pos_edge_index, neg_edge_index)"
   ]
  },
  {
   "cell_type": "code",
   "execution_count": null,
   "id": "786f47dd",
   "metadata": {
    "ExecuteTime": {
     "end_time": "2022-12-08T13:40:35.548943Z",
     "start_time": "2022-12-08T13:40:28.020002Z"
    }
   },
   "outputs": [],
   "source": [
    "for epoch in range(1, epochs + 1):\n",
    "    loss = train()\n",
    "    auc, ap = test(data.test_pos_edge_index, data.test_neg_edge_index)\n",
    "    print('Epoch: {:03d}, AUC: {:.4f}, AP: {:.4f}'.format(epoch, auc, ap))"
   ]
  },
  {
   "cell_type": "markdown",
   "id": "3cfddcb1",
   "metadata": {},
   "source": [
    "### ARGA & ARVGA  \n",
    "\n",
    "* [Adversarially Regularized Graph Autoencoder for Graph Embedding](https://www.ijcai.org/Proceedings/2018/0362.pdf) "
   ]
  },
  {
   "cell_type": "code",
   "execution_count": null,
   "id": "9ce458fe",
   "metadata": {
    "ExecuteTime": {
     "end_time": "2022-12-08T16:39:23.386986Z",
     "start_time": "2022-12-08T16:39:21.302685Z"
    }
   },
   "outputs": [],
   "source": [
    "import os\n",
    "import torch\n",
    "import torch.nn.functional as F\n",
    "from sklearn.cluster import KMeans\n",
    "from sklearn.metrics.cluster import v_measure_score, homogeneity_score, completeness_score\n",
    "from sklearn.manifold import TSNE\n",
    "import matplotlib.pyplot as plt\n",
    "import torch_geometric.transforms as T\n",
    "from torch_geometric.datasets import Planetoid\n",
    "from torch_geometric.nn import GCNConv\n",
    "from torch_geometric.nn.models.autoencoder import ARGVA\n",
    "from torch_geometric.utils import train_test_split_edges\n",
    "\n",
    "\n",
    "use_cuda = False"
   ]
  },
  {
   "cell_type": "code",
   "execution_count": null,
   "id": "5a508953",
   "metadata": {
    "ExecuteTime": {
     "end_time": "2022-12-08T13:49:57.297616Z",
     "start_time": "2022-12-08T13:49:57.269761Z"
    }
   },
   "outputs": [],
   "source": [
    "dataset = Planetoid(\"data\", \"CiteSeer\", transform=T.NormalizeFeatures())\n",
    "data = dataset.get(0)\n",
    "num_nodes = data.x.shape[0]"
   ]
  },
  {
   "cell_type": "code",
   "execution_count": null,
   "id": "9a769ea8",
   "metadata": {
    "ExecuteTime": {
     "end_time": "2022-12-08T13:49:58.781309Z",
     "start_time": "2022-12-08T13:49:58.640791Z"
    }
   },
   "outputs": [],
   "source": [
    "data.train_mask = data.val_mask = data.test_mask = None\n",
    "data = train_test_split_edges(data)\n",
    "data"
   ]
  },
  {
   "cell_type": "code",
   "execution_count": null,
   "id": "c359b0c9",
   "metadata": {
    "ExecuteTime": {
     "end_time": "2022-12-08T13:50:00.338474Z",
     "start_time": "2022-12-08T13:50:00.332962Z"
    }
   },
   "outputs": [],
   "source": [
    "class VEncoder(torch.nn.Module):\n",
    "    def __init__(self, in_channels, out_channels):\n",
    "        super(VEncoder, self).__init__()\n",
    "        self.conv1 = GCNConv(in_channels, 2 * out_channels, cached=True)\n",
    "        self.conv_mu = GCNConv(2 * out_channels, out_channels, cached=True)\n",
    "        self.conv_logstd = GCNConv(2 * out_channels, out_channels, cached=True)\n",
    "\n",
    "    def forward(self, x, edge_index):\n",
    "        x = F.relu(self.conv1(x, edge_index))\n",
    "        return self.conv_mu(x, edge_index), self.conv_logstd(x, edge_index)"
   ]
  },
  {
   "cell_type": "code",
   "execution_count": null,
   "id": "e0e0b733",
   "metadata": {
    "ExecuteTime": {
     "end_time": "2022-12-08T13:50:00.600121Z",
     "start_time": "2022-12-08T13:50:00.594928Z"
    }
   },
   "outputs": [],
   "source": [
    "class Discriminator(torch.nn.Module):\n",
    "    def __init__(self, in_channels, hidden_channels, out_channels):\n",
    "        super(Discriminator, self).__init__()\n",
    "        self.lin1 = torch.nn.Linear(in_channels, hidden_channels)\n",
    "        self.lin2 = torch.nn.Linear(hidden_channels, hidden_channels)\n",
    "        self.lin3 = torch.nn.Linear(hidden_channels, out_channels)\n",
    "\n",
    "    def forward(self, x):\n",
    "        x = F.relu(self.lin1(x))\n",
    "        x = F.relu(self.lin2(x))\n",
    "        x = self.lin3(x)\n",
    "        return x"
   ]
  },
  {
   "cell_type": "code",
   "execution_count": null,
   "id": "4f2f5dd3",
   "metadata": {
    "ExecuteTime": {
     "end_time": "2022-12-08T13:50:01.002358Z",
     "start_time": "2022-12-08T13:50:00.993206Z"
    }
   },
   "outputs": [],
   "source": [
    "def train():\n",
    "    model.train()\n",
    "    encoder_optimizer.zero_grad()\n",
    "\n",
    "    z = model.encode(data.x, data.train_pos_edge_index)\n",
    "\n",
    "    for i in range(5):\n",
    "        idx = range(num_nodes)\n",
    "        discriminator.train()\n",
    "        discriminator_optimizer.zero_grad()\n",
    "        discriminator_loss = model.discriminator_loss(z[idx])\n",
    "        discriminator_loss.backward(retain_graph=True)\n",
    "        discriminator_optimizer.step()\n",
    "\n",
    "    loss = 0\n",
    "    loss = loss + model.reg_loss(z)\n",
    "\n",
    "    loss = loss + model.recon_loss(z, data.train_pos_edge_index)\n",
    "    loss = loss + (1 / data.num_nodes) * model.kl_loss()\n",
    "    loss.backward()\n",
    "\n",
    "    encoder_optimizer.step()\n",
    "\n",
    "    return loss"
   ]
  },
  {
   "cell_type": "code",
   "execution_count": null,
   "id": "ec47d11b",
   "metadata": {
    "ExecuteTime": {
     "end_time": "2022-12-08T13:50:02.218795Z",
     "start_time": "2022-12-08T13:50:02.213216Z"
    }
   },
   "outputs": [],
   "source": [
    "@torch.no_grad()\n",
    "def test():\n",
    "    model.eval()\n",
    "    z = model.encode(data.x, data.train_pos_edge_index)\n",
    "\n",
    "    # Cluster embedded values using k-means.\n",
    "    kmeans_input = z.cpu().numpy()\n",
    "    kmeans = KMeans(n_clusters=7, random_state=0).fit(kmeans_input)\n",
    "    pred = kmeans.predict(kmeans_input)\n",
    "\n",
    "    labels = data.y.cpu().numpy()\n",
    "    completeness = completeness_score(labels, pred)\n",
    "    hm = homogeneity_score(labels, pred)\n",
    "    nmi = v_measure_score(labels, pred)\n",
    "\n",
    "    auc, ap = model.test(z, data.test_pos_edge_index, data.test_neg_edge_index)\n",
    "\n",
    "    return auc, ap, completeness, hm, nmi"
   ]
  },
  {
   "cell_type": "code",
   "execution_count": null,
   "id": "aca58d7f",
   "metadata": {
    "ExecuteTime": {
     "end_time": "2022-12-08T13:50:02.373147Z",
     "start_time": "2022-12-08T13:50:02.365582Z"
    }
   },
   "outputs": [],
   "source": [
    "latent_size = 8\n",
    "encoder = VEncoder(data.num_features, out_channels=latent_size)\n",
    "\n",
    "discriminator = Discriminator(in_channels=latent_size, hidden_channels=16, \n",
    "                              out_channels=1)"
   ]
  },
  {
   "cell_type": "code",
   "execution_count": null,
   "id": "b6d2f638",
   "metadata": {
    "ExecuteTime": {
     "end_time": "2022-12-08T13:50:03.320393Z",
     "start_time": "2022-12-08T13:50:03.314323Z"
    }
   },
   "outputs": [],
   "source": [
    "model = ARGVA(encoder, discriminator)\n",
    "\n",
    "device = torch.device('cuda' if torch.cuda.is_available() and use_cuda else 'cpu')\n",
    "model, data = model.to(device), data.to(device)"
   ]
  },
  {
   "cell_type": "code",
   "execution_count": null,
   "id": "2e540c01",
   "metadata": {
    "ExecuteTime": {
     "end_time": "2022-12-08T13:50:03.687856Z",
     "start_time": "2022-12-08T13:50:03.682202Z"
    }
   },
   "outputs": [],
   "source": [
    "discriminator_optimizer = torch.optim.Adam(discriminator.parameters(), lr=0.001)\n",
    "encoder_optimizer = torch.optim.Adam(encoder.parameters(), lr=0.005)"
   ]
  },
  {
   "cell_type": "code",
   "execution_count": null,
   "id": "476ea846",
   "metadata": {
    "ExecuteTime": {
     "end_time": "2022-12-08T13:50:41.853028Z",
     "start_time": "2022-12-08T13:50:04.207538Z"
    }
   },
   "outputs": [],
   "source": [
    "for epoch in range(1, 201):\n",
    "    loss = train()\n",
    "    auc, ap, completeness, hm, nmi = test()\n",
    "    print((f'Epoch: {epoch:03d}, Loss: {loss:.3f}, AUC: {auc:.3f}, '\n",
    "           f'AP: {ap:.3f}, Completeness: {completeness:.3f}, '\n",
    "           f'Homogeneity: {hm:.3f}, NMI: {nmi:.3f}'))"
   ]
  },
  {
   "cell_type": "code",
   "execution_count": null,
   "id": "94322f8d",
   "metadata": {
    "ExecuteTime": {
     "end_time": "2022-12-08T16:38:25.356165Z",
     "start_time": "2022-12-08T16:38:25.326840Z"
    }
   },
   "outputs": [],
   "source": [
    "@torch.no_grad()\n",
    "def plot_points(colors):\n",
    "    model.eval()\n",
    "    z = model.encode(data.x, data.train_pos_edge_index)\n",
    "    z = TSNE(n_components=2).fit_transform(z.cpu().numpy())\n",
    "    y = data.y.cpu().numpy()\n",
    "\n",
    "    fig = plt.figure(1, figsize=(8, 8))\n",
    "    fig.clf()\n",
    "    for i in range(dataset.num_classes):\n",
    "        plt.scatter(z[y == i, 0], z[y == i, 1], s=20, color=colors[i])\n",
    "    plt.axis('off')\n",
    "    plt.show()\n"
   ]
  },
  {
   "cell_type": "code",
   "execution_count": null,
   "id": "b883bbff",
   "metadata": {
    "ExecuteTime": {
     "end_time": "2022-12-08T16:38:36.748133Z",
     "start_time": "2022-12-08T16:38:26.010456Z"
    }
   },
   "outputs": [],
   "source": [
    "#%%\n",
    "colors = [\n",
    "    '#ffc0cb', '#bada55', '#008080', '#420420', '#7fe5f0', '#065535', '#ffd700'\n",
    "]\n",
    "\n",
    "plot_points(colors)"
   ]
  },
  {
   "cell_type": "code",
   "execution_count": null,
   "id": "cb3d0a09",
   "metadata": {},
   "outputs": [],
   "source": []
  }
 ],
 "metadata": {
  "kernelspec": {
   "display_name": "Python 3 (ipykernel)",
   "language": "python",
   "name": "python3"
  },
  "language_info": {
   "codemirror_mode": {
    "name": "ipython",
    "version": 3
   },
   "file_extension": ".py",
   "mimetype": "text/x-python",
   "name": "python",
   "nbconvert_exporter": "python",
   "pygments_lexer": "ipython3",
   "version": "3.8.13"
  }
 },
 "nbformat": 4,
 "nbformat_minor": 5
}

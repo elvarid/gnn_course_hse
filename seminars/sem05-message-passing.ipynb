{
 "cells": [
  {
   "cell_type": "markdown",
   "id": "hidden-treasure",
   "metadata": {},
   "source": [
    "# Глубинное обучение в анализе графовых данных, ПМИ ВШЭ\n",
    "\n",
    "## Семинар 5"
   ]
  },
  {
   "cell_type": "markdown",
   "id": "vanilla-worry",
   "metadata": {},
   "source": [
    "Сегодня погворим о графовых сверточных сетях для классификации вершин\n",
    "\n",
    "Если вы знакомы со сверточными слоями, в GCN \"свертка\" - это почти та же операция - умножение входных нейронов на набор весов, которые обычно известны как фильтры или ядра. Фильтры действуют как скользящие окна по всему изображению и позволяют CNN изучать эмбеддинги из соседних клеток. В том же слое один и тот же фильтр будет использоваться по всему изображению. Например, используя CNN для классификации изображений кошек и не кошек, один и тот же фильтр будет использоваться в том же слое для обнаружения носа и ушей кошки.\n",
    "\n",
    "GCN выполняют аналогичные операции, когда модель изучает особенности, проверя соседние узлы. Основное различие между CNN и GNN заключается в том, что CNN специально построены для работы с обычными (евклидовыми) структурированными данными, в то время как GNN являются обобщенной версией CNN, где количество ребер варьируется, а вершины неупорядочены."
   ]
  },
  {
   "cell_type": "markdown",
   "id": "communist-library",
   "metadata": {},
   "source": [
    "[![1.jpg](https://i.postimg.cc/mkxWbctf/1.jpg)](https://postimg.cc/G8j5KmFq)\n",
    "Иллюстрация 2D сверточных нейронных сетей и графических сверточных сетей [источник](https://arxiv.org/pdf/1901.00596.pdf)"
   ]
  },
  {
   "cell_type": "markdown",
   "id": "associate-australia",
   "metadata": {},
   "source": [
    "Построние GCN можно разделить на 2 основных алгоритма: Spatial Graph Convolutional Networks и Spectral Graph Convolutional Networks. Здесь будем рассматривать спектарльный подход [Fast Approximation Spectral-based Graph Convolutional Networks](https://arxiv.org/pdf/1609.02907.pdf)."
   ]
  },
  {
   "cell_type": "markdown",
   "id": "nonprofit-pocket",
   "metadata": {},
   "source": [
    "### Fast Approximate Spectral Graph Convolutional Networks"
   ]
  },
  {
   "cell_type": "markdown",
   "id": "intense-miniature",
   "metadata": {},
   "source": [
    "Первоначальная идея Spectral GCN была вдохновлена распространением сигнала/волны. Мы можем думать о распространении информации в Spectral GCN как о распространении сигнала по вершинам. Спектральные GCN используют собственное разложение матрицы Лапласиана графа. Проще говоря, собственное разложение помогает нам понять структуру графа и, следовательно, классифицировать вершины графов. Это несколько похоже на базовую концепцию анализа гланых компонентов (PCA) и линейного дискриминантного анализа (LDA), где мы используем собственное разложение для уменьшения размерности и выполнения кластеризации.\n",
    "\n",
    "В этом подходе мы будем учитывать матрицу смежности (A) в прямом распространении в дополнение к эмбеддингов вершин. Вставка A в уравнение прямого прохода позволяет модели изучать представления функций на основе связности вершин. Для простоты смещение опущено. Полученный GCN можно рассматривать как аппроксимацию первого порядка свертки спектрального графа в виде сети передачи сообщений, в которой информация распространяется по соседним вершинам внутри графа.\n",
    "$$H^{i+1} = \\sigma (W^i H^i A^*)$$\n",
    "где $A^*$ - норализованная матрица (поговорим об этом ниже)"
   ]
  },
  {
   "cell_type": "code",
   "execution_count": 1,
   "id": "designed-processing",
   "metadata": {
    "ExecuteTime": {
     "end_time": "2022-10-20T13:31:05.378556Z",
     "start_time": "2022-10-20T13:31:04.593510Z"
    }
   },
   "outputs": [
    {
     "name": "stdout",
     "output_type": "stream",
     "text": [
      "Graph Info:\n",
      " Graph named 'G' with 6 nodes and 7 edges\n",
      "\n",
      "Graph Nodes:  [(0, {'name': 0}), (1, {'name': 1}), (2, {'name': 2}), (3, {'name': 3}), (4, {'name': 4}), (5, {'name': 5})]\n"
     ]
    },
    {
     "data": {
      "image/png": "[encoded data removed]",
      "text/plain": [
       "<Figure size 432x288 with 1 Axes>"
      ]
     },
     "metadata": {},
     "output_type": "display_data"
    }
   ],
   "source": [
    "import networkx as nx\n",
    "import numpy as np\n",
    "import matplotlib.pyplot as plt\n",
    "from scipy.linalg import fractional_matrix_power\n",
    "\n",
    "import warnings\n",
    "warnings.filterwarnings('ignore')\n",
    "\n",
    "#Initialize the graph\n",
    "G = nx.Graph(name='G')\n",
    "\n",
    "#Create nodes\n",
    "#In this example, the graph will consist of 6 nodes.\n",
    "#Each node is assigned node feature which corresponds to the node name\n",
    "for i in range(6):\n",
    "    G.add_node(i, name=i)\n",
    "\n",
    "\n",
    "#Define the edges and the edges to the graph\n",
    "edges = [(0,1),(0,2),(1,2),(0,3),(3,4),(3,5),(4,5)]\n",
    "G.add_edges_from(edges)\n",
    "\n",
    "#See graph info\n",
    "print('Graph Info:\\n', nx.info(G))\n",
    "\n",
    "#Inspect the node features\n",
    "print('\\nGraph Nodes: ', G.nodes.data())\n",
    "\n",
    "#Plot the graph\n",
    "nx.draw(G, with_labels=True, font_weight='bold')"
   ]
  },
  {
   "cell_type": "code",
   "execution_count": 2,
   "id": "smoking-living",
   "metadata": {
    "ExecuteTime": {
     "end_time": "2022-10-20T13:31:33.704894Z",
     "start_time": "2022-10-20T13:31:33.696677Z"
    }
   },
   "outputs": [
    {
     "name": "stdout",
     "output_type": "stream",
     "text": [
      "Shape of A:  (6, 6)\n",
      "\n",
      "Shape of X:  (6, 1)\n",
      "\n",
      "Adjacency Matrix (A):\n",
      " [[0. 1. 1. 1. 0. 0.]\n",
      " [1. 0. 1. 0. 0. 0.]\n",
      " [1. 1. 0. 0. 0. 0.]\n",
      " [1. 0. 0. 0. 1. 1.]\n",
      " [0. 0. 0. 1. 0. 1.]\n",
      " [0. 0. 0. 1. 1. 0.]]\n",
      "\n",
      "Node Features Matrix (X):\n",
      " [[0]\n",
      " [1]\n",
      " [2]\n",
      " [3]\n",
      " [4]\n",
      " [5]]\n"
     ]
    }
   ],
   "source": [
    "#Get the Adjacency Matrix (A) and Node Features Matrix (X) as numpy array\n",
    "A = np.array(nx.attr_matrix(G, node_attr='name')[0])\n",
    "X = np.array(nx.attr_matrix(G, node_attr='name')[1])\n",
    "X = np.expand_dims(X,axis=1)\n",
    "\n",
    "print('Shape of A: ', A.shape)\n",
    "print('\\nShape of X: ', X.shape)\n",
    "print('\\nAdjacency Matrix (A):\\n', A)\n",
    "print('\\nNode Features Matrix (X):\\n', X)"
   ]
  },
  {
   "cell_type": "code",
   "execution_count": 3,
   "id": "egyptian-glucose",
   "metadata": {
    "ExecuteTime": {
     "end_time": "2022-10-20T13:31:49.582716Z",
     "start_time": "2022-10-20T13:31:49.578328Z"
    }
   },
   "outputs": [
    {
     "name": "stdout",
     "output_type": "stream",
     "text": [
      "Dot product of A and X (AX):\n",
      " [[6.]\n",
      " [2.]\n",
      " [1.]\n",
      " [9.]\n",
      " [8.]\n",
      " [7.]]\n"
     ]
    }
   ],
   "source": [
    "AX = np.dot(A,X)\n",
    "print(\"Dot product of A and X (AX):\\n\", AX)"
   ]
  },
  {
   "cell_type": "markdown",
   "id": "biblical-canadian",
   "metadata": {},
   "source": [
    "Скалярное произведение матрицы смежности и матрицы эмбеддингов вершин представляет собой сумму эмбеддингов соседних вершин.\n",
    "\n",
    "Но есть проблема. Хотя AX суммирует эмбеддинги смежных вершин, но не принимает во внимание особенности самой вершины"
   ]
  },
  {
   "cell_type": "markdown",
   "id": "happy-transportation",
   "metadata": {},
   "source": [
    "#### Вставка циклов и нормализация A"
   ]
  },
  {
   "cell_type": "code",
   "execution_count": 4,
   "id": "closed-profession",
   "metadata": {
    "ExecuteTime": {
     "end_time": "2022-10-20T13:33:53.196771Z",
     "start_time": "2022-10-20T13:33:53.188710Z"
    }
   },
   "outputs": [
    {
     "name": "stdout",
     "output_type": "stream",
     "text": [
      "Edges of G with self-loops:\n",
      " [(0, 1), (0, 2), (0, 3), (0, 0), (1, 2), (1, 1), (2, 2), (3, 4), (3, 5), (3, 3), (4, 5), (4, 4), (5, 5)]\n",
      "Adjacency Matrix of added self-loops G (A_hat):\n",
      " [[1. 1. 1. 1. 0. 0.]\n",
      " [1. 1. 1. 0. 0. 0.]\n",
      " [1. 1. 1. 0. 0. 0.]\n",
      " [1. 0. 0. 1. 1. 1.]\n",
      " [0. 0. 0. 1. 1. 1.]\n",
      " [0. 0. 0. 1. 1. 1.]]\n",
      "AX:\n",
      " [[ 6.]\n",
      " [ 3.]\n",
      " [ 3.]\n",
      " [12.]\n",
      " [12.]\n",
      " [12.]]\n"
     ]
    }
   ],
   "source": [
    "#Add Self Loops\n",
    "G_self_loops = G.copy()\n",
    "\n",
    "self_loops = []\n",
    "for i in range(G.number_of_nodes()):\n",
    "    self_loops.append((i,i))\n",
    "\n",
    "G_self_loops.add_edges_from(self_loops)\n",
    "\n",
    "#Check the edges of G_self_loops after adding the self loops\n",
    "print('Edges of G with self-loops:\\n', G_self_loops.edges)\n",
    "\n",
    "#Get the Adjacency Matrix (A) and Node Features Matrix (X) of added self-lopps graph\n",
    "A_hat = np.array(nx.attr_matrix(G_self_loops, node_attr='name')[0])\n",
    "print('Adjacency Matrix of added self-loops G (A_hat):\\n', A_hat)\n",
    "\n",
    "#Calculate the dot product of A_hat and X (AX)\n",
    "AX = np.dot(A_hat, X)\n",
    "print('AX:\\n', AX)"
   ]
  },
  {
   "cell_type": "markdown",
   "id": "sophisticated-brooklyn",
   "metadata": {},
   "source": [
    "Теперь есть еще одна проблема. Элементы AX не нормированы. Подобно предварительной обработке данных для любой операции нейронных сетей, нам необходимо нормализовать эмбеддинги, чтобы предотвратить численную нестабильность и исчезающие/взрывающиеся градиенты, чтобы модель сходилась. В GCN мы нормализуем наши данные, вычисляя матрицу степеней (D) и выполняя скалярное произведение обратной матрицы D с AX."
   ]
  },
  {
   "cell_type": "code",
   "execution_count": 10,
   "id": "ideal-african",
   "metadata": {
    "ExecuteTime": {
     "end_time": "2022-10-20T13:42:37.641292Z",
     "start_time": "2022-10-20T13:42:37.597249Z"
    }
   },
   "outputs": [
    {
     "name": "stdout",
     "output_type": "stream",
     "text": [
      "Degree Matrix of added self-loops G (D):  [(0, 5), (1, 4), (2, 4), (3, 5), (4, 4), (5, 4)]\n",
      "Degree Matrix of added self-loops G as numpy array (D):\n",
      " [[5 0 0 0 0 0]\n",
      " [0 4 0 0 0 0]\n",
      " [0 0 4 0 0 0]\n",
      " [0 0 0 5 0 0]\n",
      " [0 0 0 0 4 0]\n",
      " [0 0 0 0 0 4]]\n",
      "Inverse of D:\n",
      " [[0.2  0.   0.   0.   0.   0.  ]\n",
      " [0.   0.25 0.   0.   0.   0.  ]\n",
      " [0.   0.   0.25 0.   0.   0.  ]\n",
      " [0.   0.   0.   0.2  0.   0.  ]\n",
      " [0.   0.   0.   0.   0.25 0.  ]\n",
      " [0.   0.   0.   0.   0.   0.25]]\n",
      "DAX:\n",
      " [[1.2 ]\n",
      " [0.75]\n",
      " [0.75]\n",
      " [2.4 ]\n",
      " [3.  ]\n",
      " [3.  ]]\n"
     ]
    }
   ],
   "source": [
    "#Get the Degree Matrix of the added self-loops graph\n",
    "Deg_Mat = G_self_loops.degree()\n",
    "print('Degree Matrix of added self-loops G (D): ', Deg_Mat)\n",
    "\n",
    "#Convert the Degree Matrix to a N x N matrix where N is the number of nodes\n",
    "D = np.diag([deg for (n,deg) in list(Deg_Mat)])\n",
    "print('Degree Matrix of added self-loops G as numpy array (D):\\n', D)\n",
    "\n",
    "#Find the inverse of Degree Matrix (D)\n",
    "D_inv = np.linalg.inv(D)\n",
    "print('Inverse of D:\\n', D_inv)\n",
    "\n",
    "#Dot product of D and AX for normalization\n",
    "DAX = np.dot(D_inv,AX)\n",
    "print('DAX:\\n', DAX)"
   ]
  },
  {
   "cell_type": "markdown",
   "id": "advance-hunger",
   "metadata": {},
   "source": [
    "Можем увидеть влияние нормализации на DAX, где элемент, соответствующий 3-ей вершине, имеет значения меньше по сравнению с вершинами 4 и 5. Но почему 3-ья вершина имеет другие значения после нормализации, если она имеет то же начальное значение, что и узлы 4 и 5?\n",
    "\n",
    "Еще раз посмотрим на наш граф. Вершина 3 имеет 3 ребра, а вершины 4 и 5 имеют только 2 по ребра. Тот факт, что вершина 3 имеет более высокую степень, чем вершины 4 и 5, приводит к более низкому весу эмбеддингов вершины 3 в DAX. Другими словами, чем ниже степень вершины, тем сильнее принадлежность вершины к определенной группе или кластеру."
   ]
  },
  {
   "cell_type": "markdown",
   "id": "agreed-ontario",
   "metadata": {},
   "source": [
    "В [статье](https://arxiv.org/pdf/1609.02907.pdf) утверждают, что выполнение симметричной нормализации сделает динамику более интересной, поэтому уравнение нормализации изменено:\n",
    "\n",
    "$$normalized features = D^{1/2}AD^{1/2}$$"
   ]
  },
  {
   "cell_type": "code",
   "execution_count": 6,
   "id": "original-retirement",
   "metadata": {
    "ExecuteTime": {
     "end_time": "2022-10-20T13:36:31.525765Z",
     "start_time": "2022-10-20T13:36:31.452300Z"
    }
   },
   "outputs": [
    {
     "name": "stdout",
     "output_type": "stream",
     "text": [
      "DADX:\n",
      " [[1.27082039]\n",
      " [0.75      ]\n",
      " [0.75      ]\n",
      " [2.61246118]\n",
      " [2.92082039]\n",
      " [2.92082039]]\n"
     ]
    }
   ],
   "source": [
    "#Symmetrically-normalization\n",
    "D_half_norm = fractional_matrix_power(D, -0.5)\n",
    "DADX = D_half_norm.dot(A_hat).dot(D_half_norm).dot(X)\n",
    "print('DADX:\\n', DADX)"
   ]
  },
  {
   "cell_type": "markdown",
   "id": "inappropriate-genetics",
   "metadata": {},
   "source": [
    "### Создадим простую GCN сеть"
   ]
  },
  {
   "cell_type": "code",
   "execution_count": 7,
   "id": "departmental-ireland",
   "metadata": {
    "ExecuteTime": {
     "end_time": "2022-10-20T13:38:04.975717Z",
     "start_time": "2022-10-20T13:38:04.941514Z"
    }
   },
   "outputs": [
    {
     "name": "stdout",
     "output_type": "stream",
     "text": [
      "Features Representation from GCN output:\n",
      " [[0.00025561 0.        ]\n",
      " [0.00015929 0.        ]\n",
      " [0.00015929 0.        ]\n",
      " [0.00048822 0.        ]\n",
      " [0.00049817 0.        ]\n",
      " [0.00049817 0.        ]]\n"
     ]
    }
   ],
   "source": [
    "#Initialize the weights\n",
    "np.random.seed(1)\n",
    "n_h = 4 #number of neurons in the hidden layer\n",
    "n_y = 2 #number of neurons in the output layer\n",
    "W0 = np.random.randn(X.shape[1],n_h) * 0.01\n",
    "W1 = np.random.randn(n_h,n_y) * 0.01\n",
    "\n",
    "#Implement ReLu as activation function\n",
    "def relu(x):\n",
    "    return np.maximum(0,x)\n",
    "\n",
    "#Build GCN layer\n",
    "#In this function, we implement numpy to simplify\n",
    "def gcn(A,H,W):\n",
    "    I = np.identity(A.shape[0]) #create Identity Matrix of A\n",
    "    A_hat = A + I #add self-loop to A\n",
    "    D = np.diag(np.sum(A_hat, axis=0)) #create Degree Matrix of A\n",
    "    D_half_norm = fractional_matrix_power(D, -0.5) #calculate D to the power of -0.5\n",
    "    eq = D_half_norm.dot(A_hat).dot(D_half_norm).dot(H).dot(W)\n",
    "    return relu(eq)\n",
    "\n",
    "\n",
    "#Do forward propagation\n",
    "H1 = gcn(A,X,W0)\n",
    "H2 = gcn(A,H1,W1)\n",
    "print('Features Representation from GCN output:\\n', H2)"
   ]
  },
  {
   "cell_type": "code",
   "execution_count": 8,
   "id": "roman-scout",
   "metadata": {
    "ExecuteTime": {
     "end_time": "2022-10-20T13:38:18.509724Z",
     "start_time": "2022-10-20T13:38:18.401978Z"
    }
   },
   "outputs": [
    {
     "data": {
      "image/png": "[encoded data removed]",
      "text/plain": [
       "<Figure size 432x288 with 1 Axes>"
      ]
     },
     "metadata": {
      "needs_background": "light"
     },
     "output_type": "display_data"
    }
   ],
   "source": [
    "def plot_features(H2):\n",
    "    #Plot the features representation\n",
    "    x = H2[:,0]\n",
    "    y = H2[:,1]\n",
    "\n",
    "    size = 1000\n",
    "\n",
    "    plt.scatter(x,y,size)\n",
    "    plt.xlim([np.min(x)*0.9, np.max(x)*1.1])\n",
    "    plt.ylim([-1, 1])\n",
    "    plt.xlabel('Feature Representation Dimension 0')\n",
    "    plt.ylabel('Feature Representation Dimension 1')\n",
    "    plt.title('Feature Representation')\n",
    "\n",
    "    for i,row in enumerate(H2):\n",
    "        str = \"{}\".format(i)\n",
    "        plt.annotate(str, (row[0],row[1]),fontsize=18, fontweight='bold')\n",
    "\n",
    "    plt.show()\n",
    "\n",
    "\n",
    "plot_features(H2)"
   ]
  },
  {
   "cell_type": "markdown",
   "id": "starting-density",
   "metadata": {},
   "source": [
    "Из приведенного выше графа видно, что есть 2 основные группы, где левая группа состоит из узлов 0, 1, 2, а правая группа состоит из узлов 3, 4, 5. Можно сделать вывод, что GCN могут обучиться представлениям даже без обучения или обратного распространения ошибки."
   ]
  },
  {
   "cell_type": "markdown",
   "id": "eligible-familiar",
   "metadata": {
    "ExecuteTime": {
     "end_time": "2022-10-20T09:05:58.426206Z",
     "start_time": "2022-10-20T09:05:58.170847Z"
    }
   },
   "source": [
    "__Выводы:__\n",
    "\n",
    "Термин «свертка» в графовых сверточных сетях похож на сверточные нейронные сети с точки зрения распространения весов. Основное отличие заключается в структуре данных, где GCN — это обобщенная версия CNN, которая может работать с нерегулярными структурами.\n",
    "\n",
    "Вставка матрицы смежности (A) в уравнение прямого прохода GCN позволяет модели изучить особенности соседних узлов. Этот механизм можно рассматривать как операцию передачи сообщений по узлам внутри графа.\n",
    "\n",
    "Renormalization trick используется для нормализации фичей в сверточных сетях Fast Approximate Spectral Graph Convolutional Networks (2017)."
   ]
  },
  {
   "cell_type": "markdown",
   "id": "military-drama",
   "metadata": {},
   "source": [
    "Еще одна [статья](http://tkipf.github.io/graph-convolutional-networks/) для понимания сверточноых слоев в графовых сетях."
   ]
  },
  {
   "cell_type": "markdown",
   "id": "finite-function",
   "metadata": {},
   "source": [
    "## Создание Message Passing сетей"
   ]
  },
  {
   "cell_type": "markdown",
   "id": "instructional-riverside",
   "metadata": {},
   "source": [
    "Далее реализуем слой **GraphSAGE** ([Hamilton et al. (2017)](https://arxiv.org/abs/1706.02216)) напрямую. Затем мы запустим наши модели в наборе данных CORA, который является стандартным набором данных."
   ]
  },
  {
   "cell_type": "code",
   "execution_count": null,
   "id": "freelance-description",
   "metadata": {
    "ExecuteTime": {
     "end_time": "2022-10-20T11:43:01.669045Z",
     "start_time": "2022-10-20T11:43:01.666027Z"
    }
   },
   "outputs": [],
   "source": [
    "# !pip install torch-scatter -f https://pytorch-geometric.com/whl/torch-1.9.0+cu111.html\n",
    "# !pip install torch-sparse -f https://pytorch-geometric.com/whl/torch-1.9.0+cu111.html\n",
    "# !pip install torch-geometric\n",
    "# !pip install -q git+https://github.com/snap-stanford/deepsnap.git"
   ]
  },
  {
   "cell_type": "markdown",
   "id": "prescribed-diamond",
   "metadata": {},
   "source": [
    "Ниже приведена реализация общего модуля GNN, куда мы можем подключить любой слой GNN"
   ]
  },
  {
   "cell_type": "code",
   "execution_count": 28,
   "id": "opening-vessel",
   "metadata": {
    "ExecuteTime": {
     "end_time": "2022-10-20T14:07:37.802785Z",
     "start_time": "2022-10-20T14:07:37.781694Z"
    }
   },
   "outputs": [],
   "source": [
    "import torch\n",
    "import torch_scatter\n",
    "import torch.nn as nn\n",
    "import torch.nn.functional as F\n",
    "\n",
    "import torch_geometric.nn as pyg_nn\n",
    "import torch_geometric.utils as pyg_utils\n",
    "\n",
    "from torch import Tensor\n",
    "from typing import Union, Tuple, Optional\n",
    "from torch_geometric.typing import (OptPairTensor, Adj, Size, NoneType,\n",
    "                                    OptTensor)\n",
    "\n",
    "from torch.nn import Parameter, Linear\n",
    "from torch_sparse import SparseTensor, set_diag\n",
    "from torch_geometric.nn.conv import MessagePassing\n",
    "from torch_geometric.utils import remove_self_loops, add_self_loops, softmax\n",
    "\n",
    "\n",
    "class GNNStack(torch.nn.Module):\n",
    "    def __init__(self, input_dim, hidden_dim, output_dim, args, emb=False):\n",
    "        super(GNNStack, self).__init__()\n",
    "        conv_model = self.build_conv_model(args.model_type)\n",
    "        self.convs = nn.ModuleList()\n",
    "        self.convs.append(conv_model(input_dim, hidden_dim))\n",
    "        assert (args.num_layers >= 1), 'Number of layers is not >=1'\n",
    "        for l in range(args.num_layers-1):\n",
    "            self.convs.append(conv_model(args.heads * hidden_dim, hidden_dim))\n",
    "\n",
    "        # post-message-passing\n",
    "        self.post_mp = nn.Sequential(\n",
    "            nn.Linear(args.heads * hidden_dim, hidden_dim), nn.Dropout(args.dropout), \n",
    "            nn.Linear(hidden_dim, output_dim))\n",
    "\n",
    "        self.dropout = args.dropout\n",
    "        self.num_layers = args.num_layers\n",
    "\n",
    "        self.emb = emb\n",
    "\n",
    "    def build_conv_model(self, model_type):\n",
    "        if model_type == 'GraphSage':\n",
    "            return GraphSage\n",
    "        elif model_type == 'Conv':\n",
    "            return  torch_geometric.nn.GCNConv\n",
    "        else:\n",
    "            raise Exception('Not implemented!') \n",
    "\n",
    "    def forward(self, data):\n",
    "        x, edge_index, batch = data.x, data.edge_index, data.batch\n",
    "          \n",
    "        for i in range(self.num_layers):\n",
    "            x = self.convs[i](x, edge_index)\n",
    "            x = F.relu(x)\n",
    "            x = F.dropout(x, p=self.dropout,training=self.training)\n",
    "\n",
    "        x = self.post_mp(x)\n",
    "\n",
    "        if self.emb == True:\n",
    "            return x\n",
    "\n",
    "        return F.log_softmax(x, dim=1)\n",
    "\n",
    "    def loss(self, pred, label):\n",
    "        return F.nll_loss(pred, label)"
   ]
  },
  {
   "cell_type": "markdown",
   "id": "located-lesson",
   "metadata": {},
   "source": [
    "Теперь приступим к реализации наших собственных Message Passing слоев. Для этого мы будем работать и реализовывать 3 функции, необходимые для передачи и обработки сообщений: `forward`, `message`, и `aggregate`.\n",
    "\n",
    "Пройдемся по ключевым компонентам процесса передачи сообщений. Для этого мы сосредоточимся на передаче сообщений относительно одной центральной вершины $x$. Перед передачей сообщения $x$ связывается с вектором признаков $x^{l-1}$, и целью передачи сообщения является обновление этого вектора признаков как $x^l$. Для этого реализуем следующие шаги: 1) каждый соседний узел $v$ передает свое текущее сообщение $v^{l-1}$ через ребро $(x, v)$ - 2) для узла $x$ , мы объединяем все сообщения соседних узлов (например, через сумму или среднее значение) - и 3) мы преобразуем агрегированную информацию, например, применяя линейные и нелинейные преобразования. В целом процесс передачи сообщений применяется таким образом, что каждый узел $u$ в нашем графе обновляет свое вложение, действуя как центральный узел $x$ на шагах 1-3, описанных выше.\n",
    "\n",
    "Теперь, расширив этот процесс до одного уровня передачи сообщений, задача уровня передачи сообщений заключается в обновлении текущего представления функций или внедрении каждой вершины в граф путем распространения и преобразования информации в графе. В целом, общая парадигма уровней передачи сообщений: 1) предварительная обработка -> 2) **передача сообщения**/распространение -> 3) постобработка.\n",
    "\n",
    "Функция `propagate` инкапсулирует процесс передачи сообщения. Она делает это, вызывая три функции: 1) `message`, 2)  `aggregate`, и 3) `update`. Наша реализация будет немного отличаться от этой, так как мы не будем явно реализовывать `update`, а вместо этого поместим логику для обновления эмбеддингов узлов после передачи сообщения и внутри функции `forward`. После передачи сообщения мы можем дополнительно преобразовать вложения узлов, полученные с помощью `propagate`. И так, выходы из `forward` — это эмбеддинги вершин после одного слоя GNN.\n"
   ]
  },
  {
   "cell_type": "markdown",
   "id": "governmental-guidance",
   "metadata": {},
   "source": [
    "Обсудим подробнее:\n",
    "\n",
    "1. \n",
    "\n",
    "```\n",
    "def propagate(edge_index, x=(x_i, x_j), extra=(extra_i, extra_j), size=size):\n",
    "```\n",
    "Вызов `propagate` инициирует процесс передачи сообщения. Глядя на параметры функции, мы выделим пару ключевых параметров.\n",
    "\n",
    "   - `edge_index` передается forward функции и получает структуру ребер графа.\n",
    "   - `x=(x_i, x_j)` представляет эмбеддинги вершин, которые будут использоваться при передаче сообщений. Чтобы объяснить, почему мы передаем `(x_i, x_j)`, мы сначала посмотрим, как представлены наши ребра. Для каждого ребра $(i, j) \\in \\mathcal{E}$ мы можем дифференцировать $i$ как исходный или центральный узел ($x_{central}$) и j как соседний узел ($x_{neighbor}$).\n",
    "   \n",
    "Взяв пример передачи сообщений выше, для центрального узла $u$ мы будем агрегировать и преобразовывать все сообщения, связанные с узлами $v$ и т.д.  $(u, v) \\in \\mathcal{E}$ (т. е. $v \\in \\mathcal{N}_{u}$). Таким образом, мы видим, что индексы `_i` и `_j` позволяют нам конкретно различать эмбеддинги, связанные с центральными узлами (т. е. узлами, получающими информацию о сообщениях) и соседними узлами (т. е. узлами, передающими сообщения).\n",
    "\n",
    "Одна ключевая вещь, которую следует понимать, заключается в том, что в зависимости от точки зрения узел $x$ действует как центральный узел или соседний узел. Фактически, в неориентированных графах мы храним оба направления ребер (т. е. $(i, j)$ и $(j, i)$). С точки зрения центрального узла, `x_i`, x собирает соседнюю информацию для обновления своего внедрения. С точки зрения соседнего узла, `x_j`, x передает информацию о своем сообщении вдоль ребра, соединяющего его с другим центральным узлом.\n",
    "\n",
    "  - `extra=(extra_i, extra_j)` представляет дополнительную информацию, которую мы можем связать с каждым узлом помимо его текущего внедрения функций. На самом деле, мы можем включить столько дополнительных параметров вида `param=(param_i, param_j)`, сколько захотим. Опять же, мы подчеркиваем, что индексирование с помощью `_i` и `_j` позволяет нам различать центральные и соседние узлы.\n",
    "\n",
    "  Выход функции `propagate` представляет собой матрицу эмбеддингов вершин после процесса передачи сообщения и имеет форму $[N, d]$.\n",
    "\n",
    "2. \n",
    "```\n",
    "def message(x_j, ...):\n",
    "```\n",
    "Функция `message` вызывается функцией propagate и создает сообщения из соседних вершин $j$ с центральными узлами $i$ для каждого ребра $(i, j)$ в *edge_index*. Эта функция может принимать любой аргумент, который изначально был передан в функцию `propagate`. Кроме того, мы снова можем различать центральные узлы и соседние узлы, добавляя `_i` или `_j` к имени переменной, т.е. `x_i` и `x_j`. Глядя более конкретно на переменные, мы имеем:\n",
    "\n",
    "   - `x_j` представляет собой матрицу эмбеддингов признаков для всех соседних узлов, передающих свои сообщения по соответствующему ребру (т. е. все узлы $j$ для рёбер $(i, j) \\in \\mathcal{E}$). Таким образом, его форма равна $[|\\mathcal{E}|, d]$!\n",
    "\n",
    "  Важно, что выход `message` функции представляет собой матрицу эмбеддингов соседних узлов, готовую к агрегированию, имеющую форму $[|\\mathcal{E}|, d]$.\n",
    "\n",
    "3. \n",
    "```\n",
    "def aggregate(self, inputs, index, dim_size = None):\n",
    "```\n",
    "Наконец, функция `aggregate` используется для агрегирования сообщений от соседних вершин:\n",
    "\n",
    "   - `inputs` представляют собой матрицу сообщений, переданных от соседних узлов (т.е. вывод функции `message`).\n",
    "   - `index` имеет ту же форму, что и `inputs`, и сообщает нам центральный узел, соответствующий каждой из строк/сообщений $j$ в матрице `inputs`. Таким образом, `index` говорит нам, какие строки/сообщения агрегировать для каждого центрального узла.\n",
    "\n",
    "   Выход `aggregate` имеет форму $[N, d]$.\n",
    "   \n",
    "Дополнительные ресурсы см. в документации PyG для реализации своих Message Passing слоев: https://pytorch-geometric.readthedocs.io/en/latest/notes/create_gnn.html."
   ]
  },
  {
   "cell_type": "markdown",
   "id": "verbal-mentor",
   "metadata": {},
   "source": [
    "Теперь реализуем свой слой GraphSage ([Hamilton et al. (2017)](https://arxiv.org/abs/1706.02216))\n",
    "\n",
    "Для данного *центрального* узла $v$ с текущим эмбеддингом $h_v^{l-1}$ правило обновления передачи сообщений для преобразования $h_v^{l-1} \\rightarrow h_v^l$ выглядит следующим образом:\n",
    "\n",
    "\\begin{equation}\n",
    "h_v^{(l)} = W_l\\cdot h_v^{(l-1)} + W_r \\cdot AGG(\\{h_u^{(l-1)}, \\forall u \\in N(v) \\})\n",
    "\\end{equation}\n",
    "\n",
    "где $W_1$ и $W_2$ — обучамые матрицы весов, а узлы $u$ — *соседние* узлы. Кроме того, для простоты мы используем среднее агрегирование:\n",
    "\n",
    "\\begin{equation}\n",
    "AGG(\\{h_u^{(l-1)}, \\forall u \\in N(v) \\}) = \\frac{1}{|N(v)|} \\sum_{u\\in N(v)} h_u^{(l-1)}\n",
    "\\end{equation}\n",
    "\n",
    "Следует отметить, что мы добавляем **skip connections** в нашу реализацию GraphSage через $W_l\\cdot h_v^{(l-1)}$.\n",
    "\n",
    "Наконец, после каждой итерации применяется L-2 нормализация эмбеддингов вершин."
   ]
  },
  {
   "cell_type": "code",
   "execution_count": 19,
   "id": "endangered-sudan",
   "metadata": {
    "ExecuteTime": {
     "end_time": "2022-10-20T14:03:07.322189Z",
     "start_time": "2022-10-20T14:03:07.313612Z"
    }
   },
   "outputs": [],
   "source": [
    "class GraphSage(MessagePassing):\n",
    "    def __init__(self, in_channels, out_channels, normalize=True,\n",
    "                 bias=False, **kwargs):\n",
    "        super(GraphSage, self).__init__(**kwargs)\n",
    "\n",
    "        self.in_channels = in_channels\n",
    "        self.out_channels = out_channels\n",
    "        self.normalize = normalize\n",
    "\n",
    "        self.lin_l = torch.nn.Linear(in_channels, out_channels, bias=bias)\n",
    "        self.lin_r = torch.nn.Linear(in_channels, out_channels, bias=bias)\n",
    "\n",
    "        self.reset_parameters()\n",
    "\n",
    "    def reset_parameters(self):\n",
    "        self.lin_l.reset_parameters()\n",
    "        self.lin_r.reset_parameters()\n",
    "\n",
    "    def forward(self, x, edge_index, size=None):\n",
    "        # x is shape (N, in_c)\n",
    "        neighbor_out = self.propagate(edge_index, x=(x, x), size=size)\n",
    "        out = self.lin_l(x) + self.lin_r(neighbor_out)\n",
    "        if self.normalize:\n",
    "            out = torch.nn.functional.normalize(out, p=2)\n",
    "\n",
    "        return out\n",
    "\n",
    "    def message(self, x_j):\n",
    "        # x_j has shape (E, d)\n",
    "        out = x_j\n",
    "        return out\n",
    "\n",
    "    def aggregate(self, inputs, index, dim_size=None):\n",
    "        node_dim = self.node_dim\n",
    "\n",
    "        out = torch_scatter.scatter(inputs, index, dim=node_dim, reduce='mean')\n",
    "\n",
    "        return out\n"
   ]
  },
  {
   "cell_type": "code",
   "execution_count": 20,
   "id": "considered-letter",
   "metadata": {
    "ExecuteTime": {
     "end_time": "2022-10-20T14:03:08.726980Z",
     "start_time": "2022-10-20T14:03:08.719358Z"
    }
   },
   "outputs": [],
   "source": [
    "import torch.optim as optim\n",
    "\n",
    "\n",
    "def build_optimizer(args, params):\n",
    "    weight_decay = args.weight_decay\n",
    "    filter_fn = filter(lambda p : p.requires_grad, params)\n",
    "    if args.opt == 'adam':\n",
    "        optimizer = optim.Adam(filter_fn, lr=args.lr, weight_decay=weight_decay)\n",
    "    elif args.opt == 'sgd':\n",
    "        optimizer = optim.SGD(filter_fn, lr=args.lr, momentum=0.95, weight_decay=weight_decay)\n",
    "    elif args.opt == 'rmsprop':\n",
    "        optimizer = optim.RMSprop(filter_fn, lr=args.lr, weight_decay=weight_decay)\n",
    "    elif args.opt == 'adagrad':\n",
    "        optimizer = optim.Adagrad(filter_fn, lr=args.lr, weight_decay=weight_decay)\n",
    "    if args.opt_scheduler is None:\n",
    "        return None, optimizer\n",
    "    elif args.opt_scheduler == 'step':\n",
    "        scheduler = optim.lr_scheduler.StepLR(optimizer, step_size=args.opt_decay_step, gamma=args.opt_decay_rate)\n",
    "    elif args.opt_scheduler == 'cos':\n",
    "        scheduler = optim.lr_scheduler.CosineAnnealingLR(optimizer, T_max=args.opt_restart)\n",
    "    return scheduler, optimizer"
   ]
  },
  {
   "cell_type": "markdown",
   "id": "southern-lottery",
   "metadata": {},
   "source": [
    "### Обучение GNN"
   ]
  },
  {
   "cell_type": "code",
   "execution_count": 21,
   "id": "raised-elements",
   "metadata": {
    "ExecuteTime": {
     "end_time": "2022-10-20T14:03:44.039822Z",
     "start_time": "2022-10-20T14:03:43.702021Z"
    }
   },
   "outputs": [],
   "source": [
    "import time\n",
    "\n",
    "import networkx as nx\n",
    "import numpy as np\n",
    "import torch\n",
    "import torch.optim as optim\n",
    "from tqdm import trange\n",
    "import pandas as pd\n",
    "import copy\n",
    "\n",
    "from torch_geometric.datasets import TUDataset\n",
    "from torch_geometric.datasets import Planetoid\n",
    "from torch_geometric.data import DataLoader\n",
    "\n",
    "import torch_geometric.nn as pyg_nn\n",
    "\n",
    "import matplotlib.pyplot as plt\n",
    "\n",
    "\n",
    "def train(dataset, args):\n",
    "    \n",
    "    print(\"Node task. test set size:\", np.sum(dataset[0]['test_mask'].numpy()))\n",
    "    print()\n",
    "    test_loader = loader = DataLoader(dataset, batch_size=args.batch_size, shuffle=False)\n",
    "\n",
    "    # build model\n",
    "    model = GNNStack(dataset.num_node_features, args.hidden_dim, dataset.num_classes, \n",
    "                            args)\n",
    "    scheduler, opt = build_optimizer(args, model.parameters())\n",
    "\n",
    "    # train\n",
    "    losses = []\n",
    "    test_accs = []\n",
    "    best_acc = 0\n",
    "    best_model = None\n",
    "    for epoch in trange(args.epochs, desc=\"Training\", unit=\"Epochs\"):\n",
    "        total_loss = 0\n",
    "        model.train()\n",
    "        for batch in loader:\n",
    "            opt.zero_grad()\n",
    "            pred = model(batch)\n",
    "            label = batch.y\n",
    "            pred = pred[batch.train_mask]\n",
    "            label = label[batch.train_mask]\n",
    "            loss = model.loss(pred, label)\n",
    "            loss.backward()\n",
    "            opt.step()\n",
    "            total_loss += loss.item() * batch.num_graphs\n",
    "        total_loss /= len(loader.dataset)\n",
    "        losses.append(total_loss)\n",
    "\n",
    "        if epoch % 10 == 0:\n",
    "            test_acc = test(test_loader, model)\n",
    "            test_accs.append(test_acc)\n",
    "            if test_acc > best_acc:\n",
    "                best_acc = test_acc\n",
    "                best_model = copy.deepcopy(model)\n",
    "        else:\n",
    "            test_accs.append(test_accs[-1])\n",
    "    \n",
    "    return test_accs, losses, best_model, best_acc, test_loader\n",
    "\n",
    "def test(loader, test_model, is_validation=False, save_model_preds=False, model_type=None):\n",
    "    test_model.eval()\n",
    "\n",
    "    correct = 0\n",
    "    # Note that Cora is only one graph!\n",
    "    for data in loader:\n",
    "        with torch.no_grad():\n",
    "            # max(dim=1) returns values, indices tuple; only need indices\n",
    "            pred = test_model(data).max(dim=1)[1]\n",
    "            label = data.y\n",
    "\n",
    "        mask = data.val_mask if is_validation else data.test_mask\n",
    "        # node classification: only evaluate on nodes in test set\n",
    "        pred = pred[mask]\n",
    "        label = label[mask]\n",
    "\n",
    "        if save_model_preds:\n",
    "            print (\"Saving Model Predictions for Model Type\", model_type)\n",
    "\n",
    "            data = {}\n",
    "            data['pred'] = pred.view(-1).cpu().detach().numpy()\n",
    "            data['label'] = label.view(-1).cpu().detach().numpy()\n",
    "\n",
    "            df = pd.DataFrame(data=data)\n",
    "            # Save locally as csv\n",
    "            df.to_csv('CORA-Node-' + model_type + '.csv', sep=',', index=False)\n",
    "            \n",
    "        correct += pred.eq(label).sum().item()\n",
    "\n",
    "    total = 0\n",
    "    for data in loader.dataset:\n",
    "        total += torch.sum(data.val_mask if is_validation else data.test_mask).item()\n",
    "\n",
    "    return correct / total\n",
    "  \n",
    "class ObjectView(object):\n",
    "    def __init__(self, d):\n",
    "        self.__dict__ = d\n"
   ]
  },
  {
   "cell_type": "code",
   "execution_count": 22,
   "id": "fuzzy-worthy",
   "metadata": {
    "ExecuteTime": {
     "end_time": "2022-10-20T14:03:52.957829Z",
     "start_time": "2022-10-20T14:03:52.952176Z"
    }
   },
   "outputs": [],
   "source": [
    "args = {\n",
    "    'model_type': 'GraphSage',\n",
    "    'dataset': 'cora',\n",
    "    'num_layers': 2,\n",
    "    'heads': 1,\n",
    "    'batch_size': 32,\n",
    "    'hidden_dim': 32,\n",
    "    'dropout': 0.5,\n",
    "    'epochs': 500,\n",
    "    'opt': 'adam',\n",
    "    'opt_scheduler': None,\n",
    "    'opt_restart': 0,\n",
    "    'weight_decay': 5e-3,\n",
    "    'lr': 0.01\n",
    "}"
   ]
  },
  {
   "cell_type": "code",
   "execution_count": 23,
   "id": "compliant-leather",
   "metadata": {
    "ExecuteTime": {
     "end_time": "2022-10-20T14:03:53.148380Z",
     "start_time": "2022-10-20T14:03:53.145157Z"
    }
   },
   "outputs": [],
   "source": [
    "args = ObjectView(args)"
   ]
  },
  {
   "cell_type": "code",
   "execution_count": 27,
   "id": "rapid-neighbor",
   "metadata": {
    "ExecuteTime": {
     "end_time": "2022-10-20T14:05:15.308441Z",
     "start_time": "2022-10-20T14:05:15.176962Z"
    },
    "scrolled": true
   },
   "outputs": [
    {
     "name": "stdout",
     "output_type": "stream",
     "text": [
      "Maximum test set accuracy: 0.79\n",
      "Minimum loss: 0.10159359127283096\n",
      "Saving Model Predictions for Model Type GraphSage\n",
      "\n"
     ]
    },
    {
     "data": {
      "image/png": "[encoded data removed]",
      "text/plain": [
       "<Figure size 432x288 with 1 Axes>"
      ]
     },
     "metadata": {
      "needs_background": "light"
     },
     "output_type": "display_data"
    }
   ],
   "source": [
    "model = 'GraphSage'\n",
    "if args.dataset == 'cora':\n",
    "    dataset = Planetoid(root='/tmp/cora', name='Cora')\n",
    "else:\n",
    "    raise NotImplementedError(\"Unknown dataset\") \n",
    "test_accs, losses, best_model, best_acc, test_loader = train(dataset, args) \n",
    "\n",
    "print(\"Maximum test set accuracy: {0}\".format(max(test_accs)))\n",
    "print(\"Minimum loss: {0}\".format(min(losses)))\n",
    "\n",
    "# Run test for our best model to save the predictions!\n",
    "test(test_loader, best_model, is_validation=False, save_model_preds=True, model_type=model)\n",
    "print()\n",
    "\n",
    "plt.title(dataset.name)\n",
    "plt.plot(losses, label=\"training loss\" + \" - \" + args.model_type)\n",
    "plt.plot(test_accs, label=\"test accuracy\" + \" - \" + args.model_type)\n",
    "plt.legend()\n",
    "plt.show()"
   ]
  },
  {
   "cell_type": "code",
   "execution_count": 31,
   "id": "residential-pittsburgh",
   "metadata": {
    "ExecuteTime": {
     "end_time": "2022-10-20T14:09:39.499438Z",
     "start_time": "2022-10-20T14:09:14.871648Z"
    }
   },
   "outputs": [
    {
     "name": "stdout",
     "output_type": "stream",
     "text": [
      "Node task. test set size: 1000\n",
      "\n"
     ]
    },
    {
     "name": "stderr",
     "output_type": "stream",
     "text": [
      "Training: 100%|███████████████████████████| 500/500 [00:24<00:00, 20.40Epochs/s]\n"
     ]
    },
    {
     "name": "stdout",
     "output_type": "stream",
     "text": [
      "Maximum test set accuracy: 0.785\n",
      "Minimum loss: 0.05334124714136124\n",
      "Saving Model Predictions for Model Type Conv\n",
      "\n"
     ]
    },
    {
     "data": {
      "image/png": "[encoded data removed]",
      "text/plain": [
       "<Figure size 432x288 with 1 Axes>"
      ]
     },
     "metadata": {
      "needs_background": "light"
     },
     "output_type": "display_data"
    }
   ],
   "source": [
    "args = {\n",
    "    'model_type': 'GraphSage',\n",
    "    'dataset': 'cora',\n",
    "    'num_layers': 4,\n",
    "    'heads': 1,\n",
    "    'batch_size': 32,\n",
    "    'hidden_dim': 32,\n",
    "    'dropout': 0.3,\n",
    "    'epochs': 500,\n",
    "    'opt': 'adam',\n",
    "    'opt_scheduler': None,\n",
    "    'opt_restart': 0,\n",
    "    'weight_decay': 5e-3,\n",
    "    'lr': 0.01\n",
    "}\n",
    "args = ObjectView(args)\n",
    "model = 'Conv'\n",
    "if args.dataset == 'cora':\n",
    "    dataset = Planetoid(root='/tmp/cora', name='Cora')\n",
    "else:\n",
    "    raise NotImplementedError(\"Unknown dataset\") \n",
    "test_accs, losses, best_model, best_acc, test_loader = train(dataset, args) \n",
    "\n",
    "print(\"Maximum test set accuracy: {0}\".format(max(test_accs)))\n",
    "print(\"Minimum loss: {0}\".format(min(losses)))\n",
    "\n",
    "# Run test for our best model to save the predictions!\n",
    "test(test_loader, best_model, is_validation=False, save_model_preds=True, model_type=model)\n",
    "print()\n",
    "\n",
    "plt.title(dataset.name)\n",
    "plt.plot(losses, label=\"training loss\" + \" - \" + args.model_type)\n",
    "plt.plot(test_accs, label=\"test accuracy\" + \" - \" + args.model_type)\n",
    "plt.legend()\n",
    "plt.show()"
   ]
  },
  {
   "cell_type": "code",
   "execution_count": null,
   "id": "cultural-butterfly",
   "metadata": {},
   "outputs": [],
   "source": []
  }
 ],
 "metadata": {
  "kernelspec": {
   "display_name": "m1Max",
   "language": "python",
   "name": "m1max"
  },
  "language_info": {
   "codemirror_mode": {
    "name": "ipython",
    "version": 3
   },
   "file_extension": ".py",
   "mimetype": "text/x-python",
   "name": "python",
   "nbconvert_exporter": "python",
   "pygments_lexer": "ipython3",
   "version": "3.8.13"
  }
 },
 "nbformat": 4,
 "nbformat_minor": 5
}

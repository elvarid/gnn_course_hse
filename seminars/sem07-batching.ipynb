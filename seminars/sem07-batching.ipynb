{
  "cells": [
    {
      "cell_type": "markdown",
      "id": "30fe040d",
      "metadata": {
        "id": "30fe040d"
      },
      "source": [
        "# Глубинное обучение в анализе графовых данных, ПМИ ВШЭ\n",
        "\n",
        "## Семинар 7"
      ]
    },
    {
      "cell_type": "markdown",
      "id": "f98660cd",
      "metadata": {
        "id": "f98660cd"
      },
      "source": [
        "## Масштабирование графовых нейронных сетей\n",
        "\n",
        "До сих пор мы обучали нейронные сети для задач классификации узлов исключительно в full-batch режиме.\n",
        "В частности, это означает, что скрытое представление каждого узла вычислялось параллельно и было доступно для повторного использования на следующем уровне.\n",
        "\n",
        "Однако, как только мы хотим работать с большими графами, эта схема становится неприменимой, поскольку потребление памяти резко возрастает.\n",
        "Например, граф с примерно 10 миллионами узлов и размерностью скрытых признаков 128 уже потребляет около **5 ГБ памяти графического процессора для каждого слоя**."
      ]
    },
    {
      "cell_type": "markdown",
      "id": "dff82017",
      "metadata": {
        "id": "dff82017"
      },
      "source": [
        "**Deep Graph Library (DGL)** — это библиотека Python, созданная для простой реализации моделей графовых нейронных сетей поверх существующих сред DL (в настоящее время поддерживающих PyTorch, MXNet и TensorFlow). Она предлагает универсальный контроль передачи сообщений, оптимизацию скорости с помощью автоматической batch обработки и поддержку разреженных матриц, а также обучение на нескольких GPU/CPU для масштабирования графов с сотнями миллионов узлов и ребер."
      ]
    },
    {
      "cell_type": "code",
      "execution_count": 26,
      "id": "f0277a26",
      "metadata": {
        "id": "f0277a26"
      },
      "outputs": [],
      "source": [
        "# import torch\n",
        "\n",
        "# !pip uninstall torch-scatter torch-sparse torch-geometric torch-cluster  --y\n",
        "# !pip install torch-scatter -f https://data.pyg.org/whl/torch-{torch.__version__}.html\n",
        "# !pip install torch-sparse -f https://data.pyg.org/whl/torch-{torch.__version__}.html\n",
        "# !pip install torch-cluster -f https://data.pyg.org/whl/torch-{torch.__version__}.html\n",
        "# !pip install git+https://github.com/pyg-team/pytorch_geometric.git\n",
        "# !pip install dgl-cu113 dglgo -f https://data.dgl.ai/wheels/repo.html\n",
        "# !pip install ogb"
      ]
    },
    {
      "cell_type": "markdown",
      "id": "88c6e9ef",
      "metadata": {
        "id": "88c6e9ef"
      },
      "source": [
        "### Neighbor Sampling for GNN Training"
      ]
    },
    {
      "cell_type": "markdown",
      "id": "10f10b7c",
      "metadata": {
        "id": "10f10b7c"
      },
      "source": [
        "![](https://data.dgl.ai/tutorial/img/sampling.gif)\n",
        "\n",
        "Видно, что для вычисления 5 узла из второго уровня требуются представления первого слоя его соседей (выделены желтым), которые, в свою очередь, нуждаются в представлениях их соседей (то есть соседей узла 5 по второму узлу) (выделены зеленым цветом)."
      ]
    },
    {
      "cell_type": "markdown",
      "id": "bc496bca",
      "metadata": {
        "id": "bc496bca"
      },
      "source": [
        "Также видно, что представление для небольшого числа узлов часто требует входных признаков значительно большего числа узлов. Взятие всех соседей для агрегации сообщений часто обходится слишком дорого, поскольку вершины, необходимые для входных функций, легко покрывают большую часть графа, особенно для реальных графов, которые часто не масштабируются.\n",
        "\n",
        "Выборка соседей решает эту проблему, выбирая подмножество соседей для выполнения агрегирования. Например, чтобы вычислить $h^{(2)}_5$, можно выбрать двух соседей вместо всех для агрегирования, как в следующей анимации:\n",
        "\n",
        "![](https://data.dgl.ai/tutorial/img/bipartite.gif)"
      ]
    },
    {
      "cell_type": "markdown",
      "id": "deb9ac03",
      "metadata": {
        "id": "deb9ac03"
      },
      "source": [
        "Этот метод использует гораздо меньше узлов, необходимых для передачи сообщений для одного мини-батча.\n",
        "\n",
        "Также вычислительные зависимости в анимации выше можно описать как серию двудольных графов. Выходные узлы (называемые узлами назначения) находятся на одной стороне, а все узлы, необходимые для ввода (называемые исходными узлами), — на другой стороне. Стрелки показывают, как выбранные соседи передают сообщения узлам. DGL называет такие графы графами потока сообщений (MFG)."
      ]
    },
    {
      "cell_type": "code",
      "execution_count": 2,
      "id": "8a57683b",
      "metadata": {
        "ExecuteTime": {
          "end_time": "2022-11-17T12:01:07.127281Z",
          "start_time": "2022-11-17T12:01:06.224414Z"
        },
        "id": "8a57683b"
      },
      "outputs": [],
      "source": [
        "import dgl\n",
        "import torch\n",
        "import numpy as np\n",
        "from ogb.nodeproppred import DglNodePropPredDataset\n",
        "\n",
        "import warnings\n",
        "warnings.filterwarnings(\"ignore\")\n",
        "\n",
        "dataset = DglNodePropPredDataset('ogbn-arxiv')  # 'ogbn-mag'\n",
        "device = 'cuda'"
      ]
    },
    {
      "cell_type": "code",
      "execution_count": 3,
      "id": "1546fa04",
      "metadata": {
        "ExecuteTime": {
          "end_time": "2022-11-17T09:46:45.623364Z",
          "start_time": "2022-11-17T09:46:45.579302Z"
        },
        "colab": {
          "base_uri": "https://localhost:8080/"
        },
        "id": "1546fa04",
        "outputId": "b4264673-c38a-4644-a998-50de3cb5d759"
      },
      "outputs": [
        {
          "output_type": "stream",
          "name": "stdout",
          "text": [
            "Graph(num_nodes=169343, num_edges=2332486,\n",
            "      ndata_schemes={'year': Scheme(shape=(1,), dtype=torch.int64), 'feat': Scheme(shape=(128,), dtype=torch.float32), 'label': Scheme(shape=(), dtype=torch.int64)}\n",
            "      edata_schemes={})\n",
            "tensor([[ 4],\n",
            "        [ 5],\n",
            "        [28],\n",
            "        ...,\n",
            "        [10],\n",
            "        [ 4],\n",
            "        [ 1]])\n",
            "Number of classes: 40\n"
          ]
        }
      ],
      "source": [
        "graph, node_labels = dataset[0]\n",
        "# Add reverse edges since ogbn-arxiv is unidirectional.\n",
        "graph = dgl.add_reverse_edges(graph)\n",
        "graph.ndata['label'] = node_labels[:, 0]\n",
        "print(graph)\n",
        "print(node_labels)\n",
        "\n",
        "node_features = graph.ndata['feat']\n",
        "num_features = node_features.shape[1]\n",
        "num_classes = (node_labels.max() + 1).item()\n",
        "print('Number of classes:', num_classes)"
      ]
    },
    {
      "cell_type": "code",
      "execution_count": 4,
      "id": "48d3d0a7",
      "metadata": {
        "ExecuteTime": {
          "end_time": "2022-11-17T09:46:45.641592Z",
          "start_time": "2022-11-17T09:46:45.625167Z"
        },
        "id": "48d3d0a7"
      },
      "outputs": [],
      "source": [
        "idx_split = dataset.get_idx_split()\n",
        "train_nids = idx_split['train']\n",
        "valid_nids = idx_split['valid']\n",
        "test_nids = idx_split['test']"
      ]
    },
    {
      "cell_type": "markdown",
      "id": "56a5f558",
      "metadata": {
        "id": "56a5f558"
      },
      "source": [
        "DGL предоставляет инструменты для перебора набора данных в мини-батчах при создании вычислительных зависимостей для вычисления их выходных данных с помощью приведенных выше MFG. Для классификации узлов можно использовать ```dgl.dataloading.DataLoader``` для перебора набора данных. Он принимает объект сэмплера для управления, как генерировать вычислительные зависимости в форме MFG. DGL предоставляет реализации общих алгоритмов выборки, таких как ```dgl.dataloading.NeighborSampler```, который случайным образом выбирает фиксированное количество соседей для каждого узла.\n",
        "\n",
        "Синтаксис ```dgl.dataloading.DataLoader``` похож на PyTorch DataLoader, за исключением того, что ему нужен граф для создания вычислительной зависимости, набор идентификаторов узлов для итерации и определенный вами сэмплер.\n",
        "\n",
        "Допустим, каждая вершина будет собирать сообщения от 4-х соседей на каждом слое. Код, определяющий dataloader и сэмплер соседей, будет выглядеть следующим образом:"
      ]
    },
    {
      "cell_type": "code",
      "execution_count": 5,
      "id": "e245c9ef",
      "metadata": {
        "ExecuteTime": {
          "end_time": "2022-11-17T09:46:45.733559Z",
          "start_time": "2022-11-17T09:46:45.642434Z"
        },
        "id": "e245c9ef"
      },
      "outputs": [],
      "source": [
        "sampler = dgl.dataloading.NeighborSampler([4, 4])\n",
        "train_dataloader = dgl.dataloading.DataLoader(\n",
        "    # The following arguments are specific to DGL's DataLoader.\n",
        "    graph,              # The graph\n",
        "    train_nids,         # The node IDs to iterate over in minibatches\n",
        "    sampler,            # The neighbor sampler\n",
        "    device=device,      # Put the sampled MFGs on CPU or GPU\n",
        "    # The following arguments are inherited from PyTorch DataLoader.\n",
        "    batch_size=1024,    # Batch size\n",
        "    shuffle=True,       # Whether to shuffle the nodes for every epoch\n",
        "    drop_last=False,    # Whether to drop the last incomplete batch\n",
        "    num_workers=0       # Number of sampler processes\n",
        ")"
      ]
    },
    {
      "cell_type": "code",
      "execution_count": 6,
      "id": "b7ab0bb0",
      "metadata": {
        "ExecuteTime": {
          "end_time": "2022-11-17T09:46:45.771230Z",
          "start_time": "2022-11-17T09:46:45.734614Z"
        },
        "colab": {
          "base_uri": "https://localhost:8080/"
        },
        "id": "b7ab0bb0",
        "outputId": "25af2a2f-72f1-421c-fb29-d83fa65b7b96"
      },
      "outputs": [
        {
          "output_type": "stream",
          "name": "stdout",
          "text": [
            "[tensor([ 11969, 119209,  32097,  ..., 158450,  99417, 119204], device='cuda:0'), tensor([ 11969, 119209,  32097,  ..., 128459,  76562,  49214], device='cuda:0'), [Block(num_src_nodes=12637, num_dst_nodes=4045, num_edges=14556), Block(num_src_nodes=4045, num_dst_nodes=1024, num_edges=3242)]]\n",
            "To compute 1024 nodes' outputs, we need 12637 nodes' input features\n"
          ]
        }
      ],
      "source": [
        "input_nodes, output_nodes, mfgs = example_minibatch = next(iter(train_dataloader))\n",
        "print(example_minibatch)\n",
        "print(\"To compute {} nodes' outputs, we need {} nodes' input features\".format(len(output_nodes), len(input_nodes)))"
      ]
    },
    {
      "cell_type": "markdown",
      "id": "49873370",
      "metadata": {
        "id": "49873370"
      },
      "source": [
        "DataLoader DGL дает нам три объекта на итерацию.\n",
        "\n",
        "- ID Тензор для входных узлов, т. е. узлов, чьи входные признаки необходимы на первом слое GNN для этого мини-батча.\n",
        "- ID Тензор для выходных узлов, т. е. узлов, представления которых должны быть вычислены.\n",
        "- Список MFG, в которых хранятся зависимости вычислений для каждого слоя GNN.\n",
        "\n",
        "Вы можете получить идентификаторы исходного и целевого узлов MFG и убедиться, что первые несколько исходных узлов всегда совпадают с целевыми узлами."
      ]
    },
    {
      "cell_type": "code",
      "execution_count": 7,
      "id": "380a5222",
      "metadata": {
        "ExecuteTime": {
          "end_time": "2022-11-17T09:46:45.778063Z",
          "start_time": "2022-11-17T09:46:45.773767Z"
        },
        "colab": {
          "base_uri": "https://localhost:8080/"
        },
        "id": "380a5222",
        "outputId": "5330dd46-ad38-4fd3-f944-708165d1b446"
      },
      "outputs": [
        {
          "output_type": "stream",
          "name": "stdout",
          "text": [
            "tensor([ 11969, 119209,  32097,  ..., 158450,  99417, 119204], device='cuda:0')\n",
            "tensor([ 11969, 119209,  32097,  ...,   3123,  48935,  80979], device='cuda:0')\n",
            "True\n"
          ]
        }
      ],
      "source": [
        "mfg_0_src = mfgs[0].srcdata[dgl.NID]\n",
        "mfg_0_dst = mfgs[0].dstdata[dgl.NID]\n",
        "print(mfg_0_src)\n",
        "print(mfg_0_dst)\n",
        "print(torch.equal(mfg_0_src[:mfgs[0].num_dst_nodes()], mfg_0_dst))"
      ]
    },
    {
      "cell_type": "code",
      "execution_count": 8,
      "id": "6973b038",
      "metadata": {
        "ExecuteTime": {
          "end_time": "2022-11-17T09:47:03.255518Z",
          "start_time": "2022-11-17T09:47:03.246924Z"
        },
        "id": "6973b038"
      },
      "outputs": [],
      "source": [
        "import torch.nn as nn\n",
        "import torch.nn.functional as F\n",
        "from dgl.nn import SAGEConv\n",
        "\n",
        "\n",
        "class Model(nn.Module):\n",
        "    def __init__(self, in_feats, h_feats, num_classes):\n",
        "        super(Model, self).__init__()\n",
        "        self.conv1 = SAGEConv(in_feats, h_feats, aggregator_type='mean')\n",
        "        self.conv2 = SAGEConv(h_feats, num_classes, aggregator_type='mean')\n",
        "        self.h_feats = h_feats\n",
        "\n",
        "    def forward(self, mfgs, x):\n",
        "        h_dst = x[:mfgs[0].num_dst_nodes()]\n",
        "        h = self.conv1(mfgs[0], (x, h_dst))\n",
        "        h = F.relu(h)\n",
        "        h_dst = h[:mfgs[1].num_dst_nodes()]\n",
        "        h = self.conv2(mfgs[1], (h, h_dst))\n",
        "        return h\n",
        "\n",
        "\n",
        "model = Model(num_features, 128, num_classes).to(device)"
      ]
    },
    {
      "cell_type": "code",
      "execution_count": 9,
      "id": "3bc84158",
      "metadata": {
        "ExecuteTime": {
          "end_time": "2022-11-17T09:47:03.404163Z",
          "start_time": "2022-11-17T09:47:03.400812Z"
        },
        "id": "3bc84158"
      },
      "outputs": [],
      "source": [
        "opt = torch.optim.Adam(model.parameters())"
      ]
    },
    {
      "cell_type": "code",
      "execution_count": 10,
      "id": "3146ffbc",
      "metadata": {
        "ExecuteTime": {
          "end_time": "2022-11-17T09:47:03.780574Z",
          "start_time": "2022-11-17T09:47:03.775097Z"
        },
        "id": "3146ffbc"
      },
      "outputs": [],
      "source": [
        "valid_dataloader = dgl.dataloading.DataLoader(\n",
        "    graph, valid_nids, sampler,\n",
        "    batch_size=1024,\n",
        "    shuffle=False,\n",
        "    drop_last=False,\n",
        "    num_workers=0,\n",
        "    device=device\n",
        ")"
      ]
    },
    {
      "cell_type": "code",
      "execution_count": 11,
      "id": "6275ed72",
      "metadata": {
        "ExecuteTime": {
          "end_time": "2022-11-17T09:48:20.611196Z",
          "start_time": "2022-11-17T09:47:38.300808Z"
        },
        "colab": {
          "base_uri": "https://localhost:8080/"
        },
        "id": "6275ed72",
        "outputId": "e4db9f13-4d4a-4c98-eda9-755e03634fa6"
      },
      "outputs": [
        {
          "output_type": "stream",
          "name": "stderr",
          "text": [
            "100%|██████████| 89/89 [00:05<00:00, 15.32it/s, loss=1.970, acc=0.492]\n",
            "100%|██████████| 30/30 [00:00<00:00, 51.64it/s]\n"
          ]
        },
        {
          "output_type": "stream",
          "name": "stdout",
          "text": [
            "Epoch 0 Validation Accuracy 0.551729923822947\n"
          ]
        },
        {
          "output_type": "stream",
          "name": "stderr",
          "text": [
            "100%|██████████| 89/89 [00:01<00:00, 46.29it/s, loss=1.460, acc=0.586]\n",
            "100%|██████████| 30/30 [00:00<00:00, 52.26it/s]\n"
          ]
        },
        {
          "output_type": "stream",
          "name": "stdout",
          "text": [
            "Epoch 1 Validation Accuracy 0.6150541964495453\n"
          ]
        },
        {
          "output_type": "stream",
          "name": "stderr",
          "text": [
            "100%|██████████| 89/89 [00:01<00:00, 47.57it/s, loss=1.281, acc=0.627]\n",
            "100%|██████████| 30/30 [00:00<00:00, 53.71it/s]\n"
          ]
        },
        {
          "output_type": "stream",
          "name": "stdout",
          "text": [
            "Epoch 2 Validation Accuracy 0.6314641430920501\n"
          ]
        },
        {
          "output_type": "stream",
          "name": "stderr",
          "text": [
            "100%|██████████| 89/89 [00:01<00:00, 46.65it/s, loss=1.242, acc=0.622]\n",
            "100%|██████████| 30/30 [00:00<00:00, 52.15it/s]\n"
          ]
        },
        {
          "output_type": "stream",
          "name": "stdout",
          "text": [
            "Epoch 3 Validation Accuracy 0.6382093358837545\n"
          ]
        },
        {
          "output_type": "stream",
          "name": "stderr",
          "text": [
            "100%|██████████| 89/89 [00:02<00:00, 40.21it/s, loss=1.195, acc=0.642]\n",
            "100%|██████████| 30/30 [00:00<00:00, 40.30it/s]\n"
          ]
        },
        {
          "output_type": "stream",
          "name": "stdout",
          "text": [
            "Epoch 4 Validation Accuracy 0.6400550354038727\n"
          ]
        },
        {
          "output_type": "stream",
          "name": "stderr",
          "text": [
            "100%|██████████| 89/89 [00:02<00:00, 37.15it/s, loss=1.139, acc=0.673]\n",
            "100%|██████████| 30/30 [00:00<00:00, 52.70it/s]\n"
          ]
        },
        {
          "output_type": "stream",
          "name": "stdout",
          "text": [
            "Epoch 5 Validation Accuracy 0.6462297392529951\n"
          ]
        },
        {
          "output_type": "stream",
          "name": "stderr",
          "text": [
            "100%|██████████| 89/89 [00:01<00:00, 47.25it/s, loss=1.184, acc=0.648]\n",
            "100%|██████████| 30/30 [00:00<00:00, 49.91it/s]\n"
          ]
        },
        {
          "output_type": "stream",
          "name": "stdout",
          "text": [
            "Epoch 6 Validation Accuracy 0.656800563777308\n"
          ]
        },
        {
          "output_type": "stream",
          "name": "stderr",
          "text": [
            "100%|██████████| 89/89 [00:01<00:00, 46.58it/s, loss=1.201, acc=0.631]\n",
            "100%|██████████| 30/30 [00:00<00:00, 51.57it/s]\n"
          ]
        },
        {
          "output_type": "stream",
          "name": "stdout",
          "text": [
            "Epoch 7 Validation Accuracy 0.6612638007986845\n"
          ]
        },
        {
          "output_type": "stream",
          "name": "stderr",
          "text": [
            "100%|██████████| 89/89 [00:01<00:00, 46.43it/s, loss=1.089, acc=0.676]\n",
            "100%|██████████| 30/30 [00:00<00:00, 52.25it/s]\n"
          ]
        },
        {
          "output_type": "stream",
          "name": "stdout",
          "text": [
            "Epoch 8 Validation Accuracy 0.6596530084902178\n"
          ]
        },
        {
          "output_type": "stream",
          "name": "stderr",
          "text": [
            "100%|██████████| 89/89 [00:01<00:00, 45.86it/s, loss=1.092, acc=0.685]\n",
            "100%|██████████| 30/30 [00:00<00:00, 52.61it/s]\n"
          ]
        },
        {
          "output_type": "stream",
          "name": "stdout",
          "text": [
            "Epoch 9 Validation Accuracy 0.6678076445518306\n"
          ]
        },
        {
          "output_type": "stream",
          "name": "stderr",
          "text": [
            "100%|██████████| 89/89 [00:01<00:00, 47.17it/s, loss=1.092, acc=0.666]\n",
            "100%|██████████| 30/30 [00:00<00:00, 51.53it/s]\n"
          ]
        },
        {
          "output_type": "stream",
          "name": "stdout",
          "text": [
            "Epoch 10 Validation Accuracy 0.6640155709923152\n"
          ]
        },
        {
          "output_type": "stream",
          "name": "stderr",
          "text": [
            "100%|██████████| 89/89 [00:02<00:00, 40.50it/s, loss=1.063, acc=0.669]\n",
            "100%|██████████| 30/30 [00:00<00:00, 52.03it/s]\n"
          ]
        },
        {
          "output_type": "stream",
          "name": "stdout",
          "text": [
            "Epoch 11 Validation Accuracy 0.6650558743581999\n"
          ]
        },
        {
          "output_type": "stream",
          "name": "stderr",
          "text": [
            "100%|██████████| 89/89 [00:01<00:00, 46.77it/s, loss=1.024, acc=0.682]\n",
            "100%|██████████| 30/30 [00:00<00:00, 53.68it/s]\n"
          ]
        },
        {
          "output_type": "stream",
          "name": "stdout",
          "text": [
            "Epoch 12 Validation Accuracy 0.6678412027249236\n"
          ]
        },
        {
          "output_type": "stream",
          "name": "stderr",
          "text": [
            "100%|██████████| 89/89 [00:01<00:00, 47.47it/s, loss=1.027, acc=0.710]\n",
            "100%|██████████| 30/30 [00:00<00:00, 54.72it/s]\n"
          ]
        },
        {
          "output_type": "stream",
          "name": "stdout",
          "text": [
            "Epoch 13 Validation Accuracy 0.6687472733984362\n"
          ]
        },
        {
          "output_type": "stream",
          "name": "stderr",
          "text": [
            "100%|██████████| 89/89 [00:01<00:00, 46.96it/s, loss=1.158, acc=0.650]\n",
            "100%|██████████| 30/30 [00:00<00:00, 52.49it/s]\n"
          ]
        },
        {
          "output_type": "stream",
          "name": "stdout",
          "text": [
            "Epoch 14 Validation Accuracy 0.6658612705124333\n"
          ]
        },
        {
          "output_type": "stream",
          "name": "stderr",
          "text": [
            "100%|██████████| 89/89 [00:01<00:00, 46.50it/s, loss=1.066, acc=0.679]\n",
            "100%|██████████| 30/30 [00:00<00:00, 52.89it/s]\n"
          ]
        },
        {
          "output_type": "stream",
          "name": "stdout",
          "text": [
            "Epoch 15 Validation Accuracy 0.665089432531293\n"
          ]
        },
        {
          "output_type": "stream",
          "name": "stderr",
          "text": [
            "100%|██████████| 89/89 [00:02<00:00, 43.96it/s, loss=1.084, acc=0.678]\n",
            "100%|██████████| 30/30 [00:00<00:00, 53.18it/s]\n"
          ]
        },
        {
          "output_type": "stream",
          "name": "stdout",
          "text": [
            "Epoch 16 Validation Accuracy 0.6718681834960905\n"
          ]
        },
        {
          "output_type": "stream",
          "name": "stderr",
          "text": [
            "100%|██████████| 89/89 [00:01<00:00, 46.40it/s, loss=1.078, acc=0.683]\n",
            "100%|██████████| 30/30 [00:00<00:00, 52.00it/s]\n"
          ]
        },
        {
          "output_type": "stream",
          "name": "stdout",
          "text": [
            "Epoch 17 Validation Accuracy 0.671566159938253\n"
          ]
        },
        {
          "output_type": "stream",
          "name": "stderr",
          "text": [
            "100%|██████████| 89/89 [00:01<00:00, 47.56it/s, loss=1.081, acc=0.666]\n",
            "100%|██████████| 30/30 [00:00<00:00, 54.36it/s]\n"
          ]
        },
        {
          "output_type": "stream",
          "name": "stdout",
          "text": [
            "Epoch 18 Validation Accuracy 0.6702238330145307\n"
          ]
        },
        {
          "output_type": "stream",
          "name": "stderr",
          "text": [
            "100%|██████████| 89/89 [00:01<00:00, 48.39it/s, loss=1.084, acc=0.649]\n",
            "100%|██████████| 30/30 [00:00<00:00, 52.25it/s]\n"
          ]
        },
        {
          "output_type": "stream",
          "name": "stdout",
          "text": [
            "Epoch 19 Validation Accuracy 0.6770697003255143\n"
          ]
        },
        {
          "output_type": "stream",
          "name": "stderr",
          "text": [
            "100%|██████████| 89/89 [00:02<00:00, 39.78it/s, loss=1.015, acc=0.684]\n",
            "100%|██████████| 30/30 [00:01<00:00, 29.27it/s]\n"
          ]
        },
        {
          "output_type": "stream",
          "name": "stdout",
          "text": [
            "Epoch 20 Validation Accuracy 0.6755260243632336\n"
          ]
        },
        {
          "output_type": "stream",
          "name": "stderr",
          "text": [
            "100%|██████████| 89/89 [00:02<00:00, 34.04it/s, loss=1.048, acc=0.676]\n",
            "100%|██████████| 30/30 [00:00<00:00, 38.43it/s]\n"
          ]
        },
        {
          "output_type": "stream",
          "name": "stdout",
          "text": [
            "Epoch 21 Validation Accuracy 0.6684452498405987\n"
          ]
        },
        {
          "output_type": "stream",
          "name": "stderr",
          "text": [
            "100%|██████████| 89/89 [00:01<00:00, 46.49it/s, loss=1.019, acc=0.702]\n",
            "100%|██████████| 30/30 [00:00<00:00, 53.12it/s]\n"
          ]
        },
        {
          "output_type": "stream",
          "name": "stdout",
          "text": [
            "Epoch 22 Validation Accuracy 0.6804926339810061\n"
          ]
        },
        {
          "output_type": "stream",
          "name": "stderr",
          "text": [
            "100%|██████████| 89/89 [00:01<00:00, 45.87it/s, loss=0.987, acc=0.684]\n",
            "100%|██████████| 30/30 [00:00<00:00, 48.84it/s]\n"
          ]
        },
        {
          "output_type": "stream",
          "name": "stdout",
          "text": [
            "Epoch 23 Validation Accuracy 0.67394879022786\n"
          ]
        },
        {
          "output_type": "stream",
          "name": "stderr",
          "text": [
            "100%|██████████| 89/89 [00:01<00:00, 46.38it/s, loss=1.060, acc=0.683]\n",
            "100%|██████████| 30/30 [00:00<00:00, 51.69it/s]\n"
          ]
        },
        {
          "output_type": "stream",
          "name": "stdout",
          "text": [
            "Epoch 24 Validation Accuracy 0.6771032584986073\n"
          ]
        },
        {
          "output_type": "stream",
          "name": "stderr",
          "text": [
            "100%|██████████| 89/89 [00:01<00:00, 46.69it/s, loss=1.061, acc=0.683]\n",
            "100%|██████████| 30/30 [00:00<00:00, 51.23it/s]\n"
          ]
        },
        {
          "output_type": "stream",
          "name": "stdout",
          "text": [
            "Epoch 25 Validation Accuracy 0.6807275411926574\n"
          ]
        },
        {
          "output_type": "stream",
          "name": "stderr",
          "text": [
            "100%|██████████| 89/89 [00:01<00:00, 47.42it/s, loss=1.031, acc=0.712]\n",
            "100%|██████████| 30/30 [00:00<00:00, 52.74it/s]\n"
          ]
        },
        {
          "output_type": "stream",
          "name": "stdout",
          "text": [
            "Epoch 26 Validation Accuracy 0.6725057887848586\n"
          ]
        },
        {
          "output_type": "stream",
          "name": "stderr",
          "text": [
            "100%|██████████| 89/89 [00:01<00:00, 46.63it/s, loss=0.990, acc=0.708]\n",
            "100%|██████████| 30/30 [00:00<00:00, 32.40it/s]\n"
          ]
        },
        {
          "output_type": "stream",
          "name": "stdout",
          "text": [
            "Epoch 27 Validation Accuracy 0.6787811671532602\n"
          ]
        },
        {
          "output_type": "stream",
          "name": "stderr",
          "text": [
            "100%|██████████| 89/89 [00:01<00:00, 47.12it/s, loss=0.995, acc=0.721]\n",
            "100%|██████████| 30/30 [00:00<00:00, 52.99it/s]\n"
          ]
        },
        {
          "output_type": "stream",
          "name": "stdout",
          "text": [
            "Epoch 28 Validation Accuracy 0.6797207959998658\n"
          ]
        },
        {
          "output_type": "stream",
          "name": "stderr",
          "text": [
            "100%|██████████| 89/89 [00:01<00:00, 47.28it/s, loss=1.011, acc=0.682]\n",
            "100%|██████████| 30/30 [00:00<00:00, 52.73it/s]"
          ]
        },
        {
          "output_type": "stream",
          "name": "stdout",
          "text": [
            "Epoch 29 Validation Accuracy 0.6793180979227491\n"
          ]
        },
        {
          "output_type": "stream",
          "name": "stderr",
          "text": [
            "\n"
          ]
        }
      ],
      "source": [
        "import tqdm\n",
        "import sklearn.metrics\n",
        "\n",
        "best_accuracy = 0\n",
        "best_model_path = 'model.pt'\n",
        "for epoch in range(30):\n",
        "    model.train()\n",
        "\n",
        "    with tqdm.tqdm(train_dataloader) as tq:\n",
        "        for step, (input_nodes, output_nodes, mfgs) in enumerate(tq):\n",
        "            # feature copy from CPU to GPU takes place here\n",
        "            inputs = mfgs[0].srcdata['feat']\n",
        "            labels = mfgs[-1].dstdata['label']\n",
        "\n",
        "            predictions = model(mfgs, inputs)\n",
        "\n",
        "            loss = F.cross_entropy(predictions, labels)\n",
        "            opt.zero_grad()\n",
        "            loss.backward()\n",
        "            opt.step()\n",
        "\n",
        "            accuracy = sklearn.metrics.accuracy_score(labels.cpu().numpy(), predictions.argmax(1).detach().cpu().numpy())\n",
        "\n",
        "            tq.set_postfix({'loss': '%.03f' % loss.item(), 'acc': '%.03f' % accuracy}, refresh=False)\n",
        "\n",
        "    model.eval()\n",
        "\n",
        "    predictions = []\n",
        "    labels = []\n",
        "    with tqdm.tqdm(valid_dataloader) as tq, torch.no_grad():\n",
        "        for input_nodes, output_nodes, mfgs in tq:\n",
        "            inputs = mfgs[0].srcdata['feat']\n",
        "            labels.append(mfgs[-1].dstdata['label'].cpu().numpy())\n",
        "            predictions.append(model(mfgs, inputs).argmax(1).cpu().numpy())\n",
        "        predictions = np.concatenate(predictions)\n",
        "        labels = np.concatenate(labels)\n",
        "        accuracy = sklearn.metrics.accuracy_score(labels, predictions)\n",
        "        print('Epoch {} Validation Accuracy {}'.format(epoch, accuracy))\n",
        "        if best_accuracy < accuracy:\n",
        "            best_accuracy = accuracy\n",
        "            torch.save(model.state_dict(), best_model_path)"
      ]
    },
    {
      "cell_type": "code",
      "source": [
        "print(round(torch.cuda.max_memory_allocated()/1024/1024, 3), 'mb')"
      ],
      "metadata": {
        "colab": {
          "base_uri": "https://localhost:8080/"
        },
        "id": "JQ_wk76b1EHw",
        "outputId": "01abe609-a2c9-43e9-e0d9-a80017579b03"
      },
      "id": "JQ_wk76b1EHw",
      "execution_count": 12,
      "outputs": [
        {
          "output_type": "stream",
          "name": "stdout",
          "text": [
            "59.34 mb\n"
          ]
        }
      ]
    },
    {
      "cell_type": "code",
      "execution_count": 13,
      "id": "91737a36",
      "metadata": {
        "ExecuteTime": {
          "end_time": "2022-11-17T10:18:39.991852Z",
          "start_time": "2022-11-17T10:18:39.917659Z"
        },
        "id": "91737a36"
      },
      "outputs": [],
      "source": [
        "g, node_labels = dataset[0]\n",
        "g = dgl.add_reverse_edges(g)\n",
        "g.ndata['label'] = node_labels[:, 0]"
      ]
    },
    {
      "cell_type": "code",
      "execution_count": 14,
      "id": "b069f847",
      "metadata": {
        "ExecuteTime": {
          "end_time": "2022-11-17T10:20:21.499007Z",
          "start_time": "2022-11-17T10:20:21.490044Z"
        },
        "id": "b069f847"
      },
      "outputs": [],
      "source": [
        "import torch.nn as nn\n",
        "import torch.nn.functional as F\n",
        "from dgl.nn import SAGEConv\n",
        "\n",
        "\n",
        "class GCN(nn.Module):\n",
        "    def __init__(self, in_feats, h_feats, num_classes):\n",
        "        super(GCN, self).__init__()\n",
        "        self.conv1 = SAGEConv(in_feats, h_feats, aggregator_type='mean')\n",
        "        self.conv2 = SAGEConv(h_feats, num_classes, aggregator_type='mean')\n",
        "\n",
        "    def forward(self, g, in_feat):\n",
        "        h = self.conv1(g, in_feat)\n",
        "        h = F.relu(h)\n",
        "        h = self.conv2(g, h)\n",
        "        return h\n",
        "\n",
        "# Create the model with given dimensions\n",
        "model = GCN(num_features, 128, dataset.num_classes)"
      ]
    },
    {
      "cell_type": "code",
      "execution_count": 16,
      "id": "baeb8b68",
      "metadata": {
        "ExecuteTime": {
          "end_time": "2022-11-17T10:23:13.545433Z",
          "start_time": "2022-11-17T10:21:58.473018Z"
        },
        "colab": {
          "base_uri": "https://localhost:8080/"
        },
        "id": "baeb8b68",
        "outputId": "5b8461af-4378-4dd8-ee44-72ac4e156561"
      },
      "outputs": [
        {
          "output_type": "stream",
          "name": "stdout",
          "text": [
            "In epoch 0, loss: 4.073, val acc: 0.004 (best 0.004)\n",
            "In epoch 5, loss: 2.610, val acc: 0.349 (best 0.378)\n",
            "In epoch 10, loss: 2.178, val acc: 0.458 (best 0.458)\n",
            "In epoch 15, loss: 1.877, val acc: 0.535 (best 0.535)\n",
            "In epoch 20, loss: 1.670, val acc: 0.562 (best 0.562)\n",
            "In epoch 25, loss: 1.524, val acc: 0.592 (best 0.592)\n",
            "In epoch 30, loss: 1.427, val acc: 0.605 (best 0.605)\n",
            "In epoch 35, loss: 1.357, val acc: 0.617 (best 0.617)\n",
            "In epoch 40, loss: 1.304, val acc: 0.628 (best 0.629)\n",
            "In epoch 45, loss: 1.263, val acc: 0.634 (best 0.634)\n",
            "In epoch 50, loss: 1.232, val acc: 0.641 (best 0.642)\n",
            "In epoch 55, loss: 1.206, val acc: 0.647 (best 0.647)\n",
            "In epoch 60, loss: 1.184, val acc: 0.651 (best 0.651)\n",
            "In epoch 65, loss: 1.166, val acc: 0.654 (best 0.654)\n",
            "In epoch 70, loss: 1.151, val acc: 0.658 (best 0.658)\n",
            "In epoch 75, loss: 1.137, val acc: 0.660 (best 0.660)\n",
            "In epoch 80, loss: 1.125, val acc: 0.663 (best 0.663)\n",
            "In epoch 85, loss: 1.114, val acc: 0.664 (best 0.664)\n",
            "In epoch 90, loss: 1.104, val acc: 0.666 (best 0.666)\n",
            "In epoch 95, loss: 1.094, val acc: 0.668 (best 0.668)\n"
          ]
        }
      ],
      "source": [
        "def train(g, model):\n",
        "    optimizer = torch.optim.Adam(model.parameters(), lr=0.01)\n",
        "    best_val_acc = 0\n",
        "    best_test_acc = 0\n",
        "    g = g.to(device)\n",
        "    features = g.ndata['feat'].to(device)\n",
        "    labels = g.ndata['label'].to(device)\n",
        "    idx_split = dataset.get_idx_split()\n",
        "    train_mask = idx_split['train']\n",
        "    val_mask = idx_split['valid']\n",
        "    test_mask = idx_split['test']\n",
        "    \n",
        "    for e in range(100):\n",
        "        # Forward\n",
        "        logits = model(g, features)\n",
        "\n",
        "        # Compute prediction\n",
        "        pred = logits.argmax(1)\n",
        "\n",
        "        # Compute loss\n",
        "        # Note that you should only compute the losses of the nodes in the training set.\n",
        "        loss = F.cross_entropy(logits[train_mask], labels[train_mask])\n",
        "\n",
        "        # Compute accuracy on training/validation/test\n",
        "        train_acc = (pred[train_mask] == labels[train_mask]).float().mean()\n",
        "        val_acc = (pred[val_mask] == labels[val_mask]).float().mean()\n",
        "\n",
        "        # Save the best validation accuracy\n",
        "        if best_val_acc < val_acc:\n",
        "            best_val_acc = val_acc\n",
        "\n",
        "        # Backward\n",
        "        optimizer.zero_grad()\n",
        "        loss.backward()\n",
        "        optimizer.step()\n",
        "        \n",
        "        if e % 5 == 0:\n",
        "            print('In epoch {}, loss: {:.3f}, val acc: {:.3f} (best {:.3f})'.format(\n",
        "                e, loss, val_acc, best_val_acc))\n",
        "            \n",
        "\n",
        "model = GCN(g.ndata['feat'].shape[1], 128, dataset.num_classes).to(device)\n",
        "train(g, model)"
      ]
    },
    {
      "cell_type": "code",
      "source": [
        "print(round(torch.cuda.max_memory_allocated()/1024/1024, 3), 'mb')"
      ],
      "metadata": {
        "colab": {
          "base_uri": "https://localhost:8080/"
        },
        "id": "SmhUB3XH17KA",
        "outputId": "00c1398e-7ac4-4daf-bef8-54be0388c5f4"
      },
      "id": "SmhUB3XH17KA",
      "execution_count": 17,
      "outputs": [
        {
          "output_type": "stream",
          "name": "stdout",
          "text": [
            "650.316 mb\n"
          ]
        }
      ]
    },
    {
      "cell_type": "code",
      "execution_count": null,
      "id": "7a3fe1cc",
      "metadata": {
        "id": "7a3fe1cc"
      },
      "outputs": [],
      "source": [
        "# num_parts = 1000\n",
        "# sampler = dgl.dataloading.ClusterGCNSampler(g, num_parts)\n",
        "# dataloader = dgl.dataloading.DataLoader(\n",
        "#     g, torch.arange(num_parts), sampler,\n",
        "#     batch_size=20, shuffle=True, drop_last=False, num_workers=4)\n",
        "\n",
        "# for subg in dataloader:\n",
        "#     # train_on(subg)\n",
        "#     pass"
      ]
    },
    {
      "cell_type": "markdown",
      "id": "49616971",
      "metadata": {
        "id": "49616971"
      },
      "source": [
        "### Cluster-GCN"
      ]
    },
    {
      "cell_type": "markdown",
      "id": "66ffda4b",
      "metadata": {
        "id": "66ffda4b"
      },
      "source": [
        "Еще один из подходов известен как **Cluster-GCN** ([Chiang et al. (2019)](https://arxiv.org/abs/1905.07953), который основан на предварительном разбиении графа на подграфы которые можно обрабатывать в мини-батч режиме.\n",
        "\n",
        "Чтобы продемонстрировать, давайте загрузим график «PubMed» из набора тестов классификации узлов «Planetoid» ([Yang et al. (2016)](https://arxiv.org/abs/1603.08861)):"
      ]
    },
    {
      "cell_type": "code",
      "execution_count": 21,
      "id": "68dc0390",
      "metadata": {
        "ExecuteTime": {
          "end_time": "2022-11-17T11:47:47.401244Z",
          "start_time": "2022-11-17T11:47:46.583131Z"
        },
        "colab": {
          "base_uri": "https://localhost:8080/"
        },
        "id": "68dc0390",
        "outputId": "9332d8f0-66af-483b-f692-1772ddd709be"
      },
      "outputs": [
        {
          "output_type": "stream",
          "name": "stdout",
          "text": [
            "\n",
            "Dataset: PubMed():\n",
            "==================\n",
            "Number of graphs: 1\n",
            "Number of features: 500\n",
            "Number of classes: 3\n",
            "\n",
            "Data(x=[19717, 500], edge_index=[2, 88648], y=[19717], train_mask=[19717], val_mask=[19717], test_mask=[19717])\n",
            "===============================================================================================================\n",
            "Number of nodes: 19717\n",
            "Number of edges: 88648\n",
            "Average node degree: 4.50\n",
            "Number of training nodes: 60\n",
            "Training node label rate: 0.003\n",
            "Has isolated nodes: False\n",
            "Has self-loops: False\n",
            "Is undirected: True\n"
          ]
        }
      ],
      "source": [
        "import torch\n",
        "from torch_geometric.datasets import Planetoid\n",
        "from torch_geometric.transforms import NormalizeFeatures\n",
        "\n",
        "dataset = Planetoid(root='data/Planetoid', name='PubMed',\n",
        "                    transform=NormalizeFeatures())\n",
        "\n",
        "print()\n",
        "print(f'Dataset: {dataset}:')\n",
        "print('==================')\n",
        "print(f'Number of graphs: {len(dataset)}')\n",
        "print(f'Number of features: {dataset.num_features}')\n",
        "print(f'Number of classes: {dataset.num_classes}')\n",
        "\n",
        "data = dataset[0]  # Get the first graph object.\n",
        "\n",
        "print()\n",
        "print(data)\n",
        "print('===============================================================================================================')\n",
        "\n",
        "# Gather some statistics about the graph.\n",
        "print(f'Number of nodes: {data.num_nodes}')\n",
        "print(f'Number of edges: {data.num_edges}')\n",
        "print(f'Average node degree: {data.num_edges / data.num_nodes:.2f}')\n",
        "print(f'Number of training nodes: {data.train_mask.sum()}')\n",
        "print(\n",
        "    f'Training node label rate: {int(data.train_mask.sum()) / data.num_nodes:.3f}')\n",
        "print(f'Has isolated nodes: {data.has_isolated_nodes()}')\n",
        "print(f'Has self-loops: {data.has_self_loops()}')\n",
        "print(f'Is undirected: {data.is_undirected()}')"
      ]
    },
    {
      "cell_type": "markdown",
      "id": "63c61a0a",
      "metadata": {
        "id": "63c61a0a"
      },
      "source": [
        "Как видно, этот граф имеет 19 717 вершин.\n",
        "Хотя это количество узлов должно легко поместиться в память графического процессора, тем не менее, это хороший пример для демонстрации того, как можно масштабировать GNN в PyTorch Geometric.\n",
        "\n",
        "**Cluster-GCN** ([Chiang et al. (2019)](https://arxiv.org/abs/1905.07953) сначала разбивает граф на подграфы на основе алгоритмов разделения графа.\n",
        "При этом GNN ограничены исключительно свертыванием внутри своих конкретных подграфов, что исключает проблему **взрыва соседей**."
      ]
    },
    {
      "cell_type": "markdown",
      "id": "6be0346d",
      "metadata": {
        "id": "6be0346d"
      },
      "source": [
        "![Screen Shot 2020-08-27 at 14.50.03.png](data:image/png;base64,iVBORw0KGgoAAAANSUhEUgAAAj4AAAFlCAYAAADrk+IFAAAKtWlDQ1BJQ0MgUHJvZmlsZQAASImVlwdUU+kSgP970xstEAEpoXekCASQEnro0sECIQkQSowJQcWuiCuwooiIgLqgiyIKrkqRVUQsWFgUG1g3iCio62LBhsq7gUfYfe+8986bcyb/dybzz8z/3zvnzAWA/JQtFGbCSgBkCbJFEf5e9Lj4BDruKUADDUAFrsCEzRELmeHhwQCR6fXv8uEugGTrLStZrH///7+KMpcn5gAAhSOczBVzshA+iWg3RyjKBgC1DrEbLMsWyvgAwqoipECEW2WcOsXdMk6eYumkT1SEN8LvAcCT2WxRKgBkWS56DicViUOmI2wj4PIFCMvyunPS2FyEtyFsmZW1RManETZN/kuc1L/FTJbHZLNT5Tx1lknB+/DFwkz2iv/zOv63ZGVKpnMYIEpOEwVEIKu67N4ylgTJWZAcGjbNfO6k/ySnSQKip5kj9k6YZi7bJ0i+NzM0eJpT+H4seZxsVtQ0i5ZEyOPzxL6R08wWzeSSZEQz5Xl5LHnM3LSo2GnO4ceETrM4IzJoxsdbbhdJIuQ1p4j85GfMEv/lXHyW3D87LSpAfkb2TG08cZy8Bi7Px1duF0TLfYTZXvL4wsxwuT8v019uF+dEyvdmIy/bzN5w+f2kswPDpxkEA39AB9HIGgUiABPEAhbwAb7ZvOXZsgN4LxGuEPFT07LpTKSDeHSWgGNtSbezsbMBQNaPU4/7Xf9kn0E0/IxNSAOAUY4YB2Zsif0AtOgAoLh1xmY8DIBSIADn2jkSUc6UDS37wQAiUASqSLfrIO+TKbACdsAR6XtP4AsCQRhSbzxYDDggDWQBEVgGVoH1IB8Ugm1gJ6gA+8B+cAgcBcdBCzgNzoFL4Bq4Ae6AB0AKhsBLMAo+gHEIgnAQBaJCGpAuZARZQHYQA3KHfKFgKAKKh5KgVEgASaBV0EaoECqBKqBqqA76BToFnYOuQL3QPWgAGoHeQl9gFEyGVWFt2BieAzNgJhwER8GL4FR4KZwL58Fb4XK4Bj4CN8Pn4GvwHVgKv4THUABFQtFQeigrFAPljQpDJaBSUCLUGlQBqgxVg2pAtaG6ULdQUtQr1Gc0Fk1F09FWaFd0ADoazUEvRa9BF6Er0IfQzegL6FvoAfQo+juGgtHCWGBcMCxMHCYVswyTjynD1GKaMBcxdzBDmA9YLJaGNcE6YQOw8dh07EpsEXYPthHbge3FDmLHcDicBs4C54YLw7Fx2bh83G7cEdxZ3E3cEO4TnoTXxdvh/fAJeAF+A74Mfxjfjr+Jf44fJygRjAguhDACl7CCUEw4QGgjXCcMEcaJykQTohsxiphOXE8sJzYQLxIfEt+RSCR9kjNpPolPWkcqJx0jXSYNkD6TVcjmZG/yQrKEvJV8kNxBvkd+R6FQjCmelARKNmUrpY5ynvKY8kmBqmCtwFLgKqxVqFRoVrip8FqRoGikyFRcrJirWKZ4QvG64islgpKxkrcSW2mNUqXSKaU+pTFlqrKtcphylnKR8mHlK8rDKjgVYxVfFa5Knsp+lfMqg1QU1YDqTeVQN1IPUC9Sh1SxqiaqLNV01ULVo6o9qqNqKmpz1WLUlqtVqp1Rk9JQNGMai5ZJK6Ydp92lfZmlPYs5izdry6yGWTdnfVSfre6pzlMvUG9Uv6P+RYOu4auRobFdo0XjkSZa01xzvuYyzb2aFzVfzVad7TqbM7tg9vHZ97VgLXOtCK2VWvu1urXGtHW0/bWF2ru1z2u/0qHpeOqk65TqtOuM6FJ13XX5uqW6Z3Vf0NXoTHomvZx+gT6qp6UXoCfRq9br0RvXN9GP1t+g36j/yIBowDBIMSg16DQYNdQ1DDFcZVhveN+IYMQwSjPaZdRl9NHYxDjWeLNxi/GwiboJyyTXpN7koSnF1MN0qWmN6W0zrBnDLMNsj9kNc9jcwTzNvNL8ugVs4WjBt9hj0WuJsXS2FFjWWPZZka2YVjlW9VYD1jTrYOsN1i3Wr+cYzkmYs31O15zvNg42mTYHbB7YqtgG2m6wbbN9a2dux7GrtLttT7H3s19r32r/Zq7FXN7cvXP7HagOIQ6bHTodvjk6OYocGxxHnAydkpyqnPoYqoxwRhHjsjPG2ct5rfNp588uji7ZLsdd/nS1cs1wPew6PM9kHm/egXmDbvpubLdqN6k73T3J/Sd3qYeeB9ujxuOJp4En17PW8znTjJnOPMJ87WXjJfJq8vro7eK92rvDB+Xj71Pg0+Or4hvtW+H72E/fL9Wv3m/U38F/pX9HACYgKGB7QB9Lm8Vh1bFGA50CVwdeCCIHRQZVBD0JNg8WBbeFwCGBITtCHoYahQpCW8JAGCtsR9ijcJPwpeG/zsfOD59fOf9ZhG3EqoiuSGpkYuThyA9RXlHFUQ+iTaMl0Z0xijELY+piPsb6xJbESuPmxK2OuxavGc+Pb03AJcQk1CaMLfBdsHPB0EKHhfkL7y4yWbR80ZXFmoszF59JVExkJ55IwiTFJh1O+soOY9ewx5JZyVXJoxxvzi7OS64nt5Q7wnPjlfCep7illKQMp7ql7kgdSfNIK0t7xffmV/DfpAek70v/mBGWcTBjIjM2szELn5WUdUqgIsgQXFiis2T5kl6hhTBfKF3qsnTn0lFRkKhWDIkXiVuzVZHBp1tiKtkkGchxz6nM+bQsZtmJ5crLBcu7V5iv2LLiea5f7s8r0Ss5KztX6a1av2pgNXN19RpoTfKazrUGa/PWDq3zX3doPXF9xvrfNthsKNnwfmPsxrY87bx1eYOb/DfV5yvki/L7Nrtu3vcD+gf+Dz1b7Lfs3vK9gFtwtdCmsKzwaxGn6OqPtj+W/zixNWVrT7Fj8d5t2G2CbXe3e2w/VKJcklsyuCNkR3MpvbSg9P3OxJ1XyuaW7dtF3CXZJS0PLm/dbbh72+6vFWkVdyq9KhurtKq2VH3cw91zc6/n3oZ92vsK9335if9Tf7V/dXONcU3Zfuz+nP3PDsQc6PqZ8XNdrWZtYe23g4KD0kMRhy7UOdXVHdY6XFwP10vqR44sPHLjqM/R1garhupGWmPhMXBMcuzFL0m/3D0edLzzBONEw0mjk1VN1KaCZqh5RfNoS1qLtDW+tfdU4KnONte2pl+tfz14Wu905Rm1M8XtxPa89omzuWfHOoQdr86lnhvsTOx8cD7u/O0L8y/0XAy6ePmS36XzXcyus5fdLp++4nLl1FXG1ZZrjteaux26m35z+K2px7Gn+brT9dYbzjfaeuf1tt/0uHnuls+tS7dZt6/dCb3Tezf6bn/fwj5pP7d/+F7mvTf3c+6PP1j3EPOw4JHSo7LHWo9rfjf7vVHqKD0z4DPQ/STyyYNBzuDLp+KnX4fynlGelT3XfV43bDd8esRv5MaLBS+GXgpfjr/K/0P5j6rXpq9P/un5Z/do3OjQG9GbibdF7zTeHXw/933nWPjY4w9ZH8Y/FnzS+HToM+Nz15fYL8/Hl33FfS3/Zvat7XvQ94cTWRMTQraIPTkKoBCFU1IAeHsQAEo8ANQbABAXTM3LkwJNzfiTBP4TT83Uk+IIQG0HALKxLXQdANWIGiOq6AlAOKJRngC2t5frP0WcYm83FYvUgowmZRMT75A5EWcGwLe+iYnxlomJb7VIsfcB6PgwNafLRAf5Zsjpl1FPNxH8q/wDxk8ItcR/1i8AAAGdaVRYdFhNTDpjb20uYWRvYmUueG1wAAAAAAA8eDp4bXBtZXRhIHhtbG5zOng9ImFkb2JlOm5zOm1ldGEvIiB4OnhtcHRrPSJYTVAgQ29yZSA1LjQuMCI+CiAgIDxyZGY6UkRGIHhtbG5zOnJkZj0iaHR0cDovL3d3dy53My5vcmcvMTk5OS8wMi8yMi1yZGYtc3ludGF4LW5zIyI+CiAgICAgIDxyZGY6RGVzY3JpcHRpb24gcmRmOmFib3V0PSIiCiAgICAgICAgICAgIHhtbG5zOmV4aWY9Imh0dHA6Ly9ucy5hZG9iZS5jb20vZXhpZi8xLjAvIj4KICAgICAgICAgPGV4aWY6UGl4ZWxYRGltZW5zaW9uPjU3NDwvZXhpZjpQaXhlbFhEaW1lbnNpb24+CiAgICAgICAgIDxleGlmOlBpeGVsWURpbWVuc2lvbj4zNTc8L2V4aWY6UGl4ZWxZRGltZW5zaW9uPgogICAgICA8L3JkZjpEZXNjcmlwdGlvbj4KICAgPC9yZGY6UkRGPgo8L3g6eG1wbWV0YT4KOwbdHQAAQABJREFUeAHsXQW8FOXXfi5w6e4u6W7pEhRQQLpTRUJCUUoRCZFOaaQ7RAkBSekGpTtEuvtS851n+C/f5bIxM7t77+697+G37N2ZN8/MvHPeE88J0ISgSHFAcUBxQHFAcUBxQHEgAnAgUgSYo5qi4oDigOKA4oDigOKA4oDOASX4qBtBcUBxQHFAcUBxQHEgwnBACT4R5lKriSoOKA4oDigOKA4oDijBR90DigOKA4oDigOKA4oDEYYDSvCJMJdaTVRxQHFAcUBxQHFAcUAJPuoeUBxQHFAcUBxQHFAciDAcUIJPhLnUaqKKA4oDigOKA4oDigNK8FH3gOKA4oDigOKA4oDiQIThgBJ8IsylVhNVHFAcUBxQHFAcUBxQgo+6BxQHFAcUBxQHFAcUByIMB5TgE2EutZqo4oDigOKA4oDigOKAEnzUPaA4oDigOKA4oDigOBBhOKAEnwhzqdVEFQcUBxQHFAcUBxQHlOCj7gHFAcUBxQHFAcUBxYEIwwEl+ESYS60mqjigOKA4oDigOKA4oAQfdQ8oDigOKA4oDigOKA5EGA4owSfCXGo1UcUBxQHFAcUBxQHFASX4qHtAcUBxQHFAcUBxQHEgwnBACT4R5lKriSoOKA4oDigOKA4oDkRRLPB/DgwePBj79u3z/4moGSgOeJkD169fx9q1a73ci2ebv337NmrVqoVkyZJ5tmHVmuJAOOPA/fv3UbduXTRt2tTpzJTg45Q9/nHy3r17mDt3rn8MVo1ScSAMOdC7d+8w7N1a1xs2bEDXrl3xwQcfWGtA1VIciCAcmDRpEjJnzuxytsrU5ZJFvl3g0aNHiBYtmm8PUo1OccAHOPDw4UOkS5fOB0Zibgjbtm1DuXLlzFVSpRUHIiAH1q1bh0KFCrmcuRJ8XLLItwv8/vvvKFy4sG8PUo1OccAHOLBw4ULkzJnTB0ZibgjRo0dH1KhRzVVSpRUHIiAHMmTIgMDAQJczV4KPSxb5dgEKPu+++65vD1KNTnHABziwYMECZM+e3QdGYnwIz549Q/z48Y1XUCUVByIoB54+fWp4Y6MEHz+/SRIlSqQWRj+/hmr4ocOBNGnSIHbs2KHTmYd6Wb9+veHF3ENdqmYUB/ySA8uWLUO2bNkMjV05Nxtik+8WKl68uM8O7sWLF6AU/vz5c32MAQEBuhqSanv+rchzHKBmgLwmz0mRIkXSfb+MqH09NwrfbUnTNL90DqaWqn///j7L2JcvXyIoKEi/78hjPtdRokTR7z31jHv2svEZD5Jn/OX/nvHIkSPrJlD1jL/i8+TJkw0H+SjBx7P3Zqi25qu7Qb58J0yYgMXzZ6F2oUjIGv0EYuM2rjyOh53X02DLmSjo3LUnqlWrFqr8Co+dMXyzadMmuHD7FJ4mvoNIMV8CIlM+vyuzvRETaeNnwtTJ05A8efLwOH3Dc/rzzz+RJ08ew+V9pSCfJV8MY+dmZtCgQdi4egkqZX2APPEvIn60p7j+PAm23ciMrade4vtevVG2bFlfYaXfjuPixYvo2OlLaJGiomiZikiRJp0uYF769zx2/vUnAgNeYvLkSX6nzfTkBeH9SF84o2bhAJHSNU8OQLUVehyoU6cOxo8fD5q7fIUOHjyIcQM6o0nmfXg3xW1EkocyJD16Cmw8HR1/3CyDnoOn++TCHnLMvvh73MRxGD6/D+Jmi4zA2Pat1k/vP8fDsy9RJmNVjB4+JsI6yVauXBnz589H3LhxffFSOhzTuHHj0KZNG4fnw+LEqpUrsW56VzTIegp5UjxGFDu33sPn0bDyRFyse1QNw0f9rL+UwmKs/twnNWmdvvwSCVJlQtn3P0LS5CntTufKf//ijyXzUCBHRjRv1sxumfB+kBGbS5YsQePGjQ1NVQk+htjke4Wo9ixatCj27t3rM4PjzuSnduUwvNIpRI3selj3gwLQYXFc9J11CKlTp3ZdQZV4zYHps6ah35wuSJQrmiGz4cOrT5E7UhlMHT8zwgk/hHwoUKAAjh079pp//vAHx3v37l2fCl5YuGA+zi9qgq8rPDPEwot3IqHzlrKYNn85YsSIYaiOKgQ8efIEX3T8ElUbfo50GTMZYsmvc6YiU8r4aNqkiaHy4anQrl27kCJFCtCPzwjZkdWNVFNlwpoDBC385JNPwnoYb/Tf46tW6F/emNDDinGiaZhY7x4+r/8eKMgpMsaB/y79h25DOiJx7uiGhB62GitZVOx/uAGjx44y1kk4KvXvv//iS9k5+xuNHj0aadOm9ZlhE0F698xPDQs9HHjq+C/Rq+B6/LFsic/Mwx8GMm/+ApStWt+w0MM51WzYAms27QTfDRGNCFyYIEECw9NWgo9hVvlWQWpX6tev71ODKhp9I+KZ3NQFRtZQ650T2LV9s0/NxZcHM2nKBCQtGNP0EOOlj475a6abrhfaFWh9f/z4sb6AU+PBhfzBwweWhePTp0/j008/De1puNUffXuWL1+u72LdasiDlUcM6oOWhR+YbjFHCjFtz+1tul5ErrD2r23IlbegaRZU/rgupkzzj2ecWq37Dx7ozzd9FR8+fPQ6OMPMxOnfs2bNGlM+Tsq52QyHfajsokWL8O233/rQiICUsZ9YGk8FgVbZc/WqpboRsdK92w8QI5G1R/favcv47LPPkD9/fh34kg6/voT8vXP3Tnz1TSfcjXIFL+M+QSTRCr58ruHF/UgIvB0XxSSKcXDv4Ygf1zi2zfbt21GlShW/ulWYU8xVvqHQntDRUxeQ+T1rvd6/8a+1ihG01kMR/K1QqrTpMfDbDrh14zry5cunoxj7ktaQc1q3cSP69e2HDFlyIVvu/EiQKDGeij/TpYvnsXvzWnzwfkV06tAejFozQlQCtGrVykjR12WsrZ6vq6s/woID3A2uWrUKffr0CYvuHfZ5+zFv1Feh6w4L2Tlx6D8gfv5Yds6oQ/Y4ED1mNDy7+RJR4xhbGIK3ET9WAvTr1w9XrlzB5cuXwXDpW7du6b4k1K7wb6KfEugvS5YsyJo1a6g4pjIsukXrpth2aTXi54smZlAqo99EYNW0RxIVuBJFqv+Jjg26ol2rDsGnZvdv7gb//vtvu+d8+eB///2HZj7mqJoySVxcFSuKuJGYpmgx1PNthmnRokU1U/x1WQo81avXQLOmjXHt2jXs2bMHK8UZnVpTmir5TagL4t3ww7xWRv1iXndi8Y+L/11Cz959kbtwafw0bi6i2/H5qtPkMxz+ex8+bdsBX7T6BAULFnDZ27lz50xrdJXg45KtvlfgwoULqFChgmH/jtCawY67udHw+X5EM3FXvZCgr1GbY2J+31KhNUy/76dmjZqY1WE8UpWIY2ouT+48R+XCDfQoOoZI582b12593l80D9FhcN68eaBQQq0Qw0VjxoyJxIkT687oqVKlAj885g5RkC9fpQzupjmDxDkd20qJCxMraVT5AMOX9MbNOzfxfRfnJpQjR46gdOnS7gwvTOoyMWm7du3CpG9HnbZq/QXm9ZuBryq8HanpqA6P3xTrWKEPfWsuzsbrC+cK5c6BG9evInGSZKaGs27l7/iydXO8kzEj3nnnHbt1GQF16tQp/cNIx0uXLumO53zG+YkTJ47+XPPZZtBJ0qRJdWHJbmMGD167fgNdvu2FVl/1RPwECZ3Wypm3ADJnz4kRP/VE/149RDBzHviyc+dO07AJKqrL6SXwzZPEJOGu3EgW2tCcwaZ1K7BrYi10Lh8kQpnrnp8L1t7U7ZGRr816FC7mfy8n1zP0Xoke33fFqiuzETV+JGO8fvISz/fFx4ZlWwxjXdgbPf1vzpw5g0OHDumalAMHDugq6fTp0+uOuPzmQkk8jXjx4unfFJic0V9bNqL9xPqIlcLcLvfa3sfYs+g4EsR3vJBOmzZNXxQ5Ln8h8pimuRUrVrj9wvH0nPt91wnvPR+FYhmNoaA8fhaA2tMSYPryQ0icTJx9FBniwE3RvDZq2gK9hk5EjJjGtGWnjh/Fke2r8X3P7wz14agQ/esIS7J//378888/+iaIQhDfOTSbUUOUMGHC1883n3NnYJXc2LxbvCQGT5irm7Uc9Rvy+P17d9G2YVUc2LfbodmLm7K6deuCrh9myMTe3Eyzqqw3OXD48GG8//773uzCUtsly1XGrj3fo8mMvvilUZCEtBPJ9e2mZF3Hg6cB6LggEDkrd0Ohokrb8zaXnB/p26s/TjU+g+NPtyJmUnmM7fBZb0F4HXT3Bc4veYSjh/a5JfSwPS5w3EnyU716dbuDPHv2LLZu3QruxDZt2qQ7LBJ6oWDBgjoEQ0bZjRJtlgi//DRuWR8pq75p1rLbcIiD8bIEonmbxvh97h8hzvz/T0Z0+ZPQw5FT40YzI00Svkadv/0JtartRbWL29CyhIbASI6f8Wv3A1Dm5/j4Y/0uJfSYvJCJRLCYP3sG8hcohKGT5iJtxsyOX/4iWBw7dADzJg3D77/9ZrKnt4sTdqBIkSL65+2z0AMP9u3bp7tbbN68Wd8A0STOZ5x5I5k0m6lhbM83/dXqNW9jSuhhv3HixkOdZp/hxs2bSCabKXt0/Phx/Vmxd87ZMSX4OOOOj56j+t7XiB76TQQ/onnz5qhW4wC++bETXl7aiCYFnyBXKgmnjgZcFjThLSeBObsjoUC5eoJD0x+nz/2LWrVqgTtzfwOXC8trQMe/ubPmYe3atfjy2/aIlToytOT3EBjvld/P45sCb/9fZDy/HAUDvh+OEr1L4Mcff8TIkSO9PmzuDPmxgYkxlQbV6w8kgoPf1BIRo4afkydP4tqlG0gV2bw2IDBGZBze4Bybxx9De/l8N2zY0OvXyWwHv8lLlZFmE6fOxb3b1/B510aI/vA46hfWkD8tEFcUezfuA5tPyTO+LwaKf9wRaza3xeDBg1GuXDnUqFHDbJcRujw1KUePHNI1f10+/x4F3i2F0hU/RJr0GXW+XDx3BpvWLseebZvQo+vXyJ0rl77hKFmypFf5RsGoRIkS+qdr166ghpJYWbZnnL5F27Ztw4kTJ3D06FFwoz5kymJLY8qZpyCePXUMdbJjxw7Url3bdNvK1GWaZWFbgU6Pw4YNw9ChQ8N2IP/rnc6jY8eO1Z1iiTAbHF6fu+2jh/7GgX8OYfeevahb62OkTpkU2XMXfMPOS698zodaLCLsKjLHAV4DLjC029te9HHixkHWLFl152TuvEjr1q0Dd2rffPONuQ68XDpNppRI+XFkRIrsSG1lfwDPHr1Aiot5sWyJfY0PTXK//vorvv76a/sN+OhRCqcdOnRwaj4IzaHz+ezZsyc+/vhjfPTRR29oHv6TSBw+44ePnsSadRvQpFEDpEqZQkKxC7yhXaQpgi+pH374wVTYcWjO05f7Is4ZBQl+bM94PDEnZxLNa44cOXTtIAUQ4lV17tw51ByWjfCMPkSrtx9C/iLm80quX7kUDau/h+Tik2iPvv/+e/Tu3dv0s6IEH3vc9OFjCxcu1IULX3DY3L17N2bOnKmbPN577z2HXKM2p1SpUg6d7ViRDy3TbzCqiLsI28vaYaPqhCUO/PLLL7pmjelOfIUWLpJEnKs6IbrJEP27x15gxYgtunbJ3lwokFP1ThObPxFfXL6wsaGvx9SpU0HTZd++fZ1G9y1evFg3jTiLEKLDPDdt9MkoU6aMP10SvxnrnTt30L17d4wYMcJnYCqo8S333vsYNHEuYsU2HpDx+NFDdGpRC5s3rneINk+BnPemWfI9I7LZGUSw8nQq9bYq0xVLGfY8ZMgQ/PHHHxg1ahScCT1siztvRxEGtr7oO0KNEUEZqRL3RXOebaz+/E20b2qHeE18hWrWqIUk/+VE0B3xdjdA2ksNd04EoWqORg6FHjZDkxpTVfgTMeSYDpthTdQMtm7dWhccaapy5qDOTQuj0JwJPZwP1wCiURNX6eeff9Z9RcJ6nuGtfwYVfPXVV2jbtq1P3Efkb9SoUbFowVz8MvIn3Ll10xDLKfTM/WUMZs+Y5lDooe+Q0aSkITtVgk9Ijvj4by6KYen0SLU3ndgIrtarVy+X3CIiJ5PtGSUujkuXLtV3vNQmKfI8Bwh8SR8S7sR8geiv9F33nrizLhqu73V+rwTdFbPenBvo1WgEBv40yOnwU6ZMaVoF7rTBUDj5119/oWLFiqHQk/0uuL5QOKZz+vTp0w1py7gZY54kI8S1q1u3brpfBs1m1FAo8iwHGO1LKARq0H2FGOmZRGD9W9evjKULZjkd1qljR9C+SXV0/LwZMmXK5LDssmXL9HeRwwLOToi0rshPOCAOZJqAFobJaGUnqsnLUpObTRN7s+ExDBo0SBM8GMPlgxeUiAG9T3GcDn5Y/e0BDty8eVMrX768Fpa8FWA1rVKlSpoAKmqihdJ4f587f06bMHmcVrB8Li1u6hharKSBWuzk0bSUORNrtVpW1Xbu3qHduXvHJQfE0VKbMmWKy3K+VkD8rzQxMYXJsAQUVRONqya+eab6Fx8LTQQYU3VYWDTHWpcuXTQRsEzXVRWcc0AEWE02jtr69eudF/Ti2Rs3bmhiitIkeEUT64Amvj6abLa0U6dPaxMmTtHqN2mpid+PljVnHi177nxahUpVte++762JtlFfC1wNrUGDBppsql0Vs3uevhWK/IQDc+bM0bg4hTaNGTNGv4FF22O6a4ES1/gQWiVx5tbEOVUXuKy2oerZ54BEVenX1f5Zzx8VJ2xt9erVmqTM0CTCTJOINE0cNZ121KNHD6fnHZ0U3xTLArejNkPjuGjjQqObN/o4f/681r59e01QvN84bvSHaHCMFn2rnGC8aL///rsmKNWaaIffOq8OuMeBTp06aWLyda8RE7Up7AwcOFDr2LGjJolDNa4xrsjqM+7Offcq3MOZSkid8xkOyAIRqupLglhNnjxZj+Sgzdgs0cRF51Jn4Fau2qS5YsCAAZgwYYIeEcKoBYZ5KnKfA8TeYK4uXmNvJfEkeBlDW/lhmCsxPujfQbu/K6IN3ypIJ1Nx8ONPxMgdqz4LVubJ/iZOnAhb1FaSJElMN0M/Pz7jVommr2rVqumh0XTqpo8fQ98VeYYDdCYXoVZ3S7ByfY2MglFbolnS4SlYXjQxyJkzp5Gq+r1nZVw00xvtw+5AXElj6rzvcECEj1AZDNXWEhWg7wLNmLVCDk6iajQRnkIetvyb2h/xLdIETdRyG6ri2xygOVKABt8+YfEI1c+C3aGNGzdO+/DDD3VThhWTGk0oVq411enUNPobUZtLk0BoELUA9erV0ySPmVvdCVaTR82l1BaIM7XS/rh1Vd6sLBsOTTY2plwU3mzh7V+yKdHEH00TR2pNnOAtr/N03aCZ2ywJPIImUcVmq70ur0xdr1nh+3/MmDHD64OUaCpNosY0qizdIZq3cuXKpVGV7WmiX4BogDzdbIRuT5whNZqi3CUJl9fEIVHjtzvE+0eSKFoaE00mAvvgTvdhUpcvJ0kc6/W+v/jiC03wTzzSDzdInibBo9IEgsDStff0WMJLe/Sbof+Wu0R3h5o1a2qildPOnTvnbnO6QGalEUnpogn0iZWqeh1l6rKrB/O9g4T+F0HCawMj8jKRdqlqJhowk9W5Q8QAYWSBNyLQaPpiAk1iAxFJVpm+3LlSr+r2798f4misQxQwsqh//xG4efNdAUXMhWfP4guu0l2J3Dkmn21o0aK6jtDNaCzeNyKQ658WLVroyXMZ8ecuDhPbZTvswyxx/I4SsJptKzTL0zScPHlyr3VJc8SsWbN0MEIia7tLw4cPhzjIu9vMW/UZ2clrSKRxhsjzvlLkHgfy58+vwxMw6TBTzXTv0QOXr1xDvqJlkTBpcn2dvn7lP5w4uB+3b1zBqJEjkC5dOr1TAqP+9NNP+jtBfLEgvjt6ri73RvSqNk3fZomArVwXEiRIYLbq6/IKwPA1K3z7DwLOMTwxUaJEHh2oiL+6j4c4OOoPBrPxeoIYakjgOProeIuIJ8QHknllZBfirW4iTLtEhW3WrI0kJuwgGCvvizbYXqb0Z+Kfs1vs6wuQP/995MuXD8WKFdPxcjwp5DI5IrFjmLPKLBFhmMKYv6VAEdOgjmVldr6uyl+5cgXiQAoxO+r+NMyT5i7Rx6Js2bJ6LjZ3hVxnYxFneNC3UUwiSJw4sbOi6pwLDogWFZUl+W2ad7Lj4/otkPp/qS9CVrtz+yb+WrMC547sQ9LEifR1nNhxnl7LJVgHotU1jbXF1BhLlix5nRIn5PiN/FaCjxEuhXEZOiESO2fv3r0uR0JBhhDyx478gzv3HogkH4DE8eMgV77CSP9O1jfq8+VCVGXu2oip4S7dEOfVgwJOdkW+BwtQ2VfiEM3dW05xfvTmS4joshTcCNxl64d8OH3yOA7/sxe37twjNDQSxIuFHLnyInP2vG45XLvLJ1+sf+/efbnHmoqD4gxhlTF01ahRe0tKiCLyQvV8mhGJ/NJRfuPEMTYWG0+ZM4iowEQV9ydiPiPmMjPiKEx087/3bgedSp9KHqNYMaIiXdpUyJm/BGLHift62lw3+HwzHxqxm9zVjPLFeVIwe44KMOT5y5dB/J6PJM1MTgGJfEfSJrgTxPB60Hb+oOBGLW+FChXeWKf4Ajy4fxfOS86qR4+DED1qFKRIngS5C5ZAosT2k1raaT7CHNq0aTOWrPoLTT7vYEgTf+70Sfyx4BeMGjbEKYClFQZyfabGfs2aNWDuLzNEbT9xo1wBZjprUwk+zrjjI+cEcwWzZ8/W8/c4GtJzWeS2bFqP/t80RJEUd1A1z0ukTQg8FzDco1eA3/4OwL3AjGjfazJy5y8CqjzFsVFPIGgkwsZRvzx+XhbW8Z064Yzszj6WKJ58cky6xlX57JDPH2I2K9ayJZp/9x2SeUkDdFZg9SWEUodqv3v7FgZ/2xxJnh1F7QIv8c7/glVOXpOxHArAoRvx8WXfaShd/gNEddOkJ9MLF/TzzzMk+oPRNGlMzSdVqo44fXqQ26bR4J3SzEVNEpOYmiVqrWgW9laUmtnxGC1PQY85h5ztqq9euYxpY/tj16pJqJs3CPnkUgkmHK6IXL9dgLhXHIqM92t8gnqteuCJ5HXkRoBRkO4ivdMEt3bVKkwUZPXsIoRUlZeWzVB2Qia4TFDXz4qmuINsQEqULg1PaJTs8Y2ozzSht2jeHEvmTMDSmQPwUfZHKPEOkCQ2cPsRsO8C17pIyJa/LD7rPhZpMmTxmkBmb4y+eoz5vcpW+ACTF642JPTY5nHowB78s2UlBg0caDvkkW8ilDMti2B4mW6PiOJEEze7KQrekRJ8gnPDR//mzooLYsKEFCfeJu7EmlUviq/y7tazJL9d4v+PrD0KtJyXEHv+PgqiabpLE8XOf0YW2P7SkDMYcGIENw8MxOd//okyoiL3BpEPxQtmRadCp/WM0c764MvigzExsGn/RcSLb5+vzuqHt3Nx47bA/ftTTU8rIGCbaGYOoFMn83AHjjqjwMOEls3lBWeWJDJKRz624htkti9PlWfIP8PY+XJypDXZsXUD+rd7H79+/hxRnLg9PZYHrcnUACQr1BQ/j5/qsD2jY+emq2T69Ngg2ihX3kdHRQCqI1ATOyQ5cezYIol4gSToAgWzp8b+HkFIGMtxB5LVBJ3mA1kr90S7b/o4LhhBzixdthx3XsZEngJFTM+YqSZGD/nRdD1nFaiRZRh7erm3zBC1mPRPIwSDO+TsXeVOu6quBzkwf/58xIwZ02GLXT6vhj7FXAs9bKBCdtkdfnkbjasVQ5DsrN2hHyVlRVbB3hggjbi6kYjaMktu2suSzHSuaK+8QT/374gJVU+hXiFZ9VxQcrEIbO70GB1q5cK9u+ETNp8mAubk2rNnD1asWKH7ShAPiTstZjWWkG/dTk7fjwcP7rvgmP3TmpZdfIIO2T9p8ShNsI0aNbJUm6kW/Eno4SSJVyRAcw6FlIP7tmFB3yr4rbVzoYdtidUL8z/TUPTZDKxftZSHLBOFni9E87bHgNDDTrKLJmirpKD4TLChaIbyNN24egl1y2XAid5PnQo97Fcs/BhVXwSfy/3Qv1cXTw/F79q7I1rwnHmtJetNmS6jx+dLLC8r+D1MdGsFUy7kBFRUV0iO+Nhv7ga5i6Vznz3avmYesgb9gQwm/P5SxdcwovIZLFk4G/WbfGKvWZfHaFKIJurGMrLYGSUKR/VFK9Ph66/xvkQQedJR++yxvTizcQw61DU6GiCumAn6VryMH7p3wLCxM4xXdLMk8xPRnMNvviD4N1W/9E9hbjMeZ+QCXzz0++B5RtlRG8Bvmib5cuffdCzlh3/TuZjfNDXwfKxYsfS/6SRM/w6e5w6L9fmxnWedhAlbSfSWlYldFm2kZxzibb0zoocZvM0SeUbzrb+R4FNBQswdDnvGz73Q76Mncv0cFnnjRGQp16SohgZ9GqBQUdFoJrCm0RwtZogRsrN2olh5o1/+ILToT+fOYZSYRro7WLPeqmTwwKLpw7Dk0weIZuKtVSGbhv1rR+LSxXZImTqdwZ7CX7EYMWLi8sULSJ0ug+nJ3TWYWNRow1zXGJjC9ccs8b3jCTO2iVvI7BBVeU9w4MKFC7pTnyMV+BhRZw8rblz4sI0ph+QUHLtkqGXBZ4JkZe8k9nYr1FBe7ozUaCl+P56ivzZvR8fy5vlAP6gkB//Uh0EBg9EqFDb4TX8Cmh9I/LYdo3DClywFFQqmdNTjb5ra+Al+jH+TqKJlOf6mEEJhg47YfPj5N00d3AFRjcvjFFxo2rSd1xvx4n+NGxfC1KncpZtbjGLF+lUikVp4bGQ0ZVjVFggGFUqLj4m/ETObS1oWh8NOdG8TYlJlapI+LfoYmzeswkc1G5qs+ar4c/EDTGahZnq5zx8tXgzZrVmo7bjK6oXj0Pozx+cdnama6ynGj/gRfYZMdFQk3B8vXKQw2n3ZFf1GTHKoWbTHhBvXruDav6fsnbJ8jBpdRhlaIbp9EOnbXVKCj7sc9HJ9qvaIneCIrt59hsQWzen3b1121KzL4/9evYpULkvZL5BJBIzWIjgt5uLoITovu8ymHaw1FifgtoRm59dxIRhhQCwVChzEiaBvFYWQZMmS6X4LjCbgeWpRHPlcWRtF2Nbq1q025s5tiaCguSKgGVMtBARsRpcuUZAqldU74e0579y5E02aNHn7hIEj+/fv9ztYAwrDxNdxJvjEiGJJFYccKYHVt18J7gbY91aRqGKCs0qaRFnShOpJCnpozTSfQtRQZw5LhEcEpvSCyVOpfGmcPn4E72Q1FoH3RDZ+U0YNxNABnhVgGZ3s7H53dJn4rBw/ftzRaVPHleBjil2hX5hhrgzjdERpk8XBJXFRSW0ByylBqpyOmnV5PJOEqZ8Rc0km0YyYpUNibpEs1Jb9OOz1N2vaBBw711pf7O2dd3bsdkAa8KUZkSlLlrQSnjxAQDILiWlti7DCsU+ZYAOI2WUYatTYLb5C8zzKNkmloIdeW2lUsoojY8aMVqqGWR06aboa8/3nvBbmfWZ2nwNS5BTpxyIFCcYKZP2xRILhRb8yT1KtYsQwu2W6yfM3xf8ou/W1znSHPlrhi3ZtIJnSUbZaQ5R+r5LTUT4NeoKGVUpi5vQpeui408ImTlIjznB0K0Qzl6DCW6n6Vh1jW7u3qqkDocUBqvac0be9h2DWLvPy65oT0fFBo27OmnZ67puuXTHZYrLQGWLKqV27ttP2zZ6s9FFN/PBHoNlq2HcxGoLS1DRdLzxWWL16pThCz5QQ6JGi8aonws0fMk3bi4YO4ET0/gQffNBRhKSqGD58MD7//HMdLNBT/LCZFq20R78BfyM+3640XDeT1cVdC1bl6f+kQvmKlS2zJFa9ejhpATRwp5hsk8kL1tNUp91QXLPggz/vYAJ81fV7Tw/H79qjaZ5m/LwZkqDnF00xdcxQXDh7CpoII6R/BQ9p4cxJaFWvMo5vX4U9u3fofoYEh6UPoido8+bNljWBTHRM1GlPkBJ8PMFFL7VBUD4bIJ+jLjJmyoxIBXtgxbFYjoq8dXznhWhYGdQEFSp+8NY5owdoBsojoew/mQCYeyHeme3EdNR8xAjdr8VoX0bKJU6cBPW+mY7RW+OJqcZIDeDc7UD8cr4Cenz3g7EK4biUJJPVQSCZ8XjYsO7y91isWxdb8KPWYPr0GZLqYBVWr46Mc+d+FGf7UbKDzqIDiBFtmOZAOhy6CxooyQp1k6IVNjN6jeZIfyPuYok87oy6fPcjOq3Oghev3k/Oiurnnr0IwCezo6PXzyvcwtTpIBhAgwV89IqJDc5pWRdmlRUMHYkY9DRVrVEHTZfmxZ0nTuL5Q3Q6aE1U5G8wzjRIXohmwsVPRnISLZkAn7/9uhCtm9WFducC/tm4BH+vX4xn10+jTpVy2PrXehHGGyOhXEv600yePBlTpkxBV9nsUnhyhyj4UOtkhYjVljt3bitV36oT+Qeht46qAz7BAaZ9KFSokO7w6mxARYuXxqLdT3Hi8AFkTRGAqJGe2y1+9WE0zDyQGKP+zo8x4yfrfix2Cxo8mFvCVm8JYutMATBMKX47ieUTYKfuC/GR2Sc7x6HywDWVcGqmOPAGZc+RC7suxsam7QeQKYmG2IH2fSMeBEXGrwejY+bVWhg4aqrXMEe8MUdvtEmAur59++rgj7b2CZ+QPn06WWhy6Xmv8uTJJSjcGd7iFZ3uaaoh8rckJgV3ZUTrtgIuNnbsWH1HZyXMlZAPvK886W9k44U3vyXLtGjQnG9AyMt38pTFj/NOIWmMh0gei8/Z29I9wUp3/BsTg3bnFByf5mjQoIFbQ2fkXylJcdBNcjUFiRkxrbQWTZz47dFt8XlbKA76c6tWxZCJE53Cb9irb+QYx1O9diN0m34WMV9eQ+q4zxA54FXwQPD6xPA5eiM2hu7JjDx1x6BW7TrBT0fIv4mQzGCN9wROhMQITz5n2bJm1cFCCRiaPXt23X+RPo3BiX6PxYsXB9MZEXCQARqZM2c25SRta48pSCpXtqaFpC9ceQ/lhlMAhrYr4oPfRF4dMmSIfpMaGR6B34hxUDJrdJRMclwiMs7ihSaoqkHpsOXaO7gSlFiHfqcWiSjHfFF5AmWVD0LPnj1xQfBiKkhUThbZxcaSncEdySt2SDQI6yW8uqQsoESRDQ26Ko7X7CtVzHsol/IsUmpH9If0QlAK7LiVDXvOR8YQwbLx1O4hNObkzT5GjhypC9glSpRwuxuam9q3b68LQlRLM2KNx+jQuGL1Mmze8Rdu3r6BeHHjo0CeQqhe+WMULlxEX3AZ5cedpRUi8vFEeeE6in600qa365AvfG5GiaO/EWJkIPFPdm1dh0pZ7iNLlH/EE+subj+JhoOPc+LPk7FQrVZjkBffCUp6VRFCjKTAMNI3/TL6SpRWXnnWi4tmLpVEm5LOSxTiNsmndkSecaLpZpUXaWgQkeznzZ6OSrkCkDvGP4inXcXDZ4E49iQL1p5Liky5S+i89cT6Fhrz8WYfjELlekjNjSeIG/K5c+fqeRJtiUyZRoVm2zVr1+FvwfW6dfuOCL8xkD1bFrxf4T39PqSZbenSpU4zEDgaH0PguTbQN9QTpAQfT3DRS230EoBAwth7g2hG403Il5SnieGK3PkTWjysibscmmLoRMpILUVvcoAYMtS0MBO2J4mmJ+bi4f07etJwxCr2GFq0t7UFL569xK3dGqoUqImsWbKhXbt2loZBxbW/Ka9/++03HU+pimwKvEHUJM2cOdMjCO0hx0ehduHChfr4Q54L7d/EfeKLUSUqts95PlN8Dj2Z5JURVoMGDQIDCri+rtu0DT0HjkH8hHRAf5OePQ1Cv2/a4OSxQ6DQRI2wWaLQQ6HaE5sz9q18fMxegVAqzxe2N8OlKalzN0Q8HU8SsW74kPmC0ENHWar7z0mouxJ67F9l4mkwgaWnieav2nVrY+S6XohZ5r5doYd9Rg6MhMTFImHb8yUYP2s0KIiZJfod2HaeZuuGZXluDjylurc3D2aw5uaJkTSeJAKq8mVK01NYE8dC37AaNWqE9VB8sv8/JUUQfcg8KfRwotSs0mqwbt16ZClSAYMnzLEr9LBsYNRo6D1yCnoNm4QBAwfxkGlau3ataIYLm67nqIISfBxxJoyPczdIbBlvEiNyqMJm9mZP0QhxXPaFnTcFR6r7OR53s1J7ije+1g6dHdtI4kln6VCsjnndunVYfWo+YqWRJcae41ewhrmIBsaOhOhF7qNpO8kzYJIWLFggYfi5TNYK++IUHIgH5S3idaWAwnQYniKaNOiX9L5kZQ9ror8ITajcZPmTiTO0+EaBl8Jvw4YNvdJl+46dMHr2MmQSXCD6DLmirDnzonB58QET9w2zxI2NJwVt16M1O0JV3iMcoEowb968HmnLUSNcLLp06YKBAi9P/wF3iV731PiEte8MfY4YgcBcVOkFM0jR2xzgtSKfihYt+vZJDxwZNWUIEuSIauqFFCV6ZFyKfBwrVi43NQK+iLMRc8aPiEjfoSGQUyCkkDJt2jSPcIdmUW9oCM0OjklsqQXwhbGYHXtolKfQwzQoXAe94ed0TIAEA6LHQ+Ik5iIpi5Qoi+Nn/jXFAr6b6HjtSVKCjye56cG2uCiGxsLIPrp166aHI7urEqeGJbQcmJ2xukWLFrqDpz9qAZzNy1PnGMVFJ3hvaua2H9hqabixUgRi1tyZhutyUSSStpUoMsOdeKHgxo0bQeiA0CBG3NHHjcKuO0TnVTqrM61KWBLnQS0fnakV2ecAEdAZ5eitjR99+Bp/9oX9zl0cTZc5h4sSb57+448/lODzJkvC7y+GD4YWEQ2T6vB5kpvHKtFX6JNPPglTXxo63NWpU0f3awhrrZNVPoZGPTq8Tpo0ySs7Qdv4tZdvh1vbzrn6tgGquSrH8xTiKknCW38jht8XKFAg1IbdvXt3HTjOHSA6hjJ37tw51MZsryP67VFLPVSiMhXZ5wCjBT2NjP9WTwRLs/iIm63GaE1PITbb5mFJ40OHqQmCx0IwpPBIvHEYEsrPlStXQn2KmzZtCnWfBeI4MEEk+zZLTO65fPlyHRjLbF1PlqfGieHBVqIGPDkOX26L2csJmkdMDm9SobzOQfkc9X3/v6eSysR4ri5G9HjbJOxorO4cp8BGTVVoEbFZ6A/DKE6a2czSgAED9M2REV8Os20bLc8IIqJcM5Rd+fQ45hp9aLgee/NaURCZOm6440E4OXPm2EEnZ988xXuV9y4Bcz1J5nMdSO9Ea6XzLdVo3nKc8uQkzbZFMDcb5gGTqYXmAsWxkr+jR482O2y3ynMh6dChg24CSZs2rZ6fheHue7ZvQOwHBxD94QlE1p7iaeR4eJLgXTyPnQl16zdEHgEx5A6M4dAhga/cGpDJysMFRZrRCxyPIvscoEaM2E306fI2dWn9LT7tXxdJ8sWUl5Sx3p49fok0yIGqlasZqyClGOZqFfvHcCdeKOgpfB0zQyMQHQUfPivUCBDS4hfBdtHunkbMe3sQ9dlVQT0PwJPoGfAgbkFkyF5Yz6fHjQ2xscJizLb5caw0zTKxcZQoll5btqbC9ffKlSv191V8AZP0JhHAMH70SLhx7SoSJzXu57Nt4xoUymvc1MUNglWkZ2fzV3dQCO4wUoALQ1gRJdwjR454PPzQ6HyIzcBIn/jPz6BS6lPon+UaIr+hF7wvTV0U2PgoGP/TZIyP9QFSpMvmFayQO3fuSI7EE7h8+ao4XweJf0EMSZOQXOy9Wd9AECaoG9MVeCqPi1Fe+Uo5CjQM2T9+4riABTKnFhAnXlxkz5od6dOlf7077t+/vx72yxegtymnoGhnipIf547+jQTZoiEgkmPph+N/fOM54lxKi/FjjYOsMXKP/h6h4QvnSX4xw3RomrmCj53Cy/bt2/FVh7aIcnYuvin3AEnShNQAHZAqBwQFeh66NByMO7GL6MKlp7Us9Ck8e/achKOfkhxSr7LIxxVgyxw5Mgs8QdrX9+11yRJPjROf84gq9OjPuAh/p06ewh15xvk0Ubih5oUKCNLDhw9Ba0xovL/4nmrRvClq1fkQPX4ahXyFir2+Xvpg7Py3b+dWnNi3BSOGGzdT8lnxBuRDqAg+dEC8du2aZH1+ot+4RA62qa54QfmCIzH8ks5zNmI9oj2SuLjZVHeMRqEJitJg7Nixdejt4A8l++GiyPKsRxUpz/Pl6MzDnTcOd0TuOvnaxm/lm2Y2+sqEFTEMOdPjZej1/l2nQ4gf/Tm6lbuJW48XodqUJDrfPLXLOHOGu7vJEjZ7TK4jk9IVlE9C+YgQFnmX3Cd9RTgrJqr3pnpkB/sNj5pHpxdATvI+ZX6stl+3wq2XlxErfQCixY+s294f33qOe+eeCqJtEoz6abwgqGbX8xWVK1fOVbOmznMB5PNL35HTp0+DTpXEpyFuSNNGzfH02VOMmDEQkdLfR5TYgtsTLZIuBNEH6MVTDc9Fy/P4TACKZCyPSb9PeeP5dzUQPtd00vY3oinCW8CkrnjBqMv92//EdwV3IHOuV+uuozpF0zxE0TSnMWf/NcyeOQMtP/3M5cvNUVvBj3Nd//PPdRJ1NA6XLuWQSNCP5HSu/xU5IffAzwKKd0LcKTqIFreQvraMHz8+TP0Hg48/NP/mu26jmHOHjRyDRMlToez7HyF1+rwi+ATgwrnTmNl/GO7cuITvunfVkcs9hWwcfI58L/L55ofrDSPqKJCULMns7dMErXk91q34FR83aCHanxTyTo6DKIIRx7E/fvQQN69fxYpFM5E1fWpTQg/HQP8erzixi+Bhmj7++GP6J2kiabqsKwzSRDjRy7OO7SMYMq/rClCfflwSHb4+xj8kdPJ1eYlK0M/JYqeJKeb1cbYnEuEb9WR3oJ9nOTFVvS4roX1vlAv5o0KFCnpZkaJf15E0ECGLefW3JIvUBIXUq304alxeYtoP9VJq2gTReJv4PBkbWataqayjZk0dHzt2ghYpUnfh/3P5iFTs8BOkxYnTWOO1jogkQo/WqFkDLUf9pFrRLmmcfvJ+klyLESeaJhgsHmGVvDw1iarRJCWCJmZgTWADNIlS0mShc9j+nj17tHoN6mpxE8SR6xtJix03llamQklt5aqVDuu4OiFqfY33rD8Rx8v1kNcvLKhx48ba8YEJTT3fXAuGN02obdmyxe0hc21LkCCjFhBw1smz/eq5Dwg4I7xKpXHNj4gkqSa0FKlSa/NWbtX2X7jv9DN+zjKtWfPmHmOTWB008ZfUJIJPK1iwoCZpVTTxAXXavvgPao2bNteSpUihiduDJgoO7YNKVTSxojit5+gk1xnJvefotFvHvarx4W6wYsWKutaG2hzuNulcydBK+tA0bdpUT34mAocenhjSsZZ+RCT6nBAWm863RG+ktocqT9ZjHSYvo4Mj2w5ORIENDpZEwD5HRE0HQ0zpGDtmzBiXiQMdtePucUZ7hBU2BSO7vsp/w/QUokZ6gVJJT+smuhyStNQqDRkyQvyF8ouo08pAE1Fx//5MieBaLOavuaLxcS8ho4EOfarId3164FCUjYiTNKrLccVIFIicLRKjZKUi2LX+gKmdM/O/UX2+YsUKUFPLXR7NJUyeS3wYHguubXU0GFk8MW/OfEenLR3funWr30V00WzD58wIzywxxUWlnDGOIkv8Wy5KvX26Y/Fb6D5ntFspA5hWIn/+L0RzwHVa1H8uSNMyiPnmsLw3WuPAAfeTKrvozqdO35Xoteo162Dhmt2IJVYNV/RuybJImCgx+v3YH99928NV8dfn+Y7mu4/O0IQr4HuUEcWEAqE2le+i4FaY1xXt/EH/ypnTp9o5Y+0QNcje0uh6VfCheYt+F6cku++sWbP0FAw0QxHO/vLly/piSiY3b95cF3zop0DhhmpyLhCM2CBRSOJCQTsvhZ5EkvySMOXMLkt/GDq18qLJrlJfkG1spqqtdu3auqqMQpAj/An2yYR+vAmI9BtW6Q1ouqCPUR9JBhgWtGHDegz/4qnpruXSoGbWSzgn19Sq4EPnxd69b4nQU8ZU/0FBtQSH6AvJ+FvptfnUVAN+WPjAwX2YvnIc0pSJa3j0UcQRMTD3AwwY+hP6ft/vrXo0G3PjQFU2/WboB8TngNnOiQdCbCRfwsrhs82ccP5GXPfoQxdWVCjOm5tDo+PgM37tpPmIz+DtDxgwRja99O9w/SK31dO0eHI/9hG/lTGCxN7Fdjjcf0+dNh1d+kqOOwNCj40ZmbPnwvpVS3FBTMBp06SxHX79TYXDvn379Og+uoLweeaHfkLEXyM6clgGqLwe6P/+YEYBrjveIK8KPtTSMPMwFykKP7T/80Omk2y+PcThoFDCBZdgehR0iCnDxThFihS61ojlaVskUfC5dOmS/uFvvmy5YDPLNDFKbEStEAUuSqzp06e3HX7jm8IOES45Ju7ECPbFnWRY0AXJeFymTJkw2w0mSpgAj0XuiRPd/Oz/uxvZLfj9iROniWawmfmOpcbDhw31nGMUoCMCEamY0VJmiZqfFdsXof21DiAAGT/cEHCDQl86pkgpW7asngLAlxZAe/Pkhic0sa7sjcHKMWqVwxLk885TOrYzQME8RY0R33ylYDXmzHkqG5uUwY4Y+/PFi8zi73dPBB9j5cNDqZ37DqJsDfMv/feqfIzp02eifr06r59xPt9UGDD3I5N88j1n87H1ZV4dPnxYV0h4Y4xeFXw44F9//VXf4ZD5dDYm86n1CU7U5lCyY+4ghttSgGEoNSl4CCXzxJCIQ0LcmZAkNug3DnHX6kpNRzUfzUskCkfsP3juKr5kqNZnpmNvE4XDsHRs7tqtB3ZvqIXymd+8Pq7mrYmj3YANCTGra3ZXRR2ev3r1opxL7/C8sxN372aRF/gGZ0XC1blH958gWlxxYrZAt+7f0F+81HB++OGHfhcRZZsyd64Eq/QnEqcErFmzJkwFn+VXiqB6jvUIjKyZYt2th0C+ip+ZqhOy8NWrrs2yIevYfl+48P9BL7Zj4fn7iWz6rVCSZCnQc84sPHv6BFWqVNHT9vj6JsbePPms0KrjLfKq4EOoaVsM/ldffSWROj/oqjXaDynNBSdxmNYFHx6j5oMhlyRmj7aRTYihLZHCUUgKmfDPWQSXra4taoy/KQmHJILiUSMVGoIPeUK/pbAiPijVfy6BQqnXIS43hgZp6ymgc/+ZbmWTT5cuowjGJyVSKZvBXv+/WJo0h3Wh9f+PhO+/4iSIjScXniNGwkDTE00WP6UOAGe6oo9VYEQXTeb+RDQ1hPWYO3QfhFEDi6Pze8ZfrE8l2r3okFjYe+xTt9idIUOQaP6tNZEjh7nNmLVefKdWLIuQE5cvXsCnArzbWUxX/kxUbtAE5y2K5K2G2a5Na0OHYUKM055Isxft3CGJwhB9dUg1a9bUMQmYmCx4KnqCJpEY8k2VPD80DTHkbfPmzZZ8cxjiTsEm+Cd44sZSpUq94TekD8BL/1F9H9Y0ZeZ8dN1VERRmXNGLl8BPqwNxPMsElCtf3lVxp+fbtm0ljrITnZZxdDJmzFn6PePofHg73rLZJ7i+75W52Mzc7l8KQs2yDc1U8dmyTF3gb8TnO6xhF4gflKnBXLSeFx18fl3R6WtA7Zkp8dfuE/r67aq8s/MNG8YUc/gZZ0Xsnosde58830ntnguvB8sUK4Szp46bnt7K3xegRTNrLgOmO/NiBbq10O3EWxTFnYbpZ2Mv0R5NWsycy2gsEndndEymIENUYpvJ6tGjR6+7p7mL/j0UehhJQqI6PjgRY4emM2qEqlWrpjOGESdE86Q2qFGjRsGLG/qbUSpEuwxO9PHhcRJzGmXNmjX4aa/8zd1gaADLuRo8/aeG/7IU82ZPxeLlA5E7/kWUyPgC6RIB0eRuuS0q7yMit649HognKUVD1PlrFC3+ileu2nZ2nv2OHfsuWrYcJabQDs6KvnEuYcKe4kdW3yd498bAvPgjXdp06Pn5Txizpj9iZRBEjwDXnT258xzZteLo0K6j68I+XoJBEAyA8Dci9gnXsLCm6h/XEL/Iv/H9+MF4cXwm3svyFPlSa0gSh9hQsl7fFn/Kc5Gx63JCpC3zJeat66hjrLk77s6d22PLlq/l01ewe5IZai569PMS1fWLuEsMMVQ+vBRq1KghWrf9Ak3a90CSpMkNTevPZYtRvEBOtzTvhjoKhUKM6GLUt7fILcGHYFj2tBQUfOg03K5dO10ooT2eSfJIdESmSYVmMPrXsJwNjZOOVzaiICSYE7af+je1LzRxMcRu2bJl+ocnCGDH9sNajfzGYE3+2LBhg88gD9Nk2PyTNoB86DT+6+qlOP+3AEY+e4GEYgPLkyc3WneuoQNCmpym0+INGtSTBXYpvv66hwjLDcW5naHx9pSSLwQka7+EXs6W9Au13QqxdTogHz7Z6tPPQa3HtPWjEC+rmLyiyhvLDr0IeomH5wQCMv57mDBpYrgQEFetWqVDY9iZrk8f4oaN65ovUOYsWfDjsElyDw3FqhW/Y8ie3bh++4F46wGpkiXAew0+xIASpZwCvpqdB6EPFi8eJO+FryR8uqJo9T8SC4BIW3YocuR7oh1aKhvhzbJZHhYu7ls703R4iPAv48f+jLbyDs2ctxhKVaiMuPES2C1/9/ZNrPptPlLEj45WbcJesLY7SJMH6ePjzWclgChAJsekI7Q6y/LLAdMPhz42DNEmRsD+/fv1sFj6sDCaixElFJBYzib40AzGEHW2TXOTzc8n5PgY7UUtD52BKezQP4gIzjaiBzs1KGzXnhO0rZyjb/r92LRONMGF9B1yVM+d4/SBIuYQeRLRifcBQ/rXrj0h+YQqSkRCFrmP4kio5V253kdE4PpTUi+UClMnUV+5RozK4gbjafQHuBb1DJ5FfmUC0x5KYr+nqRD7eSIMGzo8VLSWocUTJg+medubC6On50LzPBPoMspVEfSw6u+++15gS/KJv2cJ0fK+ivaKGfO8YMhsk83sPxg2bIhleIzwxGP6fn4n906KtBmRI19RJEmeUr/3b167jEN7t+HyhTM69hwjoMMDEe+J+fe8gUJt448lwcdW2dPfNDlRG0RidFXLli093YXPtterV68wg7H3WaaogSkO2OEAgyT48SciGGvUqFFfr2/+NHY1VsWB0OQAhR66lwS3AHm6f59QLzC7dxoBXLIlmaSajz48EYWIIcQwf0WKA4oDzjlAv0Cb76Dzkr51ls6aZcuW9a1BqdEoDvggB5iJgUjv3iSfEHzSp0+vR2oRKZYw+Lt27fJL50WrF4r+SoQKV6Q4oDjgnANz5syxG1DhvFbYnyWWCjd0ihQHFAecc4Bo8d52L/EJwYf5OOioSd8epmywFynmnFX+fZZqcKLmKlIcUBxwzgEis1tNi+K8Ze+dZQAHAzAUKQ4oDjjnwLNnz0Ll/e8Tgo9zVoT/s/HixfNbBN3wf3XUDH2FA1wUqR32pZxhRnhDtOaItpkzwhdVRnEgJAcY7U3YG2+TEny8zWED7QcHTDRQXBVRHIiQHGA0J5MO+xvNnj3bUnSpv81TjVdxwF0O0LGZgMfeJp+K6vL2ZH21/W3btvlUVlxf5ZMal+IAfeG8bf/3NJeJY0bMM38Kv/c0D1R7igNGOED4m2LFihkp6lYZJfi4xT5VWXFAcUBxQHFAcUBxwJ84oExd/nS11FgVBxQHFAcUBxQHFAfc4oASfNxin6qsOKA4oDigOKA4oDjgTxxQgo8/XS01VsUBxQHFAcUBxQHFAbc4oAQft9inKisOKA4oDigOKA4oDvgTB5Tg409XS41VcUBxQHFAcUBxQHHALQ4owcct9qnKigOKA4oDigOKA4oD/sQBJfj409VSY1UcUBxQHFAcUBxQHHCLA0rwcYt9qrLigOKA4oDigOKA4oA/cUAJPv50tdRYFQcUBxQHFAcUB6cnfNYAAEAASURBVBQH3OKAEnzcYp+qrDigOKA4oDigOKA44E8cUIKPP10tNVbFAcUBxQHFAcUBxQG3OKAEH7fYpyorDigOKA4oDigOKA74EweU4ONPV0uNVXFAcUBxQHFAcUBxwC0OKMHHLfapyooDigOKA4oDigOKA/7EASX4+NPVUmNVHFAcUBxQHFAcUBxwiwNR3KqtKvsEB06fPo0zZ874xFjUIBQHfJkDUaNGRZkyZXx5iG+N7eXLl9iwYQP4rUhxQHHAOQeyZcuGNGnSOC2kBB+n7PGPk9OmTUPfvn39Y7BqlIoDYciBr776yu8En3/++QdHjhxB+/btw5BzqmvFAd/nwNatW7Ft2zbUq1fP6WCVqcspe9RJxQHFgfDEAVc7QV+c6/r161GpUiVfHJoak+KAT3Hgt99+Q/HixV2OSQk+Llnk2wX+/vtvpE+f3rcHqUanOOADHNi7dy+yZs3qAyMxN4TLly8jc+bM5iqp0ooDEZADd+7ccWnmIluU4OPnN8f8+fMNSbh+Pk01fMUBtzkwY8YM5MyZ0+12QruBuHHjhnaXqj/FAb/kQI4cOQyNWwk+htjku4UOHz4MOnMpUhxQHHDOAT4radOmdV7Ix85eunQJKVOm9LFRqeEoDvgeB86fPw8l+PjedfHKiIoWLYqAgACvtK0aVRwITxx4//33/e5ZoUa3YMGC4ekyqLkoDniFA5MmTTJsEg7QhLwyCtWo1zlw79490G+hXLlyXu/LSgeMRpk8eTL27d2DB/fuIHWqVKhY+SM0aNAASZMmtdKkqmOHAwxz/vXXJZgzdy5Onjyhl8iaNQcaNWqA6tWqIlIkpdi9e/cuTp065XdCBJ2aV6xYgciRI9u58mF/iFo0RpXu2rEFd+/cRdIUqVC+/Hto2bKlesY9eHmeP3+OZcuWY/rMmTh96qS0HICsoulvUL8eatWs6cGe/LepXLlyge8cI+udEnz89zpj4MCBqFu3LjJkyOBTs5g9ezb2rByHuun2In0iDXECgxBF3r1PngG3ngTi+BVg8dlcqPHJ9/iw2sc+NXZ/GsyTJ0/QpGlTZMtfHPmKlEDipMkQPUZMfQqPHj7ArRvX8c+eHTi4exOm/jIZ8eLF86fpeXSsvXv3RqtWrZAiRQqPtuvtxr799lv8+OOP3u7GVPt8CQ8e0Bf3D85G1Yz/Im3CF4gb7QUCRTYLei7PeFAMHLkcGQsvFkeX3sMNmx9MDSKCFKbA3qp1W2TNVxR5CxVFoiTJECPmq2f88aNHuHntCvbt3IKT/+zElF9+QezYsSMIZ96cZlBQEPiM9+/f/80TDn4pwccBY3z9MBV1efLkwZ49exAtWjSfGW7vnt8gy42xaJD/kdMxPZUFcsbuaLiQ6kv06t3PZ3e0TicRhicv/vcfvvy6K1q0746UadI5HcntmzcwYfiP6NC6JYoXK+a0bHg8SY0YNwfU+AQGBvrNFLmYr169GtWqVfOZMd+4fh29v26G2snWoPQ7z8V06HhoD59GwqCN8VGg0SRUr6G0Eo45Zf/Mxk2bMGHqHHzyxTf6psZ+qVdHL144h/mTR+DH3r3Ej805eJ+zdvz13HW5L8+ePYsiRYoYmoLSgRtik+8VevjwIQoVKuRTQs8vkyciz62RLoUecjOqQGd+WiwIH74YiDkzJvkeg314RC9evECffgPwdd+RLoUeTiNBosTo1m84Bo0Yi2PHj/vwzLwztGvXrqF06dJ+JfSQEwsXLkSWLFm8wxSLrfbr9im+z7MSZTI5F3rYfKyoL/F9hVtYPrwBTp54ZYK12G2Eq3b8+AkM/3kiuvYZ4lLoIXNSp02PNl37YeDgoRGOV5zwr7/+iowZMxqeuxJ8DLPKtwoSr+DTTz/1qUEd+3MYauQVe5YJKpJew/wRHXBZolcUGePAmnXrkCx9FtNC7/cDf8aEiZONdRKOSl24cAFEbPY3Gjt2LFKnTu0zw17750q8G3kFksQxPqTI8oaZ1PgplswabbySKompM2eh99DxpjgRM1ZsJEqTCVu3bjdVLzwUnjJlCszAPijBx0+v+ubNm5EvXz6fGn3B+HS6M0dUlff68BkO7N1hrmIELr1p40ZUqlbbNAciiYPss4CopuuFdoVTp07j667dUbRYCeTMnQf5ChRG3QaNMWfBIlDbZZYOHDiA/Pnzm60WpuUZuJAoUSKf8tmYN3smPsxpnv9k5Imts8KUn/7W+elz/1kacvEyFbBq9SpLdUOz0qHDR9GlR0+UKFUWOXLlQd78BVG3YSPMt/CM37p1S4d8YB4+o6RydRnllI+VY5hrnTp1fGpUgZGsBQjGFhely8/MaYp8auKhPJhnz54jMKo1vy4KDrNmzcK///6L/8RP6OLFi7p/FSMiiAdFgD9+m1lEPDX9ESNH4u8jJ1Hmg2qoWKs5arboiMhRokB7qeHRowe4ffMmBoz+BXs2r0Gf3j8gdy5jYITM30PHZn8i+iz4mkb3cdAz3URthY8vnj21Ui3C1nn50pqAGSgvf+Z1o7aQzzafcZp606VLpzuZZ8+eXf9OJRG2oU30tevWvTvuBWkoUb4KyldvhOpN2yHK/57xx48fyjN+A/2Gj8fZw3sxauQIQ1ocrmVffPGFqekowccUu3yjMHeDj8SjnzeML9GJu4lkODdMD2nGjkhoXCOz6XoRtUJOEVL2Sfhw0dLlTbMgMOAFGjdu/Ea9+/fv6wskF5B9+/Zh6dKlrzUrdKInTlT06NF1swtNL/xw4eQxTxD76NqtG1JlLYCO331it8noMWIgYaIkeCdLNpSu+CHG/fIz3itZ2GUo740bN/wOu4cMYJh42bJl7fIirA6WKfkudp9bjFKZzW9wUmQ25nQaVnPztX6TJeZaap6O/LNfEnTWRd1gm2Judij82AQh+sPclE1ESPy3JEmSvH62mdOOv0OWMT+iVzXok9rhy29Qrmpd5MpXyG4zfMYTJEyMjJmz4cp/5dGhczeMGNwf8ePHt1vedvDo0aMuk5Laytq+VVSXjRN+9M2XEyNUGMruS/RVh9ZolWQisiUzvjBeux+AXgcqYdzMP3xpKj49Fgq9TT9phW8HjEWACYye+dPGo3i+rKhatarp+VE44j13XJyjT548qX8TW4Z4TIkTJ9YXSX4nTJhQ/yRIkAD8GBGO9ggW1d4Tl/BuSXN4VOOH9sWgPt863RUyKooLf5UqVUzPOSwrtGnTBiNFAxYWmjdH8yYfO9XMjCEfnEU0g3suosQt2BcJyRusQZmy5gV1R2MJ78f//PNP7Dh0BtXqvLlJcTZvXp+Rfbti6sQxlqJk6QvHZ/zYsWP6M07UcJpbbc83n3U+37Zn2/a3szHxHMf1QeUq+KbfKCQTnCejdOvmdfT8oik2b/rLKTZP+/btMXq0OR8yJfgYvQo+VG7OnDm6hOtroGZUZdatmBtjqhxFsjjOhR8uiOduBqDq9NTYvf/Ya2wKH2KzTw9l165dGD5mIjr/MFg0f4FOx0q1+cY/VyDwyS20b29OJey04RAnHz9+jEOHDumgmkyeu3//fvCeoBmNUPI0ofE7huzsCMFg+5QpVwHDpixCNJMapGtXLuH3aaMxZozjRW/IkCG6Y7MRULMQ0wmzn8RnInDhRvHl8jU6sGcb+rWtiKmNH4Emamfh7HLpseNcZMy6URdjJ8/xtan4/HgGDhqE+GlyoFCxUi4FmefPn2HoD9+gdcsmKFOmjNfmRq0Rfeb4bPPDv23mM37TVM4UK7Znm9+3b9/G3GUbUL6yeViGX+dOwxct6iGpaJ/sETVJDRs2xO+//27vtMNjBuV2h/XViTDgAF8uvNi+Rtwt3HiRBN0O5Ebe57+jfZknYFRHSHok5v6uv0ZGYOZaiBb7FK6JPwNt0IqMc4B4FUPE3FS2XFEMHDcdGbPkslv57Knj6N25FSq9X9HreDAUaAoXLqx/bIOhGYuAd9z18fuZ+HLx/qXWkgsnBaRzF/5FVAtYVPESJMSWrVtsXdn9ZvSjPwk9nAT506RJE7vzCeuDv69Yg6SFmqHBovWo/c4JNHlXs/uM330MdFgcC/HztUSQ9lC/9r5mmg9rXrrqv2uXLjpOW/vG1fBNn6HIICYge3T66EF0bdcMKZIn83rCapup+6OPPno9FD7btueb39QUcWPGrAJ8vvmsL1iz+3V5M3/kE9DGp4Jn5Yi2bdtmyddVCT6OOOqjx/niYDI2XyICrbVt2xalSpXC8uXLEVOQRf+RG/7nNUtxfPsC3PjvlCx8z+R4LKTOlA/ZStRHh3HlkTlrdjx9+lRPa3H16lX07NnT5/yWfInPIcdCP5u/D+zHhg0b8OvkoTh64hRu3r4rxTQkiB8PuXNkQ+GC+fHXhvU6ajMdfGkvN5rIL2R/Vn7TR4CggcGBA3mf8GOjbDlz6y/G4GVs55x9PxTzW5bsjrMx897ivelvRJ+FWrVq+dSwaTL87bffdCdxRshRk7d31zaM27IWx7bOw/VL50SofSqmzZhInrkw8pWpjz4zK+kbGppOWrcWM7jcf0YB5nxq8mE4GGK1/bH8dwlR34olU1bh4JFjuC3CfEBAJCROlADZMmVEieJFcfCfv0FTVd++fdGnT59QHTEtD/zYzLJZs2YFP7Z7mILQH1sOiOaqtOlxnTtzEsVyOIZ0IIAv3z1mSZm6zHIsjMvv3LlTVy9+/vnnYTwS6Lv3efPm6RI9cVLoEGePNgkCKVWkzrRUvIFnzJiBZs2a+V0+JXtz9sVjNEV17dpVXxx9KX3F/EWLETNZZqRJn9EU21YvXYRalcog0zsZ7NZbs2YNCPlfu7b50H+7DYbSQb64vv/++1DqzXk33GTR14go8Xx+bS+3kLW4q6emqqmkULFH3LDRD4PfXUST4SmnWXt9ReRjixcvBh36feH9YLsO3HyULl8RI8ScbUu3YTvn7Dso6AnaNPgI27f8pZvO7JXlZpnCnlmyY4gw24QqH5oc2LFjB4KrGUOz7+B9caFjCCEd34YPH+5Q6GGd7du3u3TE5s6G/hiMOJg4caJf7tSD88cX/6YpqnPnzvjmm29AE5SvUM3q1TBmQE/cvX3L8JD+3rsT547sdSj0sCEKPkRs9ieiJuXy5cthPuQHDx6AoHDMB/jTTz+hefPmDoUeDnb9+vUOhR6epzaPmyP6LlGAopCkyPMcoJaFggZNQL5C9POZNH4c5k0d69RsFXy8fA6WzJ2O0RLSzvr2iGY1q2ZsJfjY46gPH6M0TxNHWBFD6btJ6PE6QQ+eMGECKleu7HQofMFyzEbs+9xNMiFjxYoV8fHHH/ucSc/pRP3kJH2puBvkNfQVooNim1Yt0aFZTVC17QjDhPcSk6/+vmAm9m9aiXFOnJo5N/oUMRLFn4jZpUPTFBmSN+QxTVM1atRAiRIldDwYRy8eW11qEunkaoTy5s0LBmeMGzdON3HTHKnIsxxglNMvkrCUWFC+QHwOaZZ7eu86fuj8OW5IYlVnGy+asCeNHICcGVLoZjxHc6ASwPKzIgNQ5Ecc+O6778JstLJgaR988IEmDqOGxyD+J9r06dMNl7cVlAVRE+2EJmp22yH17UEOSLisJsKrB1s039TBgwe1999/X+vUqZMmwrEmL1Bt+oyZmvj8aD0Hjtb+3H1C23/hvrb16GVt4tzlWpWP62lVqtfUTp05q8mO0GWHw4YNc1nG1woMHTpUO3HiRJgMS8yCWoUKFbRVq1Zpsps2PIbZs2drYs42XN5WkPPkeiKYMrZD6ttDHBDIC02iKDVe07AiEXi0UaNGaeLvo61du1bjmPiMDxo+QsuYJZvWre9QbeX2I/ozvuPEdW3Koj+1KjXqa/UbNtauXrvmcthff/21Jn5NLsvZK0DJS5GfcIAvCjEDhfpoRS2tffbZZ5ZelC1bttQknNHymPnAtGjRQhMcGcttqIpvc4AvNi4cu3fvfvukF4/ILlQTPyNd2FmxYoUmwGpv9SZmFm3f/gPaypWrNDHrasuWLdM2bd6s/Xvxv7fKOjogEWN6PUfnffU4r0lY0IgRI7RevXpp4otnuvvu3bsbEkTtNUyBt3fv3hr7NyLM2mtDHbPPAfJW8KA0CiChRVxXJMBFE19NfdMqmkC7QvSDhw+1A3//I0L2ak0yEGgCmirC82ZT9x/fLVZJRXU50qP54HGmqahfv36ojYwqbNr348SJo/vfmEkCZxtk2rRpXSJv2sra+37vvff0PEt0YitYsCAaNGjgEtPCXjvq2JscoG188ODBIFAezUG8Tt4ihpQTZ4NQ+nSqFiEa77zzjsPuYsWKhfz58sr5vOILctCSTxsd5Tt06OCwD189YeUZc2cuf/31F+gQS9NWuXLmACTZL6MxGSlo1VmZAHl05P7jjz8EY6q97vjszXvRHV75W13yluslndO9naSXYeuyQQHN1u+++65uyqRPoSOKJZG/efPkRs4c2SVibYslUFViBlklFdVllXNhUK969ep6SKnVRcbokGl3X7lypW6Ll50YUqRIYbTqG+WI8nvu3DmIOvuN41Z/cIFmVFvHjh3D1M/J6vh9sR4XKkZ6UQhytlCZHTtB+LgYEoSP9wHDmc2GMou27xXqq8n7h46RYkLTnZu9/ayY5Yuz8gz75XP3ySf203Y4q2v2HPuinw3TErRr187yZkK0RLqzMsOX3SU65VJYpd9gtWrVLDuuujuO8FZ//PjxehCKp6MbmQeMYfb098yQIYO+iTIbLSpmVd0Zm+82M8RoQ/qiWX63WFUVqXqhz4H+/ft7vVOquuUB0W2y7nYmKTXsmjLcaZc2YokK0WSn6k4zqm4wDsgCoklCzGBHrP1JUwVNV5MnT9bEMVZbsGCBW+YLmrlEo2B6MPQlkGgk0/XCugJ9kmii8yaJQKpJklqtZs2aHjGBfPnllx4fLk2b9erVM+VL6PFBhLMGRaumSaoZt2clGyWNLhc0M0nOP7evUaNGjSy5MXz77bfa6dOnLc9H+fhYZl3oVpRoKo8II45GTTuwaFK0QYMGafSxcJfonCzos+42Y7e+YIHoNmHJv6RxIVfkPgfo7CywBK8bkt2cCA+DxNm1ulagQEmtXLmqWs+efR0uNqLZ0QS1WePLW8Kx3X6p8v7hy9kKSbJVTZBjrVQN0zqi6dB4b3uL6AgqpmNNNHF2/S7M9ssXqZgwzVYzVJ7+KfT92LJli6HyqpBzDnCdFHOm7lzMktykCNyD1lI2PCVLldJKlCypNW7SVFu0eLHdZ5f1BX9Jb4PXhO8jT1CPHj0sNZM7d2674zTamDJ1mdGvhWFZifbQ7fAZM5oDeTMy5CVLlujov0RWZV4lTxBV6QQtNGveMNM3s4n369dPxwiiL5Ai6xyQBUOHJ6A/16RJW7Bjx3tiZiKiMsPBmYX9iZgebolJ5BiyZFkvau3sAo9fUMdcSpYsGch/YjF5ylzGpKiywLqES7A3Y94TsiPVcwbZO++rx8RJWPep8/T4COJI0MBixYrpzwqR1T1BvOb0OySWlzeI9yTN2/RDoq9h7NixvdFNhGmTUCQ0d2UXtPMosRMiX5GSSJE6HWLFjqPnXHvw4D5uXL2Mo//sw9F92/BT/x91MxbNWfT/Ito63z+eMh+fPXsWhw8fNu3DR5Mo/cKIMWWZjEpIqlzYcYDSuQgkHtduyE2nUVUt6Msen5w407mtBjU6KPFV0CNDqIZVZJ0DI0b8okWN2leQDR/JR946Dj8vtMiR/9BSpSqmSX426x06qTl16lRLZi5GlYjTo0aNkT8RTbie1p5w3RD/Dn2nbjXs1xEPCWlBGILQIGqWqI0WB+jQ6C7c9kFNfpUPq2pzlm/SQ8gJFeHos+3YFa3RJ221HmJS4n3kDZKNtkbtrFmiOV18Pc1We6O80vhYFhlDryJRVBnxIC8Dp53+++8FbBMP+eObZ+C/E7vw+NFDBMi/WLJTSpezBHKWboxC7xZHzFhxIHZ+UGMiuEBgFI07RAl85+bNOCCRO+dWrMAdQZ69K9D08SXbdmLZIaSvWROFxNm0YNGiXnNYlMUREharOz6nT58eO7ZvwcGNs3Hx6Cbclx1vgEwwZqyYSJ25ADKXbI4i7xZFhncyuzPtcFV3584DosGZJ+CBP8m8yC0jdA6NG4/HzJkDjBQ2XEZWKD0yhBofRykSHDV25coV/PDDD6BDpz8RAecIGMgM9o6IQHB7dm3H7s0rcX7vEty4fB7ay+eCihwFiZOnRYYidVC4xAfIW6gYCIQ4ZswYiA+FpWitkGM4Lc/XXgksOD5zJi7u3q1H77AMNYRpRJOUVfopUrw40ngpOpD3BK+pmMAgmzWcPnkcu7dvwOntc3HlwnG8fP5Ud9BOkCgZ0uWvjIJlaqJw0dKWkt+GnHt4+C3CCzp2+hJ1Wn2DuPHiG57SuKH98EnDmh7X3POdQYdmOjebJQLnEqHaHU2jEnzMcj0MytNkRC92Loz2iAviL+NHYeOcbzG5wRPEimavFHDupmRF/y0qHsQvhcnTZlqO1rK1zsVojyyGrUXlPUxC38tQSWCHXsqx3ySJ3QCJIJknalNvmOvYrez20Ujg8G8dW4FJ9R8iXSI7g5FD954AXSQ7fOLCbfBtn0EeM8/Y780/jpYu/T02b+5jerCBgeMkE3Nx5NPDz01Xt1uBKRvEeVFPmWC3gJODzAodXQRu5pbyJxKfBT21iyNzDp//1o0+QLv8J1AlpyYbiLdn91Iev1k7AzByU1yUq94SgwYPcXujwai/75niRDZdPSVSL8Hb3epHiBHcRcKXM3TqhC5ihuA18AbJbh9VKxRFi7z/4tPizxEl8tu9cBn662SArHXRMHL6KrxbvLTHzDNv9+YfRw5IhOW4qXPRpvN3pgZMgWlg97aYP2eWqXquCvOdRrRvK+mXGC6/WTbaZjdFwcdk5/EJflr97QscYN4VQr07oh969kD+S99gbnPHQg/rphdBYG6LpxhY/C988VkjXVBw1KaR42Mk6eCeKlWw49Ejh0IP2+FNVlOEks2C+TFOcvVYkfKNjGfu7FlommwRVrZxLPSwnbiyJo9v+ALtko1By1ql9QzxRtoPz2W2bTthaXrPnlXG9OkLLdV1VIlZpq2m1KCmw9+EHvozMazckdBDzewPLd/F4von8FFu+0IPeRlJFHVNi2rY+uU9PD04Cfv37nHEYkPHJToOjSXXWXfJnTfUidDDxpLIZ4psfj4Vv4tm8owzGamniXz66L2iWNH8HFqXsi/0sM8A4UPZLBo2f/UE+8ZXxoRxoz09FL9r76hgaDVo2cb0uIn3lTVPYdP1XFUQ8FJdq+uqXMjzFHzpU+iO0MM2FYBhSM764G86EEqEi92R7dj6F1JdHI4ipahXcU3cKeZK8RzfFdiCRQvmo16Dhq4r2SlB09L9/v3R/fZtO2ftH4omW7HBUq+NJDctIjvzhAkT2i9o4ei5M6ewa2YrjKpjjA/sIkVcDf1KHkC3b77CsJE/W+jV81Woyucuy/YtqNd6zik+8KRbt27pv23fzMdDzRvL8WVD0wN/03xJJ0R+c/GymTPp2MrftpcsnZEjizbupZhMrFEMPBKTqieJuzlBMLbUJB0xJTTfUt2wqsRry+Sxjmh0/68xsvo1xIxqX6Masl70QA2jaj9A3c41MHn5UVgFRRwkefNGC1ZKYtm0GCEaSFPKvdtXnu2hggvVrUcPI9UMl5k7bbwIPWeR2KCPc1R5u7Ut9Rj91/2AKzXrInny5Ib7Cm8FqQ2PEdMg40JMPjCaZ7V3XN+YANcKXpX4FOrJsUMM0fRPJfiYZlnoVqAnPnc6jpJ8jh09FIMLmX9p5U/9DFOXDLMs+IwT/4HO8hK2Qi3kBf3bb7/pkTdW6turs2njOnQsaz7h4TuJnyP5iRXS5CvBhxEwXCTIdwoQ/CYRfZgPrO03y/G37dt23BbxwLok/uaHZYOfC/63XvB//9lQcPmyYhl+UzCxLdpZsmTRBRcepwBjAwyz/Q7elpm/e/XaidOnzdR4VTZKlF2SVLaM+YoOapD3TD5ohSgs2vhupX5Y1XEV2ZLo5grRUhoTeoLPoW2Ry9i0YQ0+ql4r+GHDf7+cNw+pRetjlrKI5ueRRIrCw4LPn3MHoFVzs6MB6uS+gzEjBqLvgOHmK4eTGqlSp8GGVUtRqXod0zM6f+KQ6TrOKkiONt1Hx9E7zVndo0ePeuS9oQQfZ1z2gXOUcJ3tYC9fFzW5NUEe965beNP9jycXBbUzmUV1dnqp+/W0aToKs6dYfOTwITRqbK21mM8u6VABrM30DYGBgUiQIIEucBD2nQIGHen4oNq0VEy5YPtNwYTl/JkGDfpAQl3XiuBAWACjzs0Pxay0RuqN8tjUJS8ciooTvBXau3evHq5tpW5Y1iFaM5GKHVH0SOaFD7aVOYmGdTdvOGrW5fEoYnK0SpqgdX/++edWq9utd8eEdjl4A0liazh/6EzwQxHu7+LFiqJf/59QocrHiCLrm1Fas3wJ8ufObrS4oXIC0om2bdsaKhuyENcH26Yx5Dkzv5XgY4ZbYVCW0rEAeTnsOX3yGPhXrE2OHHkdVpQTCZNncnba6blsGTLgjGgksvxPs+G0cIiTB8X8whvfk3nH5kwbi0OnxRcqTYjODPy8+TIZiGUUkalGjSoSuVEdu3fnEO0UU5Q4E340WXyeivmsHubOHeZRtjElSdOmTS21yUWRET/+RIxu4bid0b2njFYQj3yTtOOsmHNzWRfIg1KnloiIcyZ7fVX8pWgmGX3jSaonUYcSmmC6yfO3ApAra3rT9cJThWjRomHm9Klo2aol+o2c4lL4oeb0n7278N/xvWDaIk8SAxCYQ8wsMXekzeRvtm7I8sq5OSRHfOw3F0VqFBxRz+/7YIYFy8Dyf4BKTb511KzL419LGPykqFFdlrNXYJaE13s6b0zlKh/hh+X2enN+bKe8HF6kreq8UAQ4y13UwoVjJMfV5+L/Q38TR347z8SxcLyESH8iAnlS0EnRk8T8P9S6WSGaI6md8yeimUug/50O+WbSmrhjQekze18slHu/utO2nZ2M06wZjjor4ODcFjmeWqIrPU212g7GVfNyD+bsiYpOPdwAu/P0RMKovZSSc/Fl0EO0qvM+/t6z3eEobl6/hrYNq+HOv4fBjTeBBj1FBLal2d8KMcjHmWbUTJv+tUqYmVk4KMtkoa5uurRZCyFmvjZYvM/4hLecCsC2l7VRvuKHxiuFKEmfknclyWFPEy8aukg2F3NRqwULHPoshejG8M8ESdOiZddxGLjqFeyekYqnxF941vlS6N5rkJHi4bqMQNKDyN1Ll/4qYabtMHr0XBFuvhKtTn0RJmohZsz6KFy4g6Cl/iI+OMUkAegM3UGxZMmSepJLZtd2l6j94K7OCvFZ4Rz8jSj4SF4qp8Pu0WsA2i+OgxcG3xdPxeWv3kSg74TVLnf2zjruIGjPI8uXx3/OCoU4d1x+L/r4Y3wiAQyepo9qNECTuYlwy5FMbqfD3suAEk2GC56PZx107XTl84cYPk5E821bNyNVnAAsnTYS/bq2w1efNZBPQ/T+ujUWThqCO+cOYPnvi9BREsbOnTtXR/X/7LPP9GSi7k5y9erVaN68uaVmqCmSNEWW6oaspHB8QnLEh35v2rQJdOZyZSt/ITg+44d0xa0dI9C+3EvEj2F/EucFx2fG7mjY+ag4ps9eIH4pie0XNHF0g4AW/i43cgNx9i0s6lF7krSsw9ggGoVl4hfTWkxKOTyUFiPkMLmTWDhjNPYv/hatiz/Uw/dDluHv27JwTtkWgFupGqFHn1GIFdcROom92uHz2KRJk/TwUiuh4Iwm4wJJ232bNm0kpUUWS0xatGiR7l9lNlMzO5O8Q7qjuac1iZYmYqJSnz59dPh9V1VOHT+MUd/WR/W0h/VQ7ch2HrRnsrNYJVazFaeSIEH2qvhpxC+umnV5nuCf/QSbJ5UAFzYWx/OE/8feVYA5cXXRg7tT3N1dimsp7sUdSrFCoaVoi7VQ3Nvi7l6c4u7u7u7u+e8Z/tBliczMJptk993vy2Yz8/TMzJv7rtqpcUuOTxbbkaeSWb6rpNeJ4KK0GP67eybBXH9tUwlfhtuAilktCGfDWIMCBar55h2OivKt/0KJ8q6XPvkfl7f/poqIzMvChQsdahDszYOSWKq8+GxLDkbTcZoYn+t38RY0Q7/88gv69OljpupndRTj8xkk3nOAOYcaN26MhAkT6hrU+TPH0fPX7khu2YtUkW6IJ8g7MKjZnaehce55QryJnQ8/deqGiDESolOnTrKrHxngeAgcGBmv4bI7PLthA9KJu3o82bXTdf25MDvXo0XDyQwZUEB2gY1MuijrmryfQndv30TfXp0R9s4WpIt8RSJIv9EM4u49C4ULz+PiWpjc4sL+A9JkK+KnVvD9V7ItSyyeKRg0aFCAQGAgTeaEYoDKOqLqsBqCs1FKchiE79at27JzfCn3XThhvGMiWbJkmgs+y3AnOGrUqI+u9jyml9gvXeDNqsn09uPKcmTUW7duDUm5oqtZMpgzxg3GjvWLkCniCcSL+AzhQlnw7HUIXHsaGcdfZUTpMuVQ49sPL5evvvrKZRF3D4un3Ui5P+KJDVZKiY4dQ5gg0l2R4J5PkAD3JHpzJ1F/J8+YUddcAlpo6bwpWDR3CjKEPYREkR4igrjwv3obAjeehsepF6mQPntBtOw0GKHDKkkPse7RowfaigQnoE4Y3IxPEya4oahBKe31S5TYXhSbsFsSr43SVzqJsL/kYg/KMBuUyvaVECg9e/b0W03X//T25CaB0fldQmLEpMhLEWA2XHfR/v37LXIDu6V5EalamD/LG4j5u1KnTm2RkADeMByvG4O8fC0tWrRw6biYf0eSGmoZ0mUxtEh6FEvWbDksP3bvY5kheYJW7z5lmbVym6VLn8GWnLm/tHTr3l3L9iy7QdPjCKy8UaYHaKMis6TLLtrGGdcckqi4bsmXx3umRo0aFl5bbyB5GVvmzp3rDUPxyjGIeskyZMgQl45t/PjxFjFQtjD/F/PMjRk7zpIhc1bL9z/3sExbstGyatdJy7y1uy29Bo62ZM2Z2zJ48BAtJ6TYBJoah9j3WGbOnGmqrq1KjHuhyEsREJGgW0cmokOLxExxaR9cFMULzaVtmm1MdsgWUZtoD6fZNoJ6PREdWzZu3OjyaRL7HTt2WDJmymxZsvGAZd/FhzYTIu6/+Miy4dAlSz1JiCgSSNPjGDx4sOm6nqpIpufkyZNu654vJXcwhLxfXJ1Q1SwITFYpUgS3JdI0Oy5vqSeSEkubNm0s/HY1SdBUixjmWyrXqGtZufOEZd8F2884E6GuP3DBkid/IQsZGDMkGgqLSJPMVLVZx4am2CWCJNVIABGgN5e7clpZh/ar5NSRzOwfEw5ajwfkm2J7ilQ9TXK3a6oPqm+sUYs9PSZv6585sejmWqSI61V+jCTdqWt3jJ33L5KkSCUG0qFsTj+EGMdHjxETP/bojyeWCBgxcpTNco4O0mjTrF2Ro3bdfY75itKmTeu2bnjf0wuGKgJXEVUYkyUGl6u8awIyrj2SLHXGjBno0qWLS2K7BGQs3lqX9qHC/LrF25Ex5hKlyYqu/UYiXoJECBnK9jNObGKIPemoaUswbupsXDARIoER6pMmTeoymBXj4zIoXdsQ01TkyJHDtY36a40B+Dp06GA6L5K/5nDv3j3QCM6/7td/ucD4TaaO3jKpUpmPVRQY4/RUH9THU09Pg0d30KzZc9F72ERElJevXipTuSbOXr0DLnJGaOrUqcjkJoN5I+MwWpaeke4mUTkikcTjEembS7pibB5v2NiIpEwzqHd1jBmXgOQljTAmVglJIM1gq64mRqzv8HNXVK//rWbLo6d92vw0bt1RbHyMM+IZXWw7phgfPVfMA2VE/w+xTXF7z4kTJ0ZlMTzmyyOgRMMzd71IjYxttKTTYAbffGJwqcg2ApT0UTrHFBnuoHWbtyOaSHKMUmEJsTD6r791V6Nkj95krtwN6u48AAVpAGpNQxKAZnRVZUBIUQVCVF+6ytsrxI0NvYOyZ89ur0igHGe8pv6SDJXOH66I4hsogw7kTsiY0NjfXo7HgA7n4MFDGhPjKMacrT6iRIuOeMmMeX1yM50+vWujRyvGx9bV8YJjfHEH1kPNXQEDSzmLGeQIFu7Ss2XLpnnpOCrn7nNr1qzRsveKYae7u/LZ9rlb3rRpk1t2glZQxKjc+q+h7/gJE2shHPRWouqlVKlSgfas6B2Xs3KU6ObMmdNZMZecp2R30qRJWjoPepKZJUbF9nRkbHoG8XoPHTpUYktFNDuVIF9vwIABWLVqlUu8dm2B9fDRQ2TLndfWKafHYsSO67SM3wIMteFqVbZifPwi7CX/Mymp2XxFZqfA7NDMCcas30aJiymlRq5MQWF0DCy/QdzprQnwzNQPDnUoIenXrx+4mLiTzL6Ubl6/ijRp0+keGqUQJUuW1F3eWwrypWQmZpLZ8dOdePjw4aYlu7Tn+Prrr7WcdWbHENB6dOfntWa0cHdJKgM6Rm+oz5hWdCF3p21jtKjRcHj/HlPTvX9PIscaIMYeYtgLV5IpxocRXila9gZbDleBIa5y2kLEbNfUvdNmgLsyT9DYsWO1Gzcw+6b+dcGCBVpwKb4crXRKkg2OGD4M7b5vhe++bYJuXX7WgmCRObPS+vXrIe6SHt2BbdmyBevWrYN4MPjc7t+KY2B88+XHIINGRdRGx1aqeEE8emCciV63YjHat/ted3c0tNUb50p3o4FQMGvWrC6PXu5s2FSdU8XGZ8VKZCbIhP36Szft+W7Vohn69f0NVLVb1wHag1GFXaVKFWu1QP/mWDp27KjFm/riiy8CvX9f6ZAqrnnz5jlMbO2KueTKlRN/DewNxtcxQo9FUnT97HHdVXjvlSlTxuXrlakAhnwAFi9erHFhAVGP6J69mwvSOyBPnjxaL9YAT9xJksg9B+aOkg84d4J79+7VPG60QQTiH86XzE7UqBIQbd04pAx1GLkSvUTCqG8RLgzw6EUInLkXETsvhsCzhNVQokJ9DBw4UNuFuftlag8GVwXgs9d+UDlOT0E+t90l0Jy7ic9P9Vp18PvIKWLgHFlXd3OmjEHK+NHRTKL/6iFKGvms0MaHjLuvENVzVMl6yjOKDg1169bF/FlTEObcZORJDmSI/RQxI1q0gKc3HgH7bkTCiceJED9vc3wRN75m15MunX5JnKuvBe0HCxcuLGlUirm66SDVHj3cKJigxMfdtHfffoyfPg9Nv+8oz5/zvI0McDqyXzf06d4JSZIk0TU8mlCQx7C+n3VV0lHIRsBvHbWCWBFrNEjq3Gn7wF0Q3UxpyEcDusBkfJ4/f64tMnQz9gTRtmjiqN9RJ9ke/FHg88yI0SJYkCTmM5QQu+sXr6eg25AlqPHNIJe7S54+fRHbtu3FhAl7cPLkFYn8+0pEtxEkX1Qy8UbKI6rAnPLwJNQ8yRiBmgbNwZG44+KLf/OWbdiz/xDu3KVHVAjE/iI28ubKgYL5v0SWzJk1JpoRUykhcRdZsydTqsBUK9kyZUDnFnXwfdffkSJNBpu7NjL6t29ex5LZU1AoT1bUruU4b5XfsXNRpErYl5gejp+SZFcv5H5xcfY/n/EBbUtgYq1HiGTDzjSmOOJlTEAbrVPYd6UTOk6Pj7mr9jtr1tB53iv79h3CokW7MX/+Idy9e18ktZDI27FEZZ4TFSrkEq/WLNp9++effyKDRH8PrkwPGeUjR45i6/ad2Ll3H+7dvfd/rOIiV7bMKFa0CDJnzqR57pHhcSfTww0Nn28aHHPDeeviSYzq9wuq1Gn6/7AVnyuR+IzfuHoJsyeMRMtvG+tmenhD/fPPPzCTwsbZzeh2iQ8X5rVr14LGVufOndP0jgylzkWYelqep+sxd2+lS5f+JKYId6iM00CihTqlMSxHCU3nzp1x/vx55M+fXwtj7df4icwLxbdsn2J9tsuszVTH2FpweAGZZJEJ0DLLS4JUoUIFLFu2THvgmEgwsIg3FHHi7sYTVLViaYwpshpfRNHf+6pTERGp0koUcsGYaRRbqVJ7rF8fQ0TtPWQQtgwYH8j15M4mNo4d26xdp8BwDdaPSOCUvHv3LgoWKYp2XX5HviIlbHa6e9tGDPutG6pXrQTmsXKVXQk3BzQ0vSnpC2hzIQHtNCaUfUhU30+MEek9NnnqdJSvXhfZ8xaUuD2xJK/WAxw9sAerF89F2lTJNPuTsGGd7xr9TpLrAA13Pe1l5HdMev6nmmvr1q0fU3XoqeOqMlzLlvTIi66lyNjoo5eSCiLngGjYfexqgO1G+BI8ceKUrNt15R7gZuVLO4PYIqlLWsia/aPkhQqj5YeyUzDIHiZW5y5cRI2adfBdh27IW7CozbluXrsSfw3qhVQpkmPpUsnK6gLie5bPN59zJgfl801pMZlmPt/lypX7xLShv7zfZ8+Zh/Lf1Efu/IURM9YXEh/uKY4f2oel86chf+6cYK4toxt6eubyfW50bXAGgdsZH+aaYh4gXkS/RFsaCW2vPfycnEQQ1tyPmXreSq1atfqYx4aSkAgRIqCpiMG5a+WFsRJB+f777z/mGqKrIxkjGvSxnNXDhBdOD/e4bds2bXfBiz5hwgQto621L3d/S+h1jQGLHFmfesCV46GNjGV1JZRMpX9RZP8WkTCU+DsuFm04CV5Xs3Tu3CVZEFuJpG26NEE3a9kC2iXpNcQ9xI9fGYcPLwlwDhq73XjpiUOHD6Nz917oOWSMLCaO8xHxPl4yZypSJYiBRg0bmJ4Rnws+Q8ywzA0CjV0LFCigbTB4vzpa1LiIPn78WMvZxWeSHovhw4fX7On4bYYkbL7bbRnMjMtRHdrGcQ2iXZwnqN43ZTGpxGqECfnf+qlnHA9ehMT88CPx7Xet9BS3W6Zv30HyAkwu63IlKeNY4RAiBNMbT5H8bW/RqtV3dtsMqif+GjMeT96FQbGvKyCMk03BK5EK9ZFM6z26dBSpeC5TkFCCSoEBjYkp1aGAgtoOxkLj801jaQoQ7BHXmUeP5Bl/+QLvRaDBZ5xrAt8JZp5xalzocEOpj6vJrYwPdxd0cSYAlNxwseQOkcZKFN+NGDFCY1hoI8IkgwSIMRpIlATFjx9fC2bGc2Rm2AYzw3KXR2aKO71Fku27a9euGlPEC8eLY2V82E6MGDE0SQ/VAYzi60wsTvslcre0V+G4yHy5mtvkuOxRtWrVNFE45xjYVFxEpkuqyU40nLFFkeNcfzY8IlRZbzp2Dhnj7Nlbi1HlQGlNZO266b5I5/rIwzFUdw1fL0iDv7qNmqFL35EIZeA+mfjnEJQrlg9fl/rKIQSUJFEisXHjRs3LjwufVYTOuE80JvbE/el/0NxU0U3bl4jSXIYT4I7ZEzT3+5iokfmBqa5brcqCPxceMlWXlebOXYDatZ8I09PIUBuhQw8VSUYmkdw7vm8NNerlhTeKlGPFxl2o00Q/o/nmzWuM+L0rpo7/S3vnOpoio51TksIgh9Sk8BlnoEM+3/z4TTDsqB13nqMQhLGnGL7A1eTWtyujLVInSFdIaxRivuCYQfny5cvaAsAJMSszs8fSIp3SHP7moktGhm6xVIWR6HnF+kzlIAnStGM05uJxqsXISPG3lchw0YgwV65cWpvW446+2V/u3Lk18R5Fc2S+GAE4MIi7QTJ+nnqp3BIOO2IY40wPsUkW7aVkPv/cJkgvbvPnLxK1FRc2I0wPW48pXioptAeYYtjgQIsWLUH+4uLpYIDpIS6NWvyAKcP7fML40HCQL+IzZ85o9x4XGkpWuamgeplRf72RuK7QWNLXiLZPVKl7imKGeWy665ePb5muy4pjx+4Wpqe/4Tbevm2HiRO7BivGZ8GS5Wja/sN7Ty9gNDDOmrsgli1fiQrlP9xjlLIyxAfvO6ZIoW0Vn3G+Q6lpkQTFDiW1evt2Rzk62TC6vDvIrYwPB0zxFxdXSbipiXetEh2/k6F7IuPAzJo1S5P8MNIomRkSjdqs8Qh44UjMMUSpkZUoliNR+uOX8eECTqbHCFltimiTJInRtNg0ZNoCI4oyGUSq8jxFzNl09dEZJI1hzEWR4/3ndGx8VTme6aGvX79BXmR/mKr//HlFkVDM1/TPphrwsUoHDu5H1aY/GR41xdRvRL1AaSk3CrRts6qs6AliRhxteBAuqrB//37N1sBFzQVaM1QleDK45qEnqVESJ03NN27q/KbqWStt2xbR+q/B75DYvDmCwTq+XfzGrbumJpAt95cYO6A7Tp86ISYAhzXNCo3CqbZyR+oKU4PUWYlrlCPVms5mbBZzK+NDbpOMCyU3ZEIoAaLOjlb6jBPhlyjBIePDsowivHnzZu20X46P6i8S7X1oE+SXaMhMFYBf0is5oc0B22Z5SolIlPKQ8SFRHBgYjA853MCSLmkT8/dn2PARGFJ/FjoVfyw4+Dvp4Ofz1yHw7+Xk+CEA+VRChQopfb4XiZ6Djuycihr1nU2PITvFg8RhvzZuRibEhcTvM2WkrjeV5aLu6SjCRvHg+uR/3TPaRkDLH3ieHefvn0eKmK91N8VncsLOsCjX5AfddWwVDBXKxMP9/4bChTNf19ZYvP+YuflyXUidOg0YkNaXiZIpmsW4i+xbKrmgR9rU0EApQYIE2iRoHc6dpa2cMdTjWSU7dE+mLpyeOswuayVr4Crm7WD2Z+tH0tVr//tfVPQwPmS0GIyRdguMYWMl2iBZyZHRprWMK77J4XoqFg7HT1umZJX/Rv9/w+qezuOXIVBoZCxMX7hadx1bBStUKCs2XuaM2MKGnYvixYvbajZIHitUsBDWr1xiam6h33+6OTDViBdUouTYXbtBd02PNo/16tVzV/O62p04aTK67iiAa4/0L/0rjoXEyxwDUEDuu4BQ5crmVeFlypivG5Axe6pu8sQJTHVNL86SJX1/LaR9jzvjXOm/+21cBtrk0JDY/4dqItqrWNMfkImwenXRa4mMin8ic2HlUskwsTzFc36Nka1GTrRHoKs5aeXKlSBDxA/d5o1S7NixtWSBZIAojaLHCsXoDPBFIvNEzxV3k1Ul6O5+nLVfSyRv2ZstRptlybHzQki7EphXb4C/t4VDn2OVsWrrcc2I3Fnbjs7z2hYtukdeZv9FhHZU3nouVqybqFbticvctK3tevP311+XwtmjezXPCSPjHNy7C+rVrW2kileWpYeY342JVw7SxqCOHz+uhRSwcSrQDnFz89fkBZj4qC1+WxMJL9/YF+2euhUCP/wTF/dzTkDrNm0/SsPNDrZp0zJiSNvPcPW4cbvK2lzDcD1frlCnZnUM79vd0BTeyHNx5fQRFBWTBV8nBvCl16i7KEBeXfYGxZ0YjZfJ4HAnzoWK7nCM1kh1DpkUirEKFSr0UaXFtrgw+E0/z0BfjBlgJS52dK+jWy2J6i2q0yjeY/BBgkWyenXRMp1GkM6I/dIWiOI1/0RbI6shtf9zrvxNLxqK7+lF5g1EqdzM6VNw8chGRHm0DeHf3kEovBMbkfB4ETENHkX9EuWr1JK4S0VdNlzGMGrcuJeoFtvIdWU8JfuLcogQFpEk7hT390kYM6Z/gBkvl00ikBqiPVj3Hr3RWmL4RIkWw2Gvr8S9dOLoQaj4VRHxJvKcYa3DQRo4SVdwblQ8qRY2MNyPRfv06aPFMvl4wMP/UEI+bcokRHmyG5GeHkEYyzNto/MC0fA8ZgFETVYAjZo009ZrVw11ypSpknrimmyK24t5geMwBiFDvpJN6R8YOTKz27KMu2pe7miHbuXrth9AnaatECmy48BqTx4/xNiBPdGt80/wZIRtV+FAxyI+L+4iUzY+jGrsKIkmGR/uLCgpmT9/Pnr27Kmpt+gxRYkP7WkYTJDSFL5grTFrGISQkh/qwsm0+M8NQ+NLqqNoKE2JDxkVMlOUDFHKZCWq1jg+vUHtaId06dIlzbCYLxR6i1D1xQzAdMcPDKJrIY26vYV4TZq3aC3D4SdwiJgvXToS3bp1k4SjUcXbqLx0nERsuqLJdxiRBr0WdShdcRnCfJEw1dHEDusvj6oHAweZz3uh++m4v0ejTp06KFq2KtJnzYVYX8RFuPAfDEhfPH+GB3dv4/iRA9i+ZrG8PEb6ZE6rz2cOzVPzhx8CZm9iq113HuPmjLaL3kQMpJh1yLBAHVJDiSNVoMBZsc+qL56zdWUNzyLrfTzZHH+4b8OFeybvjhtiE3pINrNTJSL7MLdGIg7UyRvsrGrVqtqG/OdOPyJ3kdJIlzm79oyHj/ABq1cvnuPenZs4dnAvNq1chGnTpgaJDSCfFbersUWl5DUkAQ1p0aV9JJ+M14wrMAYisYoCoxuf6kOyrVtE2maRGDIWiTVhEcbYIl5vFonY61PzcPdgZfNgkY2ERaKSWyRulfYRV1XLqFGjLBK8093dB3r7wvQEep8B7VCkK5Zhw4YFtJkgVV/stCxi1mARafvH+1Y2rNp9y3ta0X8IiOmIRTYv2jMumo6PzzjvKREU/FcwCPwn9j0W0bS4dSamVF0GGVenxSn9oZcWswZbLbkZjt6oK7rTjry4QN++fbVAjF48RDU0hYBXIMD1gok2fYmGDx+upc6htFyRQkAhYB8BZl1gqik6HbmLTKm6XD0YRoqdN2/ex2ap6qDNTnAhBpdKlixZcJmumqdCwDQCjDhLNZ+vEWOQKabH166aGq8nEKAnuDuZHs7JKxgfxhWhrQ5j6NCmJrhE4LXeVDTirlWrlvWn+lYIKATsIDBu3LiP3p92injlYeYNVKQQUAg4R4A2t+4mr2B8uBMKzrshus8zZYcihYBCwD4CovTXUskwb5gvESPNM/WNIoWAQsAxAvTs9evZ7bi0+bMBiuNjvltV0y8ClHBZI0b7Pa7+VwgoBP5DgOEsqlev7nPPytSpU4OV6v6/K6b+UwgYQ4ASXXp3u5u8wrjZ3ZP09vaZC0ztCL39KqnxeRoBhsEQLxafi1PCsB4M5cEQH4oUAgoB+wgwzh+TJuvJumC/FednFOPjHCNVQiGgEFAIKAQUAgqBIIKAUnUFkQuppqEQUAgoBBQCCgGFgHMEFOPjHCNVQiGgEFAIKAQUAgqBIIKAYnyCyIVU01AIKAQUAgoBhYBCwDkCivFxjpEqoRBQCCgEFAIKAYVAEEFAMT5B5EKqaSgEFAIKAYWAQkAh4BwBxfg4x0iVUAgoBBQCCgGFgEIgiCCgGJ8gciHVNBQCCgGFgEJAIaAQcI6AYnycY6RKKAQUAgoBhYBCQCEQRBBQjE8QuZBqGgoBhYBCQCGgEFAIOEdAMT7OMVIlFAIKAYWAQkAhoBAIIggoxieIXEg1DYWAQkAhoBBQCCgEnCOgGB/nGKkSCgGFgEJAIaAQUAgEEQQU4xNELqSahkJAIaAQUAgoBBQCzhFQjI9zjFQJhYBCQCGgEFAIKASCCAKK8QkiF1JNQyGgEFAIKAQUAgoB5wgoxsc5RqqEQkAhoBBQCCgEFAJBBIHQQWQewXoagwYNwoYNG4I1BmryCgE9CDx//tznnpVHjx6hXLlyiBYtmp4pqjIKgWCLAJ/vxo0bo0GDBg4xUIyPQ3h84yQXxuXLl/vGYNUoFQIeRKBnz54e7N1c19zUdO3aFWXLljXXgKqlEAgmCEycOBEpU6Z0Olul6nIKkXcXePHiBcKGDevdg1SjUwh4AQLcDSZNmtQLRmJsCNu3b0fx4sWNVVKlFQLBEIG1a9cid+7cTmeuGB+nEHl3gcWLFyNPnjzePUg1OoWAFyAwd+5cZMqUyQtGYmwI3NiEDx/eWCVVWiEQDBHgxkaPIEAxPj5+cyxZsgR58+b18Vmo4SsE3I8AGZ/06dO7vyMX9vDmzRtEjx7dhS2qphQCQROB169fI2PGjLompxgfXTA+4xkCAABAAElEQVR5b6EYMWKohdF7L48amRchkCBBAkSOHNmLRuR8KJs2bUKGDBmcF1QlFALBHIGVK1cibdq0ulBQjI8umLy3UP78+b13cGpkCgEvQqB06dJeNBp9Q5kzZw5y5Mihr7AqpRAIxgiMHTsWqVKl0oWA8urSBZN3Ftq8ebNX2iy8e/cOkydPxuLZE1AqySUkj3wPEcO8w53nYXD4bmwcvJcArTt0QdlylbwTWB8a1dOnT9G6dRu8eh8SWXLlR+y48bXRX796CccP7kFoy1sMGTwI8eLF9aFZuX6o69atQ9asWV3fsJtbfPXqlVy7eG7uxXjzb9++xcjB/bD538UoEO8y0sR8gqjh3uPei9A49CARDj1Mgp+79kKBAgWMN65qfILAlWvX0UW8+l69sSBrngKIEy8hEAK4feMaDu3eiqgRw2H4sKE+J838ZJIB/MH7MVSoUKAGRA+FsAjpKajKeB8C33zzDf7++2/EihXLawZ3+NAh/N23Neqn3oc8iV4ilA2Z4vPXwMbTIbH8dh78Omwh4sb78LL2mkn4yEDGjp+Iw6cuonz1OoiXIJHNUd++eR0bVi/F83vXMeCPfggXLnh6AJYpUwaUnkSNGtUmTt568K+//kLLli29anirVizDuvGtUDvDVWRJZEFoG8/401fAyhMRsP51dQwZOQYRIkTwqjn4wmBevnyFtj/8gFiJUqPY1+WF4Ulgc9g3r13B8oWzkCNDCjRu1MhmmaB+8NmzZ1i0aBHq1auna6qK8dEFk/cVIoebM2dOHBJGw1voxvVr6NEsH0aVv4KwOmSJj14AzWdHxrAFpxBf7C8U6Udg7rwF2HPsHOo0aYkQIWT754SOHtyHvZuWY0Df33R5PThpzqdOM+RD5syZcfbsWZ8a95kzZ3D37l3ky5fPa8b9z6J5ODSlNn4p+07XmC7dD4EuOwpj4pxVyjNNF2IfCr0USd8PHTqiVLUGSJE6na6aMyeMRtY0SVC3Tm1d5YNSof379+OLL75A4sSJdU3LBq+uq54q5GEEGLSwadOmHh7Fp913bNsU/UvpY3pYM5psAqfWf4pm1fODjJwifQjcvnMH0+bMR92mrXQxPWw1U7acSJXlS4yfOElfJ0Go1JUrV9C+fXufm9GoUaO8Ku7Qk8ePsXlsQ91MDwFPGtOCzlk3YeXShT6HvycHPHfufOT7qpJupodjrdO0NZav3YynT595cuge6Zv2PUa8HxXj45HLFPBOb9y4oVusF/De9LWQL8ImxIior6y1VDiRDFVOeQm7tqmUG1ZMnH1PmTIVDb8z/iIvWKwUjpw446x5j59/8OABBgwYgIIFCyJ58uTIkiWLFoZ+7969psZ2/vx5fPfdd6bqeqoS7eQWLFiA+PG9Rw08qG83NPlSxLQGKYtoYddP726wVvAu/u/Grcia03iYkrJVamLCxMleDx437sOGDUPRokW1Z5yei41ETbdr1y7DY+emedmyZYgSJYruujoUErrbUgUDEQHaK3Tr1i0Qe3TeVcIootg3QV9L6IW9t++aqBk8q9y6eQMlvtEn/vaP0FtLSG2BoaEvg/lRBeQtxrOHDx/Grz16otw3jZGzRFUUrtwIoUKHxvv37/HqxXNcvXcXk3/qgvAh3qJf374IEyaM/+nZ/L1t2zb4mkfXHZHqMeeQHjWmzUm74eCJc9eRtoS5hh/fvW6uYjCt9VSijJuhxMlSYED3drh+7bIW04abBsauChcunJnmXF5nzZo1GPnn36hSrzkyFiyLvGVqI7Q8x5b3Frx6+Ry37t9Dq3Y/InmieOjYsaOu/q9evYpWrVrpKmstpBgfKxI+9M3d4KpVq9C7d2+vGvWDl7yd3hge09FrovbKrp9bN9xBEKsQPUZM3BKPjvgJ9emz/U4/nBhf9R04ELdv39bsR7Zu3Yr79+/jyZMnePjwoYjJn+KxqDQSJUqkuYamSJFCy33jbuZo+vTpOHruGjr3/xvhI3wuNgwXLjyiRo+JZu264cKZk2jeqi369OimjdPv/Pz/z92gN9nB+R+fvd/Xrl1Dw4YN7Z32yPEEX0THrcdAAhPxFMNHNlHJI7P0jk4jRjAXqfvu7Vuo/k0NNKxfD2SeqRnghoLPND98ziltCRkyJFKnTg0+3/zQDdzdzBE36lHjp0KPoRMRWjY0/imsMGdRosVA85964cCubWgl3qp/jh7lv9hnvy9evIhmzZp9dtzRgc97d1RanfMKBGizQBGhN+0GCczux1lQ9+0+XYbNViDfvQdGbI2CWb0LWA+pbycIVKpYAcPHTECbTj2dlPz09KVzZxA3RiTNCJCGgPaIjp68x86dO4fjx49rCXC5iNIjyu8nZsyYiBMnDmLHjq21yd9miAzXv5t3oF3XvggpLqnOKLkYezb6vgt++KkT5s+e4bD4iRMnfNKlmqEqWrRo4XBugX2yyXetMb//VLQtaswe76EIL3KUbRPYw/Xp/nJkTo/rVy8jQaIkhuaxfuUS/NS6qWYb5igvHTc4fL6pBuYmmob/ZIaiRYumucXzmzYzXCeszzf/N5s6hd7H8dPkQMHiX+uaT/a88j4Qn43+/fujU6dODuvs2bNHex86LOTvpPLq8geIL/xkIjbuyNOlM6fucNcc161dg6OTq6JtoWfClDnvhUzPnH2hkbzJJvFcUYEYnSP2X4lRo0cjYrzUyJ47n1MGmIzMzetXMWZgD8yeMdX04vVf7x/+u3Tpkrab5I7y2LFj2kJKmxxmR+aHO0kyRpEiRULEiBG1D//3T7/88iu+qvGtSHT0xeCw1j9+eD9ih3mJUqVKWQ999j1lyhQUKlRIG8tnJ730AK9XuXLlNLsFvoy8iXp0/QlVQg1BtsT6oqC8fBsCVSfFxuTlR7V7wZvm4s1jYULdKtVroH2PwYgbP4HTZ5xz2bNtEx5fP4UfO3RwydTIHHHjcOTIERw9elSTnPJ+tD7blBLxGecz7fcZ958ri1KmOg2boM9w444VXds0wpwZkxHFTsR1Pis1atTAvHnzDM1ZMT6G4PKOwsOHD0e7du28YzD+RjFsyBDsXdgD0xs89Xfm059vxRu2+YxQyFx1ANq76EH9tIeg/4u5p/4ePwW/jZiAiJEi25zw8+fPMKhXZ9y7fgmrV61wGdNjszMbB6l/37FjB5hhnMbJu3fv1oyVGXGcyXWZZ65w0eJYtu2otuO00YTdQ0+fPMYvbRpgw/q1dsv89ttv6N7dtwxrKW3jTpdeXd5GtLcq/VUJ1Eq0EY1lr+Jog/NY7KBzDIqFzbsOg+lCFBlDgFg3+fY7PHnxFh1+7SfMhZ1n/NlTdG7dAFXKlwl070WaXVDiQqPknTt3ah+Gj+Bz/eWXX2ofXvtTt14iSfKUxgCQ0of37ULJPOnt3j+nTp3CxIkTtefFSONK1WUELS8pS+7b24ieONSzUjxfrsJ+fN//F7y/sQUNst9DprivEEls6248AradD40Ze8Mie8nG6DOns6hUrqJs2bKYNm2aVwVi9DZ8bY2HO53ixYtj3779mPLPChw+chgPxACYe/FYsb5A5ixZUb50CYyWCLthw4bRRMZkmgOTKJlkoE1+rMSFkQHHuKvl95u3xu3C2BZ3n68kMaEjoj2DrxGf7/r163vdsCdNmiT32j5Mmjodjx7eR5NfWiL8k8Oole0psosEKKqYpdx9Amy9El17xvNVbINNO5tgxIgRWr6xBg0aeN2cvHlAvL8nTxiHmzdvYe/+A5i6Yo1IXQ7iwf27mgQoRqzYyCZOCt9UroBFc2dpXlK02aM3ZGARoyVbGRzrZpx2ddZnm99Up4WNksjUkGj4/F6kOvaIG6qaNWvaO233uJL42IXGO0/QWI27QboCegMxpP7QoUPx8uVLtGnTRtMHW8fFG/7ggQNgcKlDog6pUqkikokqJFv2HPBrD3Lz5k1tPrly5UL16tWt1dW3ixFYvny5psu3LlAubt50c3UbNEKrLrKjjWzMwP3iudO4cmwnvm9t26ODRo+Uiv3888+mx+aJimQUvv/+e13qjcAYH+28Ro4cqXnGVaxY8ZNxUd158MA+eb6PYNu27aherSqSJkuuBVf1G1GervmUCPBaOLIvC4z5BNU+qPbhs925c2e7EhJPzJ3OE136DEDLDsYlr8P7dseQfj0RQ+yNbNGvv/6KXr16fXJP2irn/5iS+PhHxMt/k8OtVMnzOa74kNHWaMmSJWjSpInNRIpWj4FH4k3QRIIt8rctosfQH3/8AdpjUC3x008/GQpGZatNdexzBGg3whQIS5cuRYUKFT4v4KEj/SWa9PhZC1GpZgPdC9grYbQXTBuHaRP+sjtqGm0WK1bM7nlvPXH58mXdOLhzDowazWfy3r17mtqNu3v/RANafl6/eSfrQFO7XnbVqlUD1Zt8UfE+pJTX2+yX/M/N137T2aVnz57oKnm9yDz7t7Xx1Hy4yX316A5OnziCNOkz6x7G5Qvn8PTuDbtMDxvie8iMk493Wc7phiT4FqQhaZEiRTwKAKVOjJtA+w3aITjLHk09rD2mx+9E6L7LCLuVK1fW7EKo41bkWgSY94l2Nteve09cFarDbl86ibXLF+Hdu7dOJ/zk0UP8Nag3vm/Z1GFZqmUoRfQlomrutRP1nbvnw+eO8Vb4jNetWxd9JWaSLabHOg6WtzpcWI/Z+mYwRjLelA536dIFVI8rci0CZDJ+kPxevHZkCryFJk+cgLGDe+HEkYO6xsVwHROG/SZGy3PsToEMudnce4rxsQurd57gIuPJndJo8Sbq0aOHtqNggDVnxN2rkQSFFI9v3LhRc6f2tuSMzubqK+e5K6xatarHX7DEi6pS3k+bN27AizsX0aZBFc1+xBaWXMj/mTcd3ds2wbD+vZHHCVOTMGFCU7tBW30H1rENGzZ4NNgiPXnorRM3blxNTagnfhON151tfvziR3U21fVVqlTRDGP9nlP/BxwBevuS8SGT6Q3EjW/GjBmRMV1anD2wGT82r4PX8tzbozlTxmLKsN5YstCxpxa1DZQimiJZTBT5CAJiKGaRoIUeGa0syBYRV1sk3oNFmC/dYxC1lUWSLeou77egeLdYGjVqZBH1nt/D6n8XICC7JYsYRltk9+2C1ow3MWHCBIuo2ywSuNAiksOP95RIASyr16yxtGzTzpK3QGFLuoxZLVly5LGUr1zd8tfYcXIvnbW8efPGaYdiNG0Rbw+n5bytgESrtYjxd6APSxhQS4cOHSwiwbUI82OofwlMZ2F9oySSLYtEoNeecaN1VXnHCHCNFocRy/r16x0XdNNZsa+ziAmERWzVLAcOHLDwebSSxASzrF692tKm3Y+WfIWKyTOexSK5BC2VqtawjBr9l0VsQy3iLWYtbve7du3apu47NkixkyIfQYCLxIoVKwJ1tBLh1/Ljjz9a+KLS88LxP7i2bdv6P2ToN5k9LsZcXD3xQjA0WB8rLGpTS58+fQJl1FyIt2zZYhHjS4tInCzr1q3TtWiJSsTU+KZOnWoRY1pTdT1ZSewzAr37WbNmWUTFbDl48KDhvvl8/vLLL4br+a0gXmwWyaVmEcmR38PqfxcgIA4nFuIbGMRNi2gELGLAbvnzzz8tFy5c0NWt2Xue/ZglZdxsSk7mmUqLFy8OtNgedENkUCiKseXlaMoTg95ahQsXDhBYVJO1bt1aC6RF3XXz5s0NidUD1HkQr8w8XUznQANWd6VHYERYYXK0AGgUd1PFoTc0Pr1BGFbfDDGXnbzQzVT1WB26ARvJMB3QgZ48eRKyoUHu3LkxePBgU2pB1qehckCI94W8KLUUPFxvvv32Wy16cEDaVHU/IEAjZ3rbcg3360nrKnyoqpYNjfaeYHR3hiygmk0v0V7Ur/ef3nqyCdfUZ3rLf1bOLMek6gU+AhIjx+2dcmcuRqGaWkui8QaoP3kALGLjE6A2/Fe27iY8paLxP56g8FuC/FnE4NllU+HOb9OmTRZhpjRpoTAwptr+/fffTUkhqEJp2rSpqT49Wenff/+1SMgBtw9BDKi1nTkx0qNScDQgYVIcnTZ87vTp0xaJy2KRiMGG66oKthGQDaimdhLG2nYBg0fZDlVZlOpIVPQAaSH4jJt5z4gQIEBrllJ1GbzonixO8b27iXYXruiHajExoHXLcGkzlC1bNlOqN7cMKAg0KlI1S0AXRr5QJaiiRSQAmt1OQGAhAy5GmqbGJCHyLSKtDEj3HqkrAUAtsgN2a98S4E6z7SJzGlC6deuWReLzBLQZm/X79etnkfgsNs+pg8YRkFhqllq1ahmv6K/GwoULLRkyZNCYHn+nTP3kPW+GuMaY3VCxP6Xq+kwG5p0Htm3bFjDRnoNpyX2geQAwaR1FznQvDihRTSHGkgFtxmZ9ep2IREFTm1B8y2jRZmI52Gw8mB6kKJyxff755x9slXtt1Gi5D5KnQ/zEyRBR8uQ8l7D4t65dweWzx1BJgtjVqV1Lc3GmFxBDGjDMAiNJM5ilK9IT0OWZrtSO3KjtXSo+K1kloq2vESNa6/GiMjMvYXQ0NYTY0mDlypUuifFCtQbVpO4gJqakGrZ8+fLa2pQ4cWJ3dBNs2syePTvEUQTCuKBMmTL47fffcfHKNaTJlBNRY8TW1s8H927jyvnTeP30Ifr16wsr5rwOIpnRUs1QrcnUM0Y8dR2BnDNnTkenbZ5jmgxSjBjGcvv5bUxFbvaLhhf/LxbsWvRUZsp1JTEg4uzZszXX0qJFXZfxnfF46DbNLL/uJMYbWbZsmRb/hwkyFZlHgAkJ2/3QHiUq1kThkmURIeLnCUXfvHmN/bu2Y9emVYgo26ZkyZKhRIkS4MLqSmLSUzI9ZhLxMlge8/e4+95z5XzZFkNF0J7NlURbPbo185vRoF1lQ8R4QwxG6O4UKBz3wIEDwRhAtO9TZB4BkaKi5FelkChFWlSu3RgpUttOcn3vzm2sXjofT+9cQZRIETWGh0EnXXXvWGdAG1Ku2UZjbTHNzfz58wNkl6gYH+tV8OJvGj2SMybn7Yi4SHA3d+roHtw9sxUv71+UvE0hECFWSiTKVByZc+TTMlWHDx8eNEQbO3YsQocOrUVKNrOzto6FEiNxWcROMXK7KrlinkiuoccSvye6SGZiiOFkQvkUkqCLZl5i1j4cfXMRFjd/zUhTxLkgXuLGiYN7tuH22W14dvss8P41wsdMjvjpiiB1ptz46quvlAGlH1Apualeqy66D/gLkaNE9XPG/r8j+/dA7cplUbJkCfuFTJ5hDCcaQhsNUEapSYECBbQ0KSa79kg1xjqhlDRfvnx2++dzxnLr163FtVM78PjqQbx7fhdho8ZDjKQ5kThdPhQuUkyLw8NGGFSQLxex5dESwtptWMcJPmOMMXRKgl/ekuf8uUiHLRIpOJI84/Hl2U4vCWeZNy5ixIg6WjNehOlWGImbUmS+LJkqY53M79Kp3XhwYRfePr2JUOGjIWqCzEiUoTDyFSisSf2UJPg/rHfs3IUpc5egebvOumLBnTt9AmsWTsWIIYN0OyT815vj/3gv0/FF3NoN3zNMgcS0J1aJlOOebJ9VjI9tXLzqKCNUzpgxA+Iabndc+0T82LF5BYyoaUGmGLdsllt1NhbG7IuPWs27Y+bMmWDSwYBa+oueHz3E2yqtLIitJDdSONlV+KfH4pnVXyQDIURs3Vl2iZFFdeIO4kNEVd2re2fxQ+EnKJ3sis1uDt2KhHZzQ+OXofNQrHgJXYuAzYaC0MGJk6cgYYa8iBvfmJpzSO9OGDdqiEsXRqq5xIYL9DoySmIci82bN2sJc43W9WR5ejIx55A9NSE3NUMH9cPzM0vQrcAZRAz58rPh3nsG/LY+DqJmro8rN++jVKlS4EYgIES1AhmMwRKsdID8n/X2bZvNbZeAhz3DhcMvkmy4gCTJdEeQVTK19D7MkD49bh2ag14lbyNO2M+jP798EwIjdsbH9cgl0blHf7epD20C4aUHH0vaoMLFS2HigjWGrs2RA3twaOsqDBrQ36Uzo+qVnoTiWGG4XZo2UAoYJYqx3H5+O1KMj180vPR/ZmvmgmiPSVmwYD52T/kW/cs/1DWDkduiIWGliVr0Xl0V7BSiaqSF7K436Qw9/0akS5kkMvMWsQeJEyeOnVbNH2YyxRY1i2JD6zsIpSMm+YpTUbA36o/4VSIHB3eqUrM+egwyHun10L5deHztpCQKdZ2KhgwPE1rSJsEoUSpAaV5AJJhG+wxoeTIXVCPw5WRPQlGpbAnMKrseEcM67+3pqxDI8HsUHDl1OcDqPonRgzKiNsyvM8XJYtngnBP3aYn95XygJkrUqlkDv2dbhJSx3uqqXe7vyBi14LAmJdJVIYgWWvLPUjyyRIIEAzU8wwkj+mHkwN8N13NUYc+ePZrUhqpyI0Q3dkr8mC4pICRaekXejgD1mcy4a4uo79w+tS0GlNXH9LCN1vkfo+eMJkiVMiWymDQCpb54dL16WCUicL0URlRQu588kZQDbTFS7IpcScxv1LNNJd1MD/sum/YJbu4eiOnTkqNe/QauHI7H2qIKky9SSgm5SHBnRWwkECV4zR4+fKjlSvJ7nrE4njx5YWrMyVKmwZw1C03VtVeJjD5t2swQ48CULl3aTFWP1WEyUMZascf0/CGGpt2zb9LF9HASkcNZcLiLPGc/1MfISf+Ynhdt/zIaYHrYUWWR+v45ZAhWZsigGdGa7txGxS0iyasbdzFSxNTH9LCJeU2eodPPVTFy3gEbLQafQ48lv13GgoVMTThBkhSm6jmq9Pfff5uyD5Oozi6x9VKMj6Or4wXn+LKSaM1aPiNbwxkxQOwsMol+W4eEw1o/ZAgLepZ6hD7TRwrjM9562ND3ZFGTVRd7gwg2VFuOGoomIvus4nVDdURAgxv67WfDmmWok+6sIRxYv1HuZ+i4ZpzLGB8yGrxm/CbRNoK/ab9BvTYZD+s3GRRrOR5nuTBhwmjnaXtF4m+SVYLh9zjbsf62flttYqhOpLrB+s1AgHyx0gaDZXmcvyNFiqS1Xbvht1o/Rv88uHtbVAnxjVZzWJ4ee8znZJSIp0QfNlrN4+WZMJaGx/bo+dFJyF3kgyeLvTL+j0ePYEGCJytxcP9eZMthLlHrwalT8YdOSY/f/ltIna5Sl95DrqQ5f3XFqGJvDDUZMawF5RIexoK5M1GtRh1DdYNS4fDhI4CJPxMkTmp4Wo8e3DNcx1EFrnnciJkxeaAqm2rhgJJifAKKoJvrM8kns7Hb2w1u2XkAP1UynoU3ZAjgyqFlpke/XqLx1hFpkxn6Wm78XrIwUjrhKlq9agVGZDPeGnFIhgMf3XJpX0LiNxkLSkPIQNDGwnqc3zzO837L8zi97sikWF0tGZWUv6mmZDsMFcBrSS8o/raqL1nO3jVmu+6mfHly4KXYUIQXeywjtFEYzg4tGxup4rAsGUQygWaIqk7TSQvNdOiiOkzKSy9IexTz7Xl7pxwer5H9LXZKNmyzjE8EMWY2Q9yDhRW7IInxY6a63Tqnj+wEitk9bfdErsTv0XnZomDN+OTKlRPtO/+KHgP/NLTOPLh/F7cvnbaLrZkTDH0hqWjMVAW9PRl2I6CkGJ+AIujm+gz5T68MexQ6FPBaNoNhTFzJUKFMVPr/QMKLJOKV/B/e3sAcHH8hKi/GWaHbsavozq1rePlaxvNBQGKo2XcIHSDXSEOdeWnh+nVqoWW7Vvht+ASNIdMzzAO7tyNutPBIkiSJnuK6ylBVZca2h43T2+Obb77R1Y+3FCLzLBGbHTI+7yzCnZugp/KAhg1jQBTsr4/3/5c6+jus62cI8Rx15fPNTif0MofDK9GMRQxvfq3TNWEvL0S7mJKF8+PcqeNImTaDLuaHG6Fxw/piSL/fXDo72vdI8mrDbfJZoV2pK8j8U+GK3lUbThHghXbkBl61ZHZsPeu0GZsF0hRuaPO4noNVJFjdv2F1WFraaGyOLIp0fXUlZUuXGDN3m2vxxDvjBn/mevLeWkmTJsXA33uiRe0ymuTH0Ui5AM2bMhYr54wX+4mOjooaPsfdoNl7gwaPKVKkMNynJytcu3YNxN4R3QmR0tFpu+fGbAmJnHny2T3v7MSLANhKvRCPMldTzrwFTTW55VwI1K5nf/NoqlEfrNSyRXPM/HsAdm5e73T0r1+9RLMapfFtg9ou9Yrj2sEAiGaIQgAycK4gxfi4AkU3tkFDT0dUt83vWHoxBd69d1Tq03NvREJU8a/QqN2g5acnDPxiBM9NJUvCqFLiovRhadTI5VGocxepgONvcxrCgdPttCgUvv2hF/8N9kRpy58jhmP17L/xe+fW2L9jE548/nCFnz55jIO7t0FzXx/QDd+UL64lPmTAPSYEdRXRJsqsyo91fY0ouq9fv77DYeco/yOm7TQm7TgvWuQ0X3VAilTpHbbt6GR12ZV3MbG5+V7qNHJD1Pba3w/GzwtCiIrZ0ag/PXfrMbD1RUnkK1zy0xPB8BfV80/FuSRJjND47afmsnn5EzeuSqw3y4eXx7XLF7F8/nS0b1oDB9cvxLrVK8BwJbw/XfVsScoUzevSDPwMtlupUiUzVT+roxifzyDxngPcwToLDR4mbDg07zkb3y+OjYcfzFAcTuCavMeazoqCnmM2IEHCRA7LOjrJl1M3CYD469dfY5sUdLYW8dH6R2xaRothWntJj+Bqotqu+/AlqDUrEc7fdf6SIPPXYX4oFGk5E7kCsCt29Tw81R4li2SyGUW1x6+/YPTQgUgQNRSOb12OzYsm4ujmpYgd7g369uiCP0eN0OLspE2bVos2zHuUAQcDalhMw0WzkcklaaLpup7CnP0yIKGjoIUsU6N+c1xL2Aaz94bEeycPGn0N5u0LgSHnKuO7H3qwumnKkzcvvpT4YT+LyotqbWckPAa+FxV45aVLkUEyrruaMmTJgYzVh2PYhrB4LeorR0TmaP1JoN/BgmLXMsFR0WBzjmknpkmcJUZhnjNzGmpU+Br3zx/ClsWTsWnhBNw9ux9fFciB1csWa55TcSU2E+NAMd4Os7wz5g5jKQWE6NRiVh3NlEqM7+UKUnF8XIGim9rgTUpj2GLFijnt4eb1q+jWsQ1yhVyBL5O9RcrYFkQVO1UulPeeAmck7tjOK5FwNVolZMlbUqJeJtFSDTht2EkBukoPlzg4TyZPRgHZHaSXFSeu1AknH/Jh1+VzTBie7RLhNb24sTeQFySNet1F9Izq0LYFkjyYgwJJniBNXAti/D+Y7H2xxeZOeM+VMNj1qgR69B2K5KnSuWsoPtMud4I/SBBKpjYwS8Sd+b7ohUYbHXuB+By1zwB+XBQlCaKjYjbP0T2W0c1zS5RwXyLaOgwaNEjXkGfPmISD//RFoXgXkCX+O8SVANthxXTludi2XRMnwkPXQmDH3ZTIULgBFv+7G7NmzTLlOeN/MGfPnMEAMb7OKQ4NucToP6UUiP7/Qvfl+5xsgnaK+vqYBCjtLi/JRG7Oq7Vp3UosGd8deaMeQs7E75AwBhBBbPtoy3NThH7Hb4TA9uuxESdnIzRv3xvhZGzBnWhHduTIkQDlT+TmaOTIkVq4COZQM7OOd+vWTcv7ZeZ6MKYU1xhXkGJ8XIGim9pgeHYuikZuMKYemD5xNFauWIkrtxkQDUiVMDq+EZucijWaaMkJ+ZIiJ8+UAK7SmRKCbbIwzpYX0B7ZuV8X75y0wrTlzZIFNSTSZhYX53JyBjm9rebPmoKF8+dg+dptmp1USsGhYoWyqNHwe8Nh0p3158vnmW+Jkh6meggoUSRO12wujBRLh5NovjxGw+N/123AwcNHJWbQI8E/MtKnS4OSxYsiZ46ckospHpo0aaLl2DIzBrq4MgWLWTWZmT4DWoe4cDHnbtoI7dixHTMn/4lDR07jubztY0UNjy+zp0HdZu2RJkNWrSm2TUaWyT5dhYlkvcecMWOwVCQ6W+QlSqP2lOKtWLlyZXwjebSYCicw6fTpU5g6foSkp9mCm/dEhZMwDrKmTSQq/G/xZZHSgTkUr+6L141eg+PHj3fJOHn9yVT369fvo33a/fsPcOToEaxZu06e8SN4/PCReIiGR7o0aVH665LIKylN+G5iEmRHGQjsDZBxx5h/r2NH19gUKsbHHtJecJxJAJmDyh3EmCf0FmPaClctjNZxjpHFkXphd+Xtsfaj55t2K3RzduQZp6edoFrmxo0b2i6ub9++LpsiDRipNmMsnu7du2P67Plo07mPpMNIIK79oRFCJH60K3j39p3YHDzGxNGDET9WFCRJlMBhPBtHA+whUkdKjHyJ+BLgpoZMojuImdMZEdpVdhHWMTLgYg3ZSDEfnqeJQTqpKmReMlcn0fT03FzVP6W5P//8sykprL0xUEpMFRhj8sSJEw9rN25Fu+6/I1bsOFqcsA/PuAXv5T3z7NkTDOvdGZfPn9ISYqdJk8Zes3aP816m40KhQoXsljFywn06ByOjUGU/Q4C6VMZ2cRcxtgx3g9T7upIoTiWj4Q1MDxdmvlwU02P/Cnft2tV0TA17rZKRzpw5MypXrYrbL0Lh91GTkThZCoQNFx6hxF6EL3syQGFFGhQz9hf48dd+KFSuFv5dvwnXhREzSnxWnHlGGW0zMMrTWNOsB5ue8TGv1TYJFspot64kSg4WLVrkyiZNtUUGm9IDPuOK6bENIRPL8lk0o3q23eKHo5TkUiOxYuUqSfycE/3+nIIEiZJoasX/nvFQCCOG7tFjxELPoePQtnt/DB8xylGzds9RVedKNbZifOxC7dkTFCcy1o07Kb0k+6MN0eLFi13WDe2SXCk9MDuwffv2Yc2aNZo41mwbQb0eRdVkCgOS7M8eRoy+HDpKHBQvXUF2gGKA4YDIKCVJnhLtew7Cr72NM+JM6ZLRDca0DobsklPcfLh7g0CJG9XlZBJcQXyuKGWJFi2aK5oLUBs0tm3QoIHLX+oBGpQXVaZJA1VSzrwGzQ75p06dMXTSAmTKlkuXOUa23PmQMW8xkTAbZ34SJkzoUlWqYnzMXnU31yMzwui+7iYaou6WzOquiKK8bNkyjVljGgRPEr3hpkpkaDOZfz057sDs+8KFC5rOvaBk0nYHzV24FN/U/9aQGjVGzNjImKMAVgnDaoToTm/GINpIH64u+1aCeAaGlIIpTKjq4CegzA/rzxAvL3t5A12NkaP2BgwYgEyZMjn1iHPURlA+R6aH+d8o0Q1rIiSBM2xOnjyF1+LCEideAmdFPzmfv+hXOHTizCfHnP0go+3qjY1ifJyh7qHz3IUH1q6K+l960/AGM0tcFCn+rlu3rtkmXFKPuudmzZppTI81f5VLGg5CjfA60/28Z8+ebpvVWWGszFCWnHmxYL7+pKecS5w4cdwitTIzfr11tmzZAkpcA4NoU8G8WYyYGxBasmQJ8oiRqjV/XEDaCkhdpsKgYXWVKlUC0kyQrnvgwAHkyJEDyZIlc8s8L1w4j7pNW5tqO0lKY/f96tWrHQbxNTMIxfiYQS0Q6gRmziHuPAOqovrjjz/AYHaeJNp6UD04c+ZMn3sRBiZu3LWPGjXKrS+w984CztiZsGi98N5pVKj/KpPR9bVs7Bw9pVR8MQUWESNKSa5cuWK6S6qOa9asabq+KyoyVtTjx489Pg5XzMVdbRCfH3/8UfOSdFcflCjRgNkMhWCCRAM0btw4pJJwKK4kUyOnWxnd41zlU+/KCQWkLb4MGJGYluPfffcdGE7eE0SDRBqkBSYlltgbDEjHxc0okeFgYsnAUM3ZGxu91Mh4MUCWNfGnvbLB+TgjBdMA3dULiX9M06VO4f+Qrt+H9+9BjWpVdZVlIT4rnrzvdA/UX0G69rra4NRfF5/9nD17tqamIrNolBiioFWrVoZUl0b7cFb+0KFDmDt3rpZXz9WeqM769qXzw4YNw7x583TZ3ZidV8qUKTFzvHFbHfZ36cwx3d1yXada2NVruoS/Mk40vKUNCsVojEPh60T3TEpYzkigLisxtDYZPEoPzEaatLZl9JsMGANFBTYxtg8ZWroNkhFasmgB9m1fgygPdyD825sIaXmD1yEi4WWUjHgbIwe+qdUAWUTC0lxieHC8nlqMqGbjfUg7Bqo9FNlGgDgx1ADjN7mbvqlSEXMm/y0xk77TfV88fHAfR3dvxg9NR+seHmP38Dn1NXIWrdkd86HqlyEyhgwZonnyXZRo1xPHjcH7uwcQ6elBhH3/WGRtIfEiRAw8i1kQyTMWQN36jTQJC58r2tR4ihgHijv/gATZ9NTYA7PflStXat7AX3zxhVu75SY5Yqi3uHv7FmLHYchafbRtwxrkyKRf1cV4bAyd4Goyxfi4ehCebo/RJMn00EWPAZIYqpsPGN2y6TXAyMlmQ+kbnRu5W/YbWP35Hx89fVqItCvKs4MoneAY+mZ4h1CfyAVfSJVNuP9sE8b+NhpjIpcV9VIBtxhq3pcYESdPncad27fx+vUrseqPgLjx4iF92jSfqLKoZitatCiySLDE4EhkaM6LTc3Zs+fwWALXCaeh2YelTJkKKZIn/ch40NuOdhHO0qC4AkMm1h00eAiWR46CMlVqift6KLvNcvwXzpzEwql/ot9vve2W83+CkkYaaQeWLZz//s3+ZpqKwFRz+R0nX1jEq32bZgh9TtJRlHyFL5L69/h6JlVmY9eFufi5Zn/ci5QPU8Vb09VEdcm58xfkc05ywj3RmufYKI1Mnuy/+/by5ctgHJc///zT1UPwmfaI1cVLl7X3FFVZYqmOaGKikDJlCqSUjSrp2bNnmsR+6NChbp8X31ONGzVEtW/KoWvfkcia68uP64y9zg9Irr9zh7ZjyGB9kcrZDp8Vd4R8CBTGh2JdqkIotiLRhZOiK+tiyKiM1uN+F2WmQ2DUSVKMGDE+iu7IBVJKw/Zosc54N34t17kgPn/+XCvPB4kqK0ojWM5v+2yXxpHTp0/XzjMmhFV9V6RIEe1Fyr4YjI0v1sAg3tT0tPIUbdy4EfHvSlTOSo4NnWOK41bnUq9x9+kSlBqzXVMNusot+pYwOgOHjMCOnbtQslwVZM6eC9ETxMS9u7exaNUmfP/DT6hUsRxaNm+G5eJJRrFrKTdkg/bUNdDbLxmGEydOom37HxErbkKUqlANiZKS+bPg7OmTGDflN9y5eRX9f/9NXibJtcBietKf6O2f5bggc8Hlh5sHxk5izA0+34zoywVycI/2qN3sB21nqMXyESaIgc3IzD5+9BCrFs/Bi/vXMWHs39rmQ2//9N6jtNHXiKoIupl7gng9dmxcjq6ZViF9lvcOh5A3+XvkTX4Vk3cskAjoFVGrTl2nLzeHDf7/JNftrVu3o1uPnkicPDVKlq0s9y2lSSFw7uyH+/bmtYsY9Ec/kTJlANN6TJ482SV96xmfN5UhVtt37UGPnn0QUyQrX8szniS5YCXvs4vnzmDM5N/w7OFdDB08AENFksfYOq4mqkb5fPM9TlOCdRKhn7ZWfCdOECncKjE+XrtsAep+2xbRYsT8EMtH4nRxbXjDZ/zhAyyaPhYJ48QwxPRwHpTmcjPuajIVuZm7RquqizsuR0SbEZYnA0EgyIBQ5Mrw+AyuRCKHT6O7ihUrarpJa3sM5W4NUc3zFLdSp09DPTI2bI9tJROV265duz7qARm3glIcxqih9T8vFokifj5E/okXlDcYGbHIkSNrp5mXxOoiy/quihjpv2//v2mDwXm6W1Tpv1/+Jga9asZBz6/uw4j92bPXIdHo32KYt2StrWYNHZswcTK27TuCb9v+LCHPI9pc7Bj199nTJxjYs5OE6s/o8gB8hgbsocJketq064D0OQviy0LFEVpyZNmit2/f4PTxI/ixeV0cOXwQsV0QFJObhRUrVmhRWKmCKFGihPbsUn1DqSk3IX7TrHDhZMiEiRIlfOOmzXj44KEmscuTJzcaNqiv1TcTz4beHmTk/G56bGHgTce4ZpEpZMRbT6iGmzdrirZJpiNTPEnwpZPkVsPA9eFQpP165P0yv85atovdl1Q2hYoURe+hE5AsZWotoKWtkmTQLp47hZ+a18ZGYaa5xgc3evr0GbLnzIXu/UchY9YcduNh8XncsWktdq1fihnTproEJiYMpvccjfAZEqFatWpaBHC+l/i8+ffs4/udnmQTJkzEho2bcO/eXRFwREKe3LnEyLqxlpHdv9DB2UB5D9DsghI/V5NbGR/mi+HAebNTP8yssIcPHwb1kHzoaSvEY8zRw9QJjL5KvbOVaHfDlANMPkhXzLNnz2rRG9lu8uTJNd0fjd3IfLEfZm8lkcFhrAkuvlxoqDZiHQIYT1Qlzoh1OK5Vq1ZpEiJKl8wszM76sXW+Z8+e2tgDO+8Nx9KhQ3u0jj1SEpx+kMzZGp+tY1wY+66PiWq9PuTEslVGz7FRo0YjRNT4KFCslJ7iWpnlC2chbcKYkh6hmu46QaFg/0FDkDh9bqTPnE3XC/T+vTsY2vtnzJo2GZENxFmiFIcbFEpxeE/SkJjPMg1z+SzxJe6XyQlMbH0xTcUtSeRLiY87drF6sP+9cUZ0y3dcT9FPyvAZ7360Jn4fOfuT40Z+8D3QrEVrtO8xCFGi6guA+OD+XYzq1w3TJo4LtDXYyJzcVfaRSP6r16yDXwb+jajRrClhHfd29OBeXDm2G106/+y4oJ+zZC64saeAgiYWqVOn1jQdVFXT5IMfowyLn+YD9C/VXGS8aJfmanKrqouqKqZEIDPDYHKUznCnSiaFx6hWIYPRQpJYkvGh6JqTpR6aTAylOFxUKe4iozRw4ECNgYkfP75WjlwnRXv0gCLzQ0bFr2srGZguXbpofXPB0cP0cHx0BWRbpNGjRwfaA8fxcifNBd0TtEZ20AO+N8b0cJxyaVAz831cFpUiHxgzdOnSJRw9dxUtOjQ0VL1c1doY1ONHkRoU19Shhir7aOFjot46ce4Kvq6pX80TM9YXaNymsyTEHIWuXTp9NnNKZeg1ww0GnyUudgxEyYipZHZq1679iV3VZw0E8gFKJylu9zW6fv266Xxkrphr3pinTTXDZ/zGyU2m6lorDRsxEi069tbN9LAeg1o2aNlR7tuRsiH8/L61th3UvidNnor2vw7QzfRw/oygvHX9Gly6fAVJkyT+DBK+XymhZfRtmoPQNIEfalyoMqbgwWp+8lllDxyg1InJh91BbmV8KBYjU0OJCRdUMjV8sTMxIonqKhKDYjH+ChdeMh2MAMxQ22QEeDGsRqt0wyVxQabo3ErJRAx6W+xCaPzml/EhY0SGi8wTmSVnxMWU+au4I2OdqpJrqF69es6quew8b0xG0vWECJyToB3VyzchEDmcbO8M0s1n4TXdrsFqH4tPnjIVZcUI1gyVKl9dkx7SED040KJFC1G9XhPDU02ROi3WLp2rSWB5r1F9zA0Gczkxcjdz4RQtWlR7Zr1pAbQ10ZMnTyJv3ry2Tnn1Me6u27Vr57ExPnojxnkQA3gTFC5STBO1/qty5+FzifTrfB3+r8aH/5KmSIW1S8xLmvy35wu/dx84gqJVGhkeaokyFcVmdQbq1a2tCRL4bHMjw+ec9q5UDdOW1Z15IA0P2k4FSqAqVKhg52zADruV8SHjQo8b2tvwZc5dpD0DWCbUo/Rm+fLlmvsks+2SaGRsJerFSbyYXKD9EqVJtMvxSxTN6xXDU9JDd27m/WEdZjRmLITAJKoVPJlQ86eOP2P/rnoonOypwWmHQN8NsTHtJ3PSHnZ25fIlVEia3GC/H4onS50Om5fsMlXXFys9EJVBgkRJTQ39zbv3mvG8VWdPiasvEneugR1mwhU4UaXgScZn2e38qPx+tXhqOjZs9j9X2vFlKt7U/2FDv0M6ydnmqDFLKNs2bI7q+PK5F2IzY4bixE+ILhPHgypCvsPq1KnjVVIcvXPi+9j/+1xvXT3lQuopZLYMpTb0XqDkhcbQlMpwp0n7HP9EDxArUcS1c+dO7adf7wcr08SdKfXF/j80rvJL/g2w/J7z/z8TudGYi0QpFRmgwCZyuK7OSWJkDnxQRhzJh8cGn7ldl8Oi9S9/BWgXkUI8s65dOm9kuB/LXjl/UlOffjwQxP+JGzceLl04a2qWEcKG1rJZc6MRGLmiTA1SRyXa69EewZeIax+dLTxJzdv9gj+3RTQ0hNdvgS8HR0XdBsaljH47Ej8fvz8N/R/OIKNmqHEvLBw1MiVzxun6lUuiSm2nJaalQ463S27tzZD2vNTkuIvcyvjQhoecG4Ph0WOLKiq6xXEB8E9khphPhsRdKG0OyOD4XdysTAHtg6z6SUpnSpYsqRk60+PLDFHKxDD+HCvVW0zsRibt5s2b2oe2SoFBdJv3NI2ZPAs/7y6LHZecP3giPMAfG2LhWPLRcu3KBmjorSR31JzJf5lqY/n8GcEqb0/9enUxefRgw1htWbsS6VOZkxQZ7szNFeis4GtEj013ZcrWiwU975JUm4bv5scCn19ndO5eGFSbkQyrtx0LMKOcKG4MnDy631mXn53fs3U9Uif/3Gbls4JB6EDxQl+K9N34+2z5gplo3LihzyOxfft2TWLlrokEiPEhA0IVlv8PuUzGzqE3FomGq9xh9urVS4uQTPdxEmP7+CXa95DIdJD8SoH4m55aZHhoqExXc+oqqfKivQ+ZHjNBwWjk5Ve9tHDhQs0NnjZB1s+mTZvYvVuJzKCnrOf9Toy632HjF+BUquH4cX1WTN4XE6fvhMYr2fWRHkhss+2Xo6DXqkjofqwOirZbhiZNm+pWKX5o5fO/lD40rV8LQ/t0wSudYl7Npb17O3T6qb1XYPf5rNxzhPdly6b1MWZoXy0ejrNeNKP5hbNx99JxfCsJXH2duO54KsBnQLCjjaMnIjb7H3Mlka7/NHoHfjnbGp2XRsK68zFw58mHUmKdgEsSVm32oej4cVVSLI/QD3P+PeaS9Bpcr3evW4pNa5bLJtM518WN6L8SH+bS8X1a4mH/8wjKv+uIM8GpfZuwdsVisXXV53AybkR/1KxcRnM/93VsaJOULVs2t03DlDs7bWHoim6PKIXhQ07jZqpPGG+Diy8ZIhrv0h2WXlyMV0O1llUlRRseHqOLHW12eM6/WowZghmLh6IwK7EMAw9aM4MzJDtTGNDV1llSPnqGMKaQI+Jc3RE90m+flDjRdZDSK28hLjzkvFeKQTpvxNcSLyJmjOjImSu3JsFzR64hGuJ1lGzxmfIURYYsOcQYMgGiRv8QvJLG548e3MfN61dx/NAenNy/Q1Iw/B0gFZu3YG1mHEyrMmb8JOQpWhopUqdHrC/iaLGP2Nbz589w/85tXDx/Bvu2rkOBvDnRrGnAVBVmxuiOOkxdQIcHXzNuZkwyeqZ6E1FyxjV1+7atuH3nrraJTZo4EcqUK69tKq1rs6vGzPfAiJGjcOLsRWTLWxhJUqRGrNi8byNoXbyQ+/ae3LeXL57Dvm3rkSd7Jnzng0EqXYEX199Ro//E/iMnkCNfUSRPlVZ7xiNIfBzSixfPtZQR50+fwO6NK9G8aaNPbGK1Qj76h+9vazBhd0zBFONjdCD06uKLM3369A65UaqUGCyJai5G4iXDZI/ohcI2+fL1tN7c3hiNHKdhNwMv6jXGNtK2L5blAjll6jT8s3QZThw7ijcSiC98uHDIlCWbBNOqghrVq/vitNwyZkpU/xozVsJDbMKtG9e0PhIkTKwFimvSuAHSiLtqUKJmIrUi8+Mp70czWDICPUNrMA+fog8IHD9+ApPEm3Pz5k24ffODp2/8BAlRtHhxNKhbx3RojKCI79lz5zFegrtu2rheNn4fnnFiVax4CbRp1UKX17Kv4EJNEHMK0sPaXRQojI/ewQ8ePPhjZGUGJvRFrw29c/VfjkGaevfu7f+w+q0QUAj4Q8AXAxf+888/2qamfPny/majfioEFAJ+EWBeNsb6c2e2hADZ+PgdbED+p3snXc+t6SRozV22bMCMZQMynsCuSzsjX4irENi4qP4UAv4RYOwvxvbyNaLK2N3qcl/DRI1XIWALAUaJp2OTOym0OxvX2zYN/piagsRAhj179tQ8wPTW9/VyDOrI6NOKFAIKAccIMIS9NYee45LedZb2jYGV9sa7Zq5GoxAwhgDNV9ydsskrGB8aS/MTXGnRokUYOXJkcJ2+mrdCQDcCU6dO1YxxdVfwgoJ01vDlmEleAKEaQjBBgM+KNWyNO6fsFaoud07QF9pmfCOmi1CkEFAI2EeAWaiZO4wOEL5E6yW7OB07FCkEFAKOEWCOzMB4VhTj4/g6BMpZZqFXpBBQCDhGgN6eNWvWdFzIC89SSmUmxpgXTkUNSSHgVgTorcmkqe4mr/LqcvdkvbV9Gj76amhxb8VUjStoIkAbQHfr/12NHPOKMVSHL7nfuxoD1Z5CQA8CDGMSGEE+FeOj52qoMgoBhYBCQCGgEFAIBAkElKorSFxGNQmFgEJAIaAQUAgoBPQgoBgfPSipMgoBhYBCQCGgEFAIBAkEFOMTJC6jmoRCQCGgEFAIKAQUAnoQUIyPHpRUGYWAQkAhoBBQCCgEggQCivEJEpdRTUIhoBBQCCgEFAIKAT0IKMZHD0qqjEJAIaAQUAgoBBQCQQIBxfgEicuoJqEQUAgoBBQCCgGFgB4EFOOjByVVRiGgEFAIKAQUAgqBIIGAYnyCxGVUk1AIKAQUAgoBhYBCQA8CivHRg5IqoxBQCCgEFAIKAYVAkEBAMT5B4jKqSSgEFAIKAYWAQkAhoAcBxfjoQUmVUQgoBBQCCgGFgEIgSCCgGJ8gcRnVJBQCCgGFgEJAIaAQ0IOAYnz0oKTKKAQUAgoBhYBCQCEQJBBQjE+QuIxqEgoBhYBCQCGgEFAI6EEgtJ5Cqox3IzBgwACcO3fOuwepRqcQ8AIELl26hFWrVnnBSPQP4e7du6hfvz6SJEmiv5IqqRAIhgg8ePAA5cuXR4MGDRzOXjE+DuHxjZNPnjzBmDFjfGOwapQKAQ8i0Lt3bw/2bq7rjRs3okOHDvjqq6/MNaBqKQSCCQJ8D6ZNm9bpbJWqyylE3l3g+fPnCBcunHcPUo1OIeAFCDx79swnpSY7d+5EkSJFvABBNQSFgHcjsGHDBuTIkcPpIBXj4xQi7y6wcOFC5M2b17sHqUanEPACBGbPno1MmTJ5wUiMDSF8+PAIGzassUqqtEIgGCKQIkUKhAkTxunMFePjFCLvLrB8+XLkyZPHuwepRqcQ8AIEFixYgPTp03vBSPQP4e3bt4gZM6b+CqqkQiCYIvDmzRvdGxvF+Pj4TRI9enREixbNx2ehhq8QcD8CiRMnRqRIkdzfkQt7oH2PrzFrLpy+akohoBuBFStWIE2aNLrKK8ZHF0zeW+jLL7/03sGpkSkEvAiBEiVKeNFo9A2FUqqsWbPqK6xKKQSCMQKTJk0CVV16SHl16UHJS8ts27YNmTNn9tLRAceOHcPkKVNx+PAhPH36FPHiJUSx4sVQq0Z1xI4d22vH7WsDo1ff1OkzsH79Bly/fh0hQgDxEyZGsaJFUKdWDcSMEcPXpuTy8W7atAnZs2d3ebvubpDXNkGCBO7uxnT7J0+e1O69A/v348njR4gVOw6KFimMevXq4osvvjDdrqr4KQL37t3HjNnzsGHjetyUZ5yUIGECfFWiJBo1rA/agQVnevfuHYyohUNYhIIzYL4899q1a2PkyJFex0TMmz8fa9ZvQa6CJZAkRWpEiRoNoUOHwcsXz3Hv7m1cOHMSh/dsRZ0a1VD661K+fAk8Ovajwlj27vM7chYqhdTpMiKmvHTCRYigjemFePvdv3MLF86ewsGdm1CzemVUrFDBo+P1ZOcVZO7Tp0/3ObXw6NGj0bp1a09C91nffMEMGzECZy5eR7a8hZA4aQpEixETYcQA+9XLl7gvz/iZE0dxfN9WdO3UUbf64bOO1AHMnTcPy1b+9AC5kgAAOn5JREFUi0y5CyJFqrSI9UVchI8YEbK3wYsXL3BPnvGzJ49h35bV+KVbV2TJkiVYokaPzfny3mnYsKGu+SvGRxdM3leIhlz05tq3b5/s8PkYeAd1/7UHosRJjq8rVXc4oDdvXmPZgll4++gmevXqidChQjksr05+isC///6LBSvWo/kPXRAypGONNXdDyxbMRMgXD9C1SyeECmZYM+QDpT2nTp36FEQv/3X69Gncu3cP+fLl85qR3r5zB91+6Ym8xcsj55cFHa49z58/w/Sxw1GyYB5UrVLZa+bgCwMhc9mjRy9EjpccX5Wvom0cHY37/fv3mDhqAMoWy4+yZcs6Khokz+3duxdx4sTRHa7C8YoZJCEKGpN6/PgxGjVq5HDhCeyZTpgwEbESp3PK9HBcYcKERZVaDZE+T3FMnzEzsIfq0/3dunUbf06YihYdujllejhRMjqVaog4PHZiTJ48xafnbmbwV69eRdu2bc1U9WgdSnuSJk3q0TH47/zXXn1Qu0VH5MpXyOnaEzFiJDRr2xnT5y4GmThF+hGgpCdhuhwoU7mGU6aHrXLzQ6xnLlgGqkeDG40fPx4xDKj0FePjo3fIzZs3UatWLa8a/Y59h1CstDF1SsZsuTBm/CTcvHnLq+bizYOZOXMWajVuZXiIX5WrgoPHvf8FRO37q1evNLswMvhcyCm1oeTKDF24cAHNmjUzU9VjdbiDX7x4MeLHj++xMfjveL0Eh0ucOgtixtJvn8cX8q8DRmH+wiX+m1O/HSBAU4H8RY1H6i5VsTqmib2fL5CrnnGuCytXrkSUKFF0T1sZN+uGyrsKLlq0CD/99JNXDSpVxmyGx0M1Xasff8E+MY4sV7aM4frBscLVa1dQpGpjU1N/+eY9aBuWO3duTYXCKKfeFPmbqtsf2rdH5hx5kDF7PkSXl+wLUZnQLmz7+lUoUig/fv75Z0QUOwe9tH37dnz99dd6i3tFuTuiUqpbt65TqUpgDna6vFAbd+hlqssDR46ZqhdcKz16+szU1JOKTWXLrt/j/LmzyJUrF+j1myxZMlNtuavSunXr0LlrN2TJmQdZcxVErDhxNduwqxfOYP3KxWL3+RU6yrtNr0qeEt2mTZsaGq5ifAzB5R2FuSNeunQpunXr5h0D+v8owoQOa2o8USQO0ZtHwU88awosqRQ1WnTcvnkd8RIkMtxE6FAhMGrUKDDxJV+uTNh569atjx96haVMmVLzFsyQIQMyZsyICP83mDbcmYEKlHC0bdcOKTJ/iYHj5msGnH6r58pXGNXrf4tL58+gU4/fkS1dCl2LHds9dOiQ36Z84n9eE6qyvYlevnwhTLI576G3b81J67xp/oE5lvBhzaUhorHzNzVqolmTxrh//z7Onj0LMv63b9/GjRs3tG++P/hcM4o5Y0QFFmNEBqXbr72Qv2RFjJqx7LN7KUfeAqhYq5Fsck7g21Zt8V2TBrqyEly5cgXfffedocujGB9DcHlHYd5ANGz2JqNmInPt0llTAP0zbwbatzQnwTDVoY9XqlKlCob9NRZtO/c2NJPLF84iQezoiBUrlvaxl8zv2rVrYBZz2mWsXbtWUztZnT+puqCbMhdLZgunDUrkyJENjcN/YYqqa9SqjUZtuyNxshT+T3/8zfs9Wco0aNq2C1Ysmo3BQ4bixw7tP5639Q8NmnPmzGnrlFcf27x5M5o0aeJVYyxcqAiOHtwLvqCMUrIk3uuSb3QugVE+Z9YM2uYmTjxjuK1dvggd23wLBuvkxxZRbXzx4kXts3r1ao0hsr5L+JxTAsznmh8+51S3OnOgsNWP32NkvLr37oemHXpoGze/5/z/nzx1erT8uQ/GDOkjIVDiObVz27NnDwoWLOi/GYe/FePjEB7vPEkuvnFj72MUXj66jauXLiBR0uS6gXv04D5eP7mHzD6YQ0n3JF1cMEumjEgSL5bmqk5GwLpoOeqGMVbGDvkNUyeNc1RMO5cwYULwkz9//s/KcmE8f/48jh49CgbXO3jwoCaS5gJJRojf9K6wRhTnt7MYI3tFvVWtURuHTI//gZStUgvTxo7Q7H8c6fYPHDiAatWq+a/u9b/JcLZs2dKrxtmsWRM0a9kWWUQNGVpHPiQOnvfLlnUrUb60b6kaPQ18wwb1UadBY/QeOg4RxEhcD509dQKxo4ZH8uTJHBanmpjSXH5sEd3kjxw5Aj47M2fOxLlz57T1IHny5NozToaKaVSYMcD6nDtag7ixKV+xMvr/PdMp02MdD0MjNGz1EypWqoD9+/bYVXvx/tq9e7e1mu5v5c6uGyrvKeiNsT2IDtUK5StWQfdBYxAxkmMpAG9YimW/q1kaR+UhCwx1ivdcwYCPhItJnXoNUbFuc6TLlNXuwsByN65eQrNvygiTcgDx4sYJeOdOWqAxMYNr7tq1C5RccAy0NaDkhd/WRIKhQ4cWj5XQyJu/EEZNX/K/9q4DPoqqiY+CnwIiRSCU0IkgoYOAIkUgEEGKIEgLoEBEEEFQeglFeid0Elro0kHpEDqC9BYJvQtSBAVE3W/+Dzdekiu7e3uNvPn9krvbfW1n972dN+U/iVTfDrqhm9ev0rJZE2jqpHCbRb/99luvMwnbHOy/J2CSgBk7MjLSUVG3n9/PYcN9+g+mgeNmiGgjey88DA54PmsXTqNZXngtbmeezg7v3btPxUuUpNEzFgo8NFs+L3///RedPn6UFkwdRatXrdC0EdI5lHjFIRgdZJ/MnTt30o4dO4QpGdpjzG1YIuA/CC2wOr9hUo9avpGCatWL146WH6uWRFHbZvV5M2UdDBNrzZgxY2g840rpIanx0cMtLykLRGRvJGgCnj75g6YM7kb5AkvSBxyu/uKLifF54CswbexgejW5QpnYbAJ/E1tqWW+8Tm8YExbBBfPm0J49e6hdkw+odIUqVK1mvTityVne/W1Zv5r27dhMYf360qmTx2nAgAFikXD1+LEzxF+zZs1EV8AkQQTHYwa3wx92kNAU4Q+ao9gzMZx9XL9PQ9p0r9PePbvtXg6iwnyNML+bN2/ulcPeumUL5cqWifp3/JTKB9cVGDPW5vgfjNQePqwPpUmRnF5lDQOeAbwIJWnnQNq0aehnnsffr9tE7UO+Ztyk8mKO58wbIBq5ePYMrV+zjA7u2UZjR42kQoFvivXAmqZWe6+OS2KTWq5cOfHXrVs3UUGd3/iEYARt0dGjR8Ucx/epSzY6bthKicCiJenPP/+0cubZIfgvffzxxzbP2zohn0RbnPHS43B6tCX5e2rIeNjbtWtH5cuXJ0SbQZWKh37r8pl09Pgpun7zFv3Fu/6UPGHy5MpBRQsXpB6d2lFAQIB4qIHBgOvq06ePXBx13ETY3bEA7d6xjc6w+fPK5St08eB50ULaV1PTl21CKO/QfnHgkEFBQWJn5G5MG3XnpyYIhRkN0WQqvRlYRLwYX9JoPlHr/f7wAeXP/6b6M9EnnB6hivc1QhoIbzNzwRcE4fWhoaECDBLaXWh/dqyaQ4ePnuQ5/ou4hyk4dULO7FmpVIliNKR/b+Gfgetp27atqFu6dGlfux0eHS/mRJ1a71PN94Po7LnzdOnSRZ7jl8SYUrFWpVNoc8o3vL/wwSld+i2BV4VEne5OCQS/IMvoUPgHvf/+syhdBEx8v/MwYz9V0M3Li+di6Z1A675KaAx+iIhS1UvS1KWXYx4uv3LlSmEWqlbN86kegB69cOFCofbs3LmzTa3NFt4lQt1pTzIH8uacOXME5LgvOqN6+LHQ3P24ceNEREfVqlU113F1wcUMNZ/C7404bZXW/tavWkoNa1QQ2iVrdSIiIoQfgzchH1sbZ8JjCNcfPnx4wsMe+Q0ndzwzSIXQpEkT1sxZj9yEgyk0ebawxbBWIL0OPnF9jkxkHrnY56BTbCD79+9PkyZN8pqrwca4UpVqNDpiCfsraYehePLkMWuza9GendE2nztslgcOHKj7Wl/UXUNW8CgHEJpbqVIlj44BnZ86dUrsSuFYChurPVPV3r17qUGDBnbHDMyJkSNHinxKcKizp96025A8aZcD0PYsW7aM7t+/b7ecO0/WrV2bJg3tTQ91mKVOHTtMPx/aaVPowfjh9IjnypcIyXwRdeNpgrliwYIF1LdvXxoyZIgIrbcl9GCscMa2JfTgPDQX2BxB4P7oo4/ozJkzOCzJZA74+flRSEiIMGvDj9IbCJqgyeHjaem8GSz42jZbWY4VGsXvly2kMaOG2xR6sIapWmTLulq+S8FHC5e8qAwcRe0tQK4eKqT3Hj16iIRwMFHVrWs/B49wYuZ8Q1rCIXFdEKLgIBccHCwwJ1x9PUmtfey0Bw8eLF5AeJa8gbDIde7UgUI/ri4clhXlH6vDwrP0lO39PyxfRDvXLqSIGfYj1PAS0Gs+s9qxGw/CWbRKlSpu7DFxV4AzgIBStGhRmj17djwTRuLSRPCj0up3CG0ukkniGZw7d65hNG5r45DHnnEAGk7g80AL5w2E+Z03bx569OtV6tXhU/qDTdT2hDLM8YjwEZQr06tUgd0nbNH333+vCefHan0egCQf4QC/qBTegXlstLxgKR988IHCUSeax8Ahzwr+9BJn21V4h6hMnTpVb1VZXgMHOBpC+eqrrzSUdF2RkydPKvXq1RPjwHju3bunzIiIUEqVeUcZNGa6sumnWOXQpQfK7tM3lIgl65UGzT5R6jdopJzgeryY2h0Y5goL5nbLeONJjuZSOEWHR4bGAozCGxmFNYIKa1w1j4HNKgqHP2surxZkp1fR3927d9VD8tMkDuD55zQtCkOfmNSi/mbYoV2s3yzsKqtWrVI44a6Y4yNGjlKKlSqt9B0Wrqzbd1rM8b1nbilzVmxRPm7WSmne8hPlwoULDjvkTOwKa0cdlrNWQPr4WBUHvfMgJFxoXABg507Cbg52fqiyK1eurKtrfjiJhReHWC62GgW8+bx584RTrrNAebb6SKrHsfOG1see75XZvEEEH0yaeI7hbI3QVwAiWhJMPTCFXL9+gyZODBeorHBSBqK01txVcMQFUCMc7n2JoE2FacndhPnNAgi1adNGYLbo6R+RPcOGDdNTJa4sss8DngOYMDDDSt+fONY4/QVzG5GVkydPdpuTP7Q7yJu1hJOsIoChYsWKAgU+ocYfczw29ixdv3GdNbcz2DzXXIwxT57cmp8/3rgZj1K1Jg3JY97JAUZyVdhD3m2DYzu/MnToUKVfv35CUtfbMXbl/JLTWy1ReUb9VDiaRGiOsJORZB4HvvnmGwU7b1cS2+IVaAt79uyp8EtSYf8wzd2xk6/mspYF2adMYSHL8pDXf8d8YaHHreNk/zvliy++UHhTZahfjt5UpkyZYqiuZSVohaGBZDOb5WH53UkOXLp0Scw7RxpSJ7tRoL1lNwWhpeeNqgKNvRaCVogdlLUUjVcG1zN9+vR4x/T8gK1Nko9wgLE93DJSqLk3bNig1KxZU+H0GIb7hHoTC6tZFBUVpXTv3l2BICTJHA5AkOTQaQXCiZnEGh1h/oDgCyGEwc50N79161ZDL2SOHFJYi6W7P09XYGdsISC6YxyYQxz9IwQtvHyMEswpZgmYjPGksIZC4dB5RW5wjN6RxPUYYkTh/HyJTzh5BM8Qa3cUzimn9O7dWzFisty4caMhV4jo6GhDa4p6yVLwUTnhA5/u8HfBw1u7dm3xQDvLkmLFiinQGplJsOmyqU9hxz0zm03SbXEIrMKRNqbwADs9hiVQ2DFWgaDqzE6zTp06yo0bN3SPiyOjlJkzZ+qu5+kKXbp0Uc6zr5MrCUIOmyEUhsNQnBF4MEbcW3ZSNn240P7geYQgJMkcDkAbY8QPK2Hv2BTjGcUmHOuwEWHHss2mTZsq8C3TSxCQjawNaj9S8FE54eWfHMaucAoAl40Si2DHjh0VmBbw4nCWIKCMGDHC2Was1seOHtqkGjVqyMXRKof0H2QEVAWOtSrB5DBk2HCl5ge1lLfLvasE1/hA6dUvTGHfG7VIvM9t27Yp7K+jjB49Wji/O/tSxQILx2cjBO0SVO++RmYJn7auG2YPjhhTsJaYoVGBqYHxt2x159RxaJGMagqd6vg5rYw1k/M7xjkDQ2jdsGGj0uKTT5Vy5SuIOd6oaYiyaPF3VgViCKGMvySEHcwvI8KKNdbC/K2XsLYwpIveavHKS+dmp13I3NNA+/btidWJmp079YwKTtPr1q0TMPlm4Z6wCpNRdfOLpHZ6xqKnLADT4CgLYDVfc2LVc53uKvvMCTI9bdm+g3K+UZjeCCxKmfyy0MuMxgswsdu/3KRzZ05T7PFD9E6ZklSyeFEBOokkpIDJr1ChgmFcjYTXyJFNxMIU1apVK+Eph7/hoMu+acK52WFhLyrAGwVinyvTRwRehoWFCcwjNkuIPErOdgIgQsw55GJzFbwGv5zF8wXMMOAJGcVscfZan5f6eA6AclykSFF6+PQFCixRhnLmCaDUr6UVTuW//XaPrl2+SKeOHqLbl89QX051s3N7tMi7V4iTSCOwBWHyZjmgsyAu8nzpnePAmGKhWzjDG703UvAxyjk31sMCgAcPeY0SescnHAaLtQJcMCYmhjg8WDykiG4pXLiwyJxtWR6RM8DiKVCggCnZ3hGxg6y+SLKIRRyAZfny5RNIwa+99ppl16Z+Zy2DgMvv0KFDXLJT8AG5wxCRhnGBwAdMXKTKMGvymnohHm4sat4C2rJrP4V26k6vpLCNsIrncev6NTR/xnhaOD+KAvgem01sJiOgkyPTux5iTZFIqYC54kv3GLD+mI+IgnFEd+7cES8M1EF0HKIdkSIAa4SlcIA5gIjIn376iVibm2j+O+on4Xncd6QIgCBymV9ayMFUlyNMAwMDRcSdq/iN/oBEXL9+/XjgrWxWFesN0KXxHQJ41qxZBco0sodLis8BRFLVb9iYGrfpSEVK2E8dgnQwYwb1ogK5szEy8gCXzCV2qhco3jly5Ig/UAe/8G5D2ia8W4ySFHyMcs6N9YBQiXBRgH7ZIiz4yKcTPnk6BRbjLNictPL1TFk5XPkvunzxHO3ZtoH+uH+HWrUMIeTLQSgzFi606UyYOBZX5OKZzYLOrdWrqSaHUBbisFhkSLrFfz9xXqYNnKCwIIe1N2Otld6H3Nb1JjyOMQC+HHDtCJGdPG0GpXndjypUrUEZsz7L9XKddzP7d22ls6dP0qctm1LNGjUMh9kn7N/Xfx85dpyGjplIXcOGa17krlw8T1tXRtGoEcZCmW3xDM8UQNiMaBPY/4AWL15MavJEW31423FW+YuwfQgwtgg75NkM+nf46Cmq/H5typG3AKXinGx3fr1FMccP0u7ozVThnTLUmJM2Pnr0hwiLhzbU2fQ22GGv5lQ5y1hrVJC1BsE8v3PwMdBZTkGwgUPRz2TIQE15LQliYdUVGiA8EwA3ZRMdsV8Ifbd0KW3csp3KV65OAYHFKU269PTgwX06d/oE7dy6nvLl8uc53oKQt8pVApmt++SNxyG0dunaneq26EBp0qbTPMTxnOuvA+cDK85glmYSBHYOnhGI33rbZZO8EJgAgWCUpOBjlHNurMdgTmLCA8fEGuEhatUmlOqGtKN8BQKtFYk7dnDfThrUrT1FsxnBXpqJuAp2vmAyTeb8O7d5wevzyy9kDwb8T0YMbsfj/2j8eKrOqMyuWIzY9ktly5alJqGdxYvBztDpzu1f6JvQxvTD2tW6tQr22vXVc12696GQ9s8yLeu5hkWzp1KzD4PFrl9PPXtlkW/o66+/Fsi+9spZOwfkYyAOu1LDaK1fZ49BG8lRMjYTEG+LjqaRY8Kp/9gZNstgDE8eP6LBvTpRupQvUWRkpEMNsaNxQ3tbk9GWf+B74sfz3R7FcPb1pv7+tIE1TK7SuCDxbFD1YJq+ZAObaGy/+LA2TRwRRoXy5mBt15dO88HedfvCuSNHj9H4abOoQ7f+uob7DwuaQ7q1pSWLFuiq56gwtJVAluYABkdFE53PnTu30OY78w6x965K1KE84BkOsCOvUOHa6r3L199Qy059HQo9qF+izLsUsWwzNfy4iVCT22pTy/H+/fpRaX5B9XMg9KCt//GObQb75Pz56aeGXmhaxjN23HgKGzuT3gt27BeSPkMmmjR/DYW26+hVeau0XKcrypw4ecpQs+UrB7M5Zb6hurYqQdCH9s4IcQCAzwk90FDiBQD1vTWCZnbOouU0YFyEzTJqvZdfSUH9Rkymwu8EEfzsnCEkFu7I2uHdGoQe9JOfNx7bWSv1GYNSIueY2QTBsGHjZhS1ZqddoQf9wiWgQ7cBlC5nIIWxFjip08mTJygk9EvdbHiRn8k3i5XVXc9RhdVsHYBfoF7C2gBNkTNCD/pMrrdjWd79HIBZCvZQa7Rz125Knz2AMmT0s3ba6rF06TNQ10FjRbJKOLsZIdj6U7Pd/S1e7DQTCz+1b9ygDqwyx8OLXa5ZdJb9eQ6djKWqDUM1N4mXxOff9KN+/cJo7Ngxmuu5siD8N7BbxcsQ6n34aUG9r/opAV0Xv3EcGi7LcvidIkUKUQ+JAbE4wO8Bn/gNUo+r5WCWwEsCdY0QfIEe/m7uS27Xrl3CP8zIePbs2WOkmkfrCAGDfXBs0cw589jvqpdmrQXuZ5X361Cfjp8KDahRk8BEDhwIZ+HnFQeaHstxp+SywznX1wQ2S/UwKLxatmf5fdGSpTRi2gJKzglPtVKxt96mY4d+JGgY4P+TVAnzO2XKVw1d/su8pphJWN+QA65Vq1a6m0VAS9u2bXXXS1hBCj4JOeJlv6H2h93fllPzxImTqM03A3WPOndAfhq3MEJ4+euuzBWmsNDTmV++RqgpO9mtZJ8BRqI2Ut1qnejo7dSkVXur5+wd9MvqT8lS/ecIicgHCBbYsULwUHeuSMSICav+Rjn8xifK4ROEuvitChL4DUIUDAQQHMd5y+M4r9aDiQDlkKJB/YQmIF26Z3Z5OGfjWcB5fKrH1d9oywjt3n/YSDU6xRFe9hIJ6m0UfGDQS73VRHn490AN7muE623ZsqXNYb+Y4jV2Ntf/8qnVoDlFc9RVbQORcRjM3wsXUiY2o+ul3Fznj+XLidV2eqvaLb9q7ToqXzvEbhlrJ8tXeZ8mTppM3w7Sv05aa88Xj2VjX8sdm9dRlRr6TUuXYo1pg23xCU78nPORkrNpVC8hWMWMJL76e9Y7UlneKQ5wkjmRP8dWI7du3aS06Y1pTu7e+81Wsw6PX+FdXRZ+8RuhvFChc/4uZ1Xxln1jMk37brPlIc3f/8dai/fee0+Uz5w5s3DOhACCiZmBnTYheCCfFDJ9q1qqPHnyJDqvuUMvLFivVjAd3r+HipYqKwQuLUP8k0Pcf9qxkSKnTdZSXFMZxt8ROX40FU5Q6ODBg27NO5age8M/ASVhT/D538v6hR4MBpubK8d3GR7XS6wlMUw8H41qk231+eCBsfXqddaGQyhOylSOzUr9B9SgitVq8LqlXWMWvXEtFchn2+HeCE8PHz5MiMA1QhB8zCAp+JjBRRe2gRcBcElsUfbsOenmtSuUxV9fSCDay5TRmMCEugU4lDCWNRP5WXuhl46y9gIJ5pD01CyKYj+T2JhT9EbBQrqbfHj/LnF6BN31nqcKjNZNtWvXoWz8PGXMbN8kAI3VU44i7PZ5CE2dOM5UNsBUZVQTCPMrQp59iWCqVLV/tsb92KAp8eih/VQoZzZbzTo8/gQRZmxaMEJ/s2ZywYIFRqrarFOz7kc2z9k7ce3KJQ71L2yvyHN/DiZuQE+0aduKwsZEODQXYo4fO7iPzh/dw24AY03lDzScRhIjw9EepnszSDo3m8FFF7YBwcce9ezVk35YucReEavn9nDoa52awVbPaTn4VdeuNMuA+h1tz0+d2vQM89WrV6OI8BFahh6vzKljhynVS/qFt3iNPAc/YFZDJvSxYV/R9DEDRXSQtcuCqW7dsnk0fkBnyp09C23ebEzLZq1tHIMvhl7sHrUtmCN9jTC/EZ5tj5TH9+mhAW3HhlVL6L1KFe01bffcq5zZ+2c2p+qlfVwni4mbGrX/xg3qcTTmLfWn5s9Na5dRp47GNAyaO/GBglmyZKHff7tLX7aoSzHHDtgc8V2GR+j6WRO6eeYQIYoOOElmEaeZiHMD0NsmBCa9YIe2+pAaH1uc8YLjWMiB4WOPAvLmIb80rwj7bfkq2gSZY7wTPH1gG7UeMdxe03bPwbekMPv5DG3dmrprdIz9h1+uHdiZtsWsWXHOtnY70XEyI5ukWjVvQgtnTaWPW4RqMtdcZVyfLavm07jRI3X09HwWBbgZ0MFXrFghgPQ2rVtIZ89fpBu37tCfT/9m9Tib+9KnoXy5c1KlsmWo25ehwseIkwUKBFVEJTlrewcWFcZhhOAU7gr8GCNj0VMH4HwtGOPKHvXo3o06dO5KvYaGE6JsHBH8yQb37EjDBoU5xZMOHLHZZedOCmPhNoujTv89D/3QPNYeDm/XTmMN7cXq1qlNterWp4HjIulVO6Hsli3OnjKWqr77Fjv22gbktCz/PH/nJLgUGhoqIgjhZrBi5mi6ePk63bkP/8QXKHWqFJQre1YKyJubombNID8/PxE8Ac0dnIqBJefsHAPWnKPn3dY9OHr0KPXo0cPWaV3HJY6PLna5tzBnviVE8QCEzB5BVT5q9Fi6/ftfVLdRC0qZyrr3/i83rtGG1d/RkT3bGORtUZxjrL22HZ1bt3YtbWbv/KYcalqE1aPW9oeIF9rLu8DvGFn2kzlzBM6Ko3aNnId6NjJyJh06fY5qN2xOmWyYbLB73rB6Gd29dpYGDxpAqVkDldRpAuMxBQUFCRRvvbyAwAIEcOwOsbAadTDmLNKia05+qHcIArQQwjiuwZcIYGzffvutwyGfZLiBUePCqXz1ulSYUXethb5DG/fT3p20fcMqyuOfWSDuOmzYQQFsvnqzQFx8yRL6kJ2WAUxqjW7zwcWsAY7ltWoQY3W5StBAEMHXXXtQoTKVqGz5yvQSb6QSEoIOfj55lDbyWvdhjSB2pK2ZsEiS+w1NKiKDESFsK1DGHlMAnsl5HEUIOszJapSovTrWzml93q3VBcTFwIHmOKhLwccah73kGB4S5O5BxI4W+pkdClE+R76ClCd/IXotbXoReXSbBZ7zZ47TP0/+oDDOvwJYe+T9gu0WDrvOEgSvITzW85s2UWl2xs7JEVEpEPHEu9NYHvsBRk99l9Fk236pH0fCyNgQHtyjZy9KnuJVylewODt/ZxAaoDvsCH4h9iRdv3iWBjEMe8GCBY00/9zVQfj4hg0bBOq1MxcHTQMWV05WSg0bNoyHpwOQTSy+v7JmBuXw3AFkENEmqf7djcPBFwKYEUH0S362kJ/LVS9cZ/hiqy740KlTJzYxTrRVJN5xlJ/OAuaOXXuoQNHSlClrdt6Bv0xIL3Dt8nn6+egBjuD6gFq2aE5YO/CCKlGiRLw2jP4AltBwxsPJe/w4FWUBNxOPBXSNBY9jnHLgIqfE6c8aAWfSCOgZ2xJ+gS9ctITyFylFWXPmYRiHVMI8e4P9ec6cPESFCuanrqyxMmN90zMubywLQRBI5kC1d3Z+bOI1fi6jh+O5LV68eLzLxQboKs/xuzzH8T1ZsuSMEp2G/HmOo188v4MGDTK0zqA9pEHCc20K8S5ZkpdygNV6LhsZR8Ao/AC7pH322lc44aVL2tbbKO9YFcbvUDiXj96qSaI8awmUzz77zNRrZc2PwlFyCqvWFRZ4+DmLUgoXK6F82b2/Mm/NdmX9jzHKgh92Kd0GjFSKv/W20rVHH5HtmRc1w+NA5mhfI0aZVmbOnOmyYXPIsMJ4T6a3zy9ShQVbcW9Nb9xAg5xkWWGQVwM1k0YVTuipLFu2zNSLZQ2vwlF7CsN7KI8ePVYmTp6mFAgsorT7uo8yd+U2Zd2+08qSTT8qfYZNUIoUL6WMGjVaWbhwobJ27VpD4zD7HgNTRJKXcmDIkCEuHRnnB1IOHDhgah9YFNk0Z2qbRhtj/yiFfU9csvgbHZO31fv8888V9jMxfVgQeFiLpJQoWUpZtG63sv/sHeXQpQeJ/n66cJ8XyRilWat2yvgJ4YbHMX78eMN1PVWRd7/KlStXXNY9m8kV1gCb3j4EtkWLFpnerpEG2R1AbLKw7khKzAH2fVO6d++e+IQJRzjKSmkaEqLUaxSiLN96UDlw7m6i+Y05jzn+/e4TSsky7yp79uw11DPWKUbuNlTXWiVrLhmmaJJkI85xAOYHZE13JYWFhQm1pVGHUmtj492F4XBka+0ZPYbEiqo5zyhyrdG+faUeQviRDNQVzxl8QwYNHUHj565iiIHCNsNn4W/glyUrdek3jG7/odDkKVN1s2/btm0EYEdfI/AIpj5XEUzkcDiHU6pZBJMla6mEKdOsNo22A0dZZJ4Hki+iEiUl5gDwcrp06ZL4hAlHrnF4eQb/fNSNswDkyhtAyWwAEmKOA25l8ryVNDliDl26dNlQ78BSM4uk4GMWJ01uh3dUVJKTA7qSYP/uyFD5ZnnKI43CBc6l4mx0j7PXDCdPNn1QO44syZUrl7PNPZf1ES0YHh5uKpaSJaMWLFpMYaOmiuzhlsftff+wcUs6HntZRJLYK5fw3Bx2mA8MDEx42Ot/uyORavXq1YWPIMAdzSA4sbNp1IymnGoDwu52RqU2zefDqdF4Z+VJHHWLSE2AsJpND9iPs8NXXTn/V0fNkV5wRP+0Qzfq3S9M93DMnt9S8NF9C9xTAQn5nM2ermWkiMABeB1eHs5S3759RVSPs+04U5/VmkLjBKHHFZoMZ8bmLXUhGMIJft68eS5z/twUvYvSva5/h/ZecG0aN0Gbsy/4Ccd65DEDRokvEcLYjUa/6b1O5EQaPHhwXLoVvfXV8gBbhIN6aU5c6kkC9hG0PVqi4Tw5Tk/2ffr0aRGCDo2uKwiattYdulqNLrTXX5p06SlzzgB7RRKdA9KzFHwSseX5POCqB9Yat6ChAaQ7FjWjBLV9IQ5X96SGBUIPoon6cdZ4XzR9GOW93npIkVCvXj3TUFCt9f/7w9+tHXZ4DCrxmNPacwPB9FKtWjWH7XpbAYQVJ4yKcdUYkXolMjJSzA3MEaOESB5oiD1JWGcwvyHISbLOAWxsoJVDlKOr6D5r94uXNiZUpc+YWdew8OzmzZtXVx1HhaXGxwqHkPeJnX6tnHHPIaBbFitWzD2d/dsLzF2ffPKJwA3S2zHCJaE1coQ3pLddveXh0wOsB7Mnid5xeHN54HEApDA4WBvYpdFrSZXSWH6pm9eu0hsMf6CVzp07RxUqVNBa3GvKYcecP39+t40HZjUOlhBaPiOdYmNUtWpVw6jaRvpMWAc4USEhIeIapE9PQu789xswJfDDcmUoP/wmjx829o68e/vmf4N18A3vFgAv+vv7Oyip77Qh5GYAjGHxxO4eE+J5Igg9wL5Qs3N74tqmTZtmGN3S6HiByDl//nzhCIkFUl1YgNi5afMWusi+O08YSyEdJ+8sVrQoVapYgV599RlQIkd5CHwG9bfRMThTDw6cFStWpCJFijjTzHNfF4viyJEjXX6dVSu9S7/dv0evpdGGQaUOaOu6lRTWTbtWAQs8MEp8jeC/ZwRIzpnrLMrzlsO+CdD/ZcuWFU1BO7B9+w7at38//cr4Vy+8+AJlzZqNgljICQwsKNYBYKjAXIa6niIIuAMGDKClS5eK5MCeGoe39wvfJ6zdSKLsSsLz2+uDujR+9jJd5q4Hv92na2e1a3Tx7GFTrb6PzLomQwCGz6vgg5c8kqdhNwZyRi1s9AahT5iMYNd0pcRua3xr1qwRJq+0jIK7ZfteSp0+IxUpWYayZGOwtJdfofv37tK5M6fp2E/7KGPalFQzuBohOgzmE6jUzSSkITh27JgYz+PHjwUIFiT/wgyWZukYOnr0aMrJCRV9LUGlWbzCM4MEnbDrg2cgZJEHQCO0X+qiAeRVaBLdYRoCiGSjZiGM4jubUqRMpelSVy6eS5k4swCHrmoqD/8eCLqAsreGZKypEQ8UgrkGwoc77oO1y0OCYGh3ly5fQeev3qLCxUuLyLu06V8XgKc3r1/lBJU/0s0rF6h08UB6nTc70E5hXTKTsJvHcwt/JwRGgNJzX/DnsHxuoQGH0AOB3VkAPjPH7862MMdjGRwW/k2Wcxx+jKqGFJGs0NxjPXSHUL137z5atHoDNW31hc2oTUseQciePCKMen/TUbN/29WrV4UVwuxnz9w3leVVJviORYpB5MTLPIXB5JaWTYKJeBkChVhd2C3PW36HHwDK2MozgvPYzSArNDQ9niT0z+BvHhF6cN0wG3zaug1VeP8jatu1fyJWYAefPWduqlj1feb/I5o0YgA1Zph6s148mOB4gc+ZO4/OnL9ElaoGU54CgZQ1dVp6cO9X2nf0CI1k6P6SRQtRM07uCMRhhAQnRaEHLw7s8CZNmU7+ufLSu5WrUe7iRTjrjkJXLp2ncVNm0hVGqW7dMkQICBCkXfmyhfMrBB68qPBCK/xmAerRtjF90eNbRhIPtLoY434jlcraxXOo3FtFdGVtRj8w2Zn17CV62F10AFqqGjVquKh1x81C29O1zwDqN3wSC6WJc1ilYwGIwehEQ6ePH6bRg3vTimVLHDessQTW29WrV1PUgsWUJ6AAvV2xKuUpUYyfWkaC5ud2wtRIungulj5p3pTKlSsnHPERgZgUhR6gHa9bt55mR83nkPBcVK5KdcpVrBDPpWT0y7WLFD5tFt28donatmlFDBAoQtddJfQA9gRzHMEEMJlDYL1w8iBNGtaH6jRpRdl5DbLWN+b4jauXaFFkOLVt1UKz0IPHafHixS6xfrhc4wOBByGHllgSkFJxQdi5Q5WFnSnKYScC6HmVoH0ADgEICzx29SBItCo2AUL1IiIihDpMnOR/U6ZMEf3hhYjwS6jl8ADBhARY/IR05MiROJ8aqIPxG4Qb5m6ChIsF3dWh7Lauq3btOtSp/1hKn0F7RE70pu/p7UK5qTSnKnCWcI8OnzpLrTr2tPtC+4vv54jeX1LJYoVF6Lqz/fpafTybiFwrG1Sbir5V3u7wL8TGUJuGwSL5qNb0J3Yb/Pck8iZhjiLHFiOyCoEdzuWMGCx27mobMK/NnjOXGKSQSrzzHqXLkInu3fmVjvy4k76bx46LubLT1KlTdef/2bdvn+gnIEBflIg6Lk99IprrxIkTHnmRQ2swevJMCu3UQ/PlP+ENZsPqZSjm5AmnHeKhrShVqhRNnv89+WWz77eBF/onHwaxj8c+0308NF+8BwtCUZA//5s0JnIRBbxZ2O5Iju7fzgmXF9OsWbPsltN7EtpUKAXgjA+NEsxOCIxIGHyDHFrz5i+g5m06UOmKQZQhU2aRSuXUoT00d3o4lSpRXDik683xBRkBUAxmWz9cLvhgR4bQw4T0yiuvCP+gzJkzU+XKlQlgavCtUc1MKA8NDHZHYBbUw9DYqGUt28OOj+GzBRgfjkPIYrRKzt+SQghUEK5A6KNSpUriu+U/CDrly5cXfkuo884774jTnhB8Zs+eTR999JHQZFmO0R3fgYtx4tKvvAML0tUd+PRFs9r0w5qV8UxQuhrhwnhBpvF/k4qXKae56s6NqyhDyhddhkejeSBuLgi1f96SlQVwmCONJ4YG2/rQHl/Q4gVRup8tJMrF3EGeHswVmJeQjwubBJjUIEzB9Ghtt6eyBYsmtEEQlqCtxZyFTxg2LkZ9w5DjCjglvkTAT2rWrJnQeHhi3I0aN6EugyZwcs+XdXX/K/LcHY6mVrwmGyVoC1p91o66fTtes/nzd04oPLLvVxQ1O1L3c2t0nN5QD++7uvUb0qAJs2wmnU44zjOnj9PP+7dQr549E55y+BuuFZs3bxYKBsxjzG9sviGkY37jD+9sewQLDOY4xo45jnZgkQHwoJH8e4wMTZ07dyZkhzebXGrqgs8MnNKgooTwg4USztBwQoVNFy95OCZCaMHCGhMTE5fAEOpQNVsznG0h9IwbN06UQ3vYaSIcFL4lTdnkAQ3SqFGj4kUdYLGFrRgvVLVfawxE6DMWdyzG+9nJz5ME4EIsjJ6gAQMGUhj7ZOglvHibf95Z7GIT7gS0toXn5Ow1Xhjraxd60Pa7rPEYN6CbyMqNl3BSIGgLYi7epKofa49+Sv1aGvqcTZfjOHN2T/YDsEZYtLDxQEQjImgglODPz8+PcnEgA6LmsFGxJ+BYaxfHsKHIwckszaTdu3f7nOADfK6vOXmmp6hkhWq6hR6M9fWMfjR3949OCT7jx0+gTr2HaRZ60G+q1K9R26/78drPz21P688tyj1vFBE5k3oMnqBZ6MH1BxQoRNEb1tLFixfjrCOWfIFpHGsH3nFIOgufTKyZEEyAGQclRWhoqCEhBf1AMDITew6BRkh67ApyqeADoQO2ftgGIaxwXhqxoOI7BB/YCUEIg4YABOGDc+4IMxbUayiDsDkVOwJ2YRAWYfjBgBo1aiQEIjgLQkAaM2aMOI5/WKAhUDm6GbZ8f+IactMXXC9Uep7yWbjGocRaHVETssQ/R26+z9rDFBPWn8VCcI0PGyc8rOl38IcNaOXKlV6RKkPTgJ0stIydUus11b/z9ucs1uuW3Re7MiwqEDaxq4JKHb5l0Npgc4KNBOaYFk2Sk5diuDowp4zsIg13aFJFvHBgDvQUpUlrHMX34e9/ODXs2w8fU9rX9ffvly0H/XLnN6f69rXKB46coPfqt9I97MrBAKONYl+5BsK0jTkOLSvmN5QJcFKHxrZBgwZeP3/gyI10JK4glwo+GDCEHc7ULUxWWGSxmCZcUKEOw42AfwfQfwGUtWTJM2c6eHOrO0zslkBgSMI2cByqOkvCLtOR0GNZ3tPf8ZDipeMpgonvzq0blDFzNt1D+HHHRvqoZlXd9dQK1/lF5sdhtEbIzz837Tq0y0hVn6xzjyPr/LIY49WTv/4RuyhsHABc6Wv+MeoNg2oeJmFfIzjje1LwuXqeQ4nfrWSIbf5Z/AzVUyspLxh/3fz1QjK1mSTx+cfjJ4au83X2rYmaN5c3Mw+EW0ibNm0cmqgMdeSGSnjPu4pedFXDaBeOusATAMomtDmAyYdzHXx5EhLCyEHQDkFYghobZE3ig3quUqVKif4SwlqbHV4tBuTCf/CS9+SiCJ+Jjau/032Ffz39k6LXrxbO6ror/1shJ9uSEclhhC6cOSU0FEbq+mKdDOx4fvn8WUNDfynZiwRzKuaVrwo9uHDAHABQz5cIu26YITxJJw7uo1s3ruoewroVi6hunQ9017OsoPz91PKnru8vKn/pKu/rhVO+YgwA9PqVS9Qm9BlqMyI4HfnleCufYP3AfHEVuVTwQfQVoqmgNodTH3BEIAjBlyAhIYxazbcDGzhU2fgN/x+VsmbNKr7CJgkTlvqn5h1K6ATlKZOROl69n7C/epLgRF4wjz+HHU7SPIxHvz+k9uzYvGTxIs11rBX8giOUvouaYe2Uw2M/LF/ok7t/hxdmo0Dz5iE0a8p/Jl0bxRIdPvTjbnojlzFNUaLGPHzAlYuiqy4NG5vmzZu7qnlN7c6dO5dmjB5Ad28/055rqbR/5xZK9vguVeAAEGfIP2Naunhe/+bm2MH9FJDT35mufa5upXdLU2yM/vfBmqXzqXUr/WZwb2MQIjbr1KnjsmE5JfhAgIGJKuEftBYqyBJGDm9+7NAQXQWwO2u7Hmhn1Ey7CJ1DpBAyC1sKL/DnAcFpGuFzMJ3BoRnhszBp7drlu+YOeMTDodTT1LJlC6pUtiiN7f8NnTpywGZI/1O+lysWzKTF00bSmpXLhYOcM2NH1MCHNYIoInykrmZGD+pJ7UM/1R0KrasTLyucjTcAdZhXq5bMs3l/Eg4Z2rS9W1ZzDp82CU/53G8ELSBqxNcIqnuAv3qSYP6fMimcoldF0axJI+jPJ49tDucyCyljB3anl5/eY4fsLnEuBzYrODjR8csOtHzWRPrl5nUHJf87ffnCOdq5fim1adP6v4NJ4FvTxo1oZdR0ApikVlq5OIoqli1Jadkv1tcJQRZBQUEuuwynwtltjQo+OXBchlMVNDmWGh7480ADBO0GHCnh7Kf668DHBQ7RKm3cuDGeOhvCUMuWLRNlEkd9ANipfkFqODtQQCF06SF4vKvZh90Zzg6cIjicwibrDYQdNbJ3x567QPRSSnoh+f+IbxQpf/9FyZWn9PTRQ8Z0qGV6nqTvf1hH361aR0G16jOIWlGG0E8smwPz6SgjR0evX0ntWreIu1/ewDd3jQERGpMmT6WYSzfow0YtbeIuAS9n/eql9PvtyzSMnf9TpLAfkuqu8TvTDyJE4ZANPBFfov79+4sEm94yZkATQAOU7OWU9E+yV+iFZMmFIP3P08eU/O8/GbE5jUB4hobdLEKoc/cePSlTrjepSo26hGhDa/Tb/bu0YdVS+u3mRRoyeFCSCmVX+fHo0WPq3OVrSpc1D6+H9ThdkHXH8F9v/UIrFs6iwHzZqW2od7w/1Gsw+omci1BuuIoMeZtBEkOYqy2C4AMBBwCC0dHRIioL/j4QeGD+giCEUHZEU2H3higvEM4jsgSTA6kJ4HxpSRBwUA+7phEjRgjzGcoDy8PSKRgCVevWrQ1NFkxy1HU3Id8V8uF4CwFbBRl+3U013g+makFVqW//gbQwIpxKvF2RsWreoBT8PD3k5+JC7Gk6sHsrValUkWZNm+ju4XlNf5hjX7T/XPjRfd6uPWXJGUBFSr1NGf2yiDHC1n/i8H66ci6G58pwCiz4pteM3dmBIIgB5m1fIgiqACb1JsI6iT93EtbrSRPDBShdr29CKWdAIBUqWZYyqc/t1ct0/NA+uhR7kkaNHEWFAgu6c3he1Rc2KZNZO3fk2HHq3ecryuyfR8zxTJmzCmUBEM8P/7iLbl+9QJMmTeQca8/mvlddhIHBYGOrBjQZqK6piiGNj6aWDRSC47PqcIncLJD6kgoBcHHo0KFJ5XLldUoOGOYAQM2wgfIlQhQaNjcqEr0vjV2OVXLAnRyAywoCnNSAJ1f0ndiO4IpeHLQJ3x4kT7QEv3PlRTsYjkdOA69IkuSA5IBjDvgSRIV6NVu2bBEAcepv+Sk5IDlgnQMrVqyIy55gvYTzRw2ZupzvNn4LAO1T82PBmRnmLDXjbPySz+cvRHsAGlyS5IDkgH0OINoDIGy+RgjEULXZvjZ2OV7JAXdyANA3rt7ceIXgA1hqZOGFDw8yBxvN3ePOm2NmX4hi80UwNjN5INuSHNDCgcjISOphI+WGlvqeKgPfFkmSA5IDjjmApOWuJq8wdcFRGg7TACRLakIPbjB2schYL0lyQHLANgfgIIxMzQiC8CUCTIWKQeZL45ZjlRxwNwcAdYNsDa4mrxB8XH2R3t5+mTJl4kL6vX2scnySA57iAHINqVhenhqDkX7nz58vMl0bqSvrSA4kJQ7MnDmT8uXL5/JL9qqoLpdfrZd2gBQeKmq1lw5RDktywOMcQJhreHi4WxZGMy8WZnxosn0thY6ZPJBtSQ5o4UBMTIxIbJ6kwtm1MEaWkRyQHJAckByQHJAckBwwygFp6jLKOVlPckByQHJAckByQHLA5zggBR+fu2VywJIDkgOSA5IDkgOSA0Y5IAUfo5yT9SQHJAckByQHJAckB3yOA1Lw8blbJgcsOSA5IDkgOSA5IDlglANS8DHKOVlPckByQHJAckByQHLA5zggBR+fu2VywJIDkgOSA5IDkgOSA0Y5IAUfo5yT9SQHJAckByQHJAckB3yOA1Lw8blbJgcsOSA5IDkgOSA5IDlglANS8DHKOVlPckByQHJAckByQHLA5zggBR+fu2VywJIDkgOSA5IDkgOSA0Y5IAUfo5yT9SQHJAckByQHJAckB3yOA1Lw8blbJgcsOSA5IDkgOSA5IDlglANS8DHKOVlPckByQHJAckByQHLA5zggBR+fu2VywJIDkgOSA5IDkgOSA0Y5IAUfo5yT9SQHJAckByQHJAckB3yOA/8H+OZbOp+kxu8AAAAASUVORK5CYII=)"
      ]
    },
    {
      "cell_type": "markdown",
      "id": "abfdd29c",
      "metadata": {
        "id": "abfdd29c"
      },
      "source": [
        "Однако после разделения графа некоторые связи удаляются, что может ограничивать производительность модели из-за необъективной оценки.\n",
        "Чтобы решить эту проблему, Cluster-GCN также **включает ссылки между кластерами внутри мини-батча**, что приводит к следующей схеме стохастического разделения:"
      ]
    },
    {
      "cell_type": "markdown",
      "id": "24e112dd",
      "metadata": {
        "id": "24e112dd"
      },
      "source": [
        "![Screen Shot 2020-08-27 at 14.58.15.png](data:image/png;base64,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)"
      ]
    },
    {
      "cell_type": "markdown",
      "id": "90f32aa2",
      "metadata": {
        "id": "90f32aa2"
      },
      "source": [
        "Здесь цвета представляют информацию о смежности, которая поддерживается для каждого батча (которая может быть разной для каждой эпохи).\n",
        "\n",
        "PyTorch Geometric обеспечивает **двухэтапную реализацию** алгоритма Cluster-GCN:\n",
        "1. [**`ClusterData`**](https://pytorch-geometric.readthedocs.io/en/latest/modules/data.html#torch_geometric.data.ClusterData) преобразует объект «Data» в набор подграфов, содержащие `num_parts` частей.\n",
        "2. Учитывая заданный пользователем `batch_size`, [**`ClusterLoader`**](https://pytorch-geometric.readthedocs.io/en/latest/modules/data.html#torch_geometric.data.ClusterLoader) реализует стохастическую схема разбиения для создания мини-батчей.\n",
        "\n",
        "Процедура создания мини-батчей выглядит следующим образом:"
      ]
    },
    {
      "cell_type": "code",
      "execution_count": 22,
      "id": "1416e984",
      "metadata": {
        "ExecuteTime": {
          "end_time": "2022-11-17T11:47:59.592182Z",
          "start_time": "2022-11-17T11:47:59.589094Z"
        },
        "colab": {
          "base_uri": "https://localhost:8080/"
        },
        "id": "1416e984",
        "outputId": "0ce14e5c-f511-4b22-dfe7-86de096fda97"
      },
      "outputs": [
        {
          "output_type": "stream",
          "name": "stderr",
          "text": [
            "Computing METIS partitioning...\n"
          ]
        },
        {
          "output_type": "stream",
          "name": "stdout",
          "text": [
            "\n",
            "Step 1:\n",
            "=======\n",
            "Number of nodes in the current batch: 4909\n",
            "Data(x=[4909, 500], y=[4909], train_mask=[4909], val_mask=[4909], test_mask=[4909], edge_index=[2, 15304])\n",
            "\n",
            "Step 2:\n",
            "=======\n",
            "Number of nodes in the current batch: 4936\n",
            "Data(x=[4936, 500], y=[4936], train_mask=[4936], val_mask=[4936], test_mask=[4936], edge_index=[2, 21072])\n",
            "\n",
            "Step 3:\n",
            "=======\n",
            "Number of nodes in the current batch: 4939\n",
            "Data(x=[4939, 500], y=[4939], train_mask=[4939], val_mask=[4939], test_mask=[4939], edge_index=[2, 17500])\n",
            "\n",
            "Step 4:\n",
            "=======\n",
            "Number of nodes in the current batch: 4933\n",
            "Data(x=[4933, 500], y=[4933], train_mask=[4933], val_mask=[4933], test_mask=[4933], edge_index=[2, 15260])\n",
            "\n",
            "Iterated over 19717 of 19717 nodes!\n"
          ]
        },
        {
          "output_type": "stream",
          "name": "stderr",
          "text": [
            "Done!\n"
          ]
        }
      ],
      "source": [
        "from torch_geometric.loader import ClusterData, ClusterLoader\n",
        "\n",
        "torch.manual_seed(42)\n",
        "cluster_data = ClusterData(data, num_parts=128)  # 1. Create subgraphs.\n",
        "train_loader = ClusterLoader(cluster_data, batch_size=32, shuffle=True)  # 2. Stochastic partioning scheme.\n",
        "\n",
        "print()\n",
        "total_num_nodes = 0\n",
        "for step, sub_data in enumerate(train_loader):\n",
        "    print(f'Step {step + 1}:')\n",
        "    print('=======')\n",
        "    print(f'Number of nodes in the current batch: {sub_data.num_nodes}')\n",
        "    print(sub_data)\n",
        "    print()\n",
        "    total_num_nodes += sub_data.num_nodes\n",
        "\n",
        "print(f'Iterated over {total_num_nodes} of {data.num_nodes} nodes!')"
      ]
    },
    {
      "cell_type": "markdown",
      "id": "baa5a421",
      "metadata": {
        "ExecuteTime": {
          "end_time": "2022-11-17T11:37:25.951804Z",
          "start_time": "2022-11-17T11:37:23.813338Z"
        },
        "id": "baa5a421"
      },
      "source": [
        "Здесь мы разделяем исходный граф на **128 частей** и используем **`batch_size` из 32 подграфов** для формирования мини-батчей.\n",
        "Как видно, после одной эпохи каждая вершина была замечена ровно один раз.\n",
        "\n",
        "Самое удобное в Cluster-GCN то, что он не усложняет реализацию модели GNN."
      ]
    },
    {
      "cell_type": "code",
      "execution_count": 23,
      "id": "fe89c571",
      "metadata": {
        "colab": {
          "base_uri": "https://localhost:8080/"
        },
        "id": "fe89c571",
        "outputId": "2523cf48-f0b8-49c0-a340-b8b200c5e43b"
      },
      "outputs": [
        {
          "output_type": "stream",
          "name": "stdout",
          "text": [
            "GCN(\n",
            "  (conv1): GCNConv(500, 16)\n",
            "  (conv2): GCNConv(16, 3)\n",
            ")\n"
          ]
        }
      ],
      "source": [
        "import torch.nn.functional as F\n",
        "from torch_geometric.nn import GCNConv\n",
        "\n",
        "\n",
        "class GCN(torch.nn.Module):\n",
        "    def __init__(self, hidden_channels):\n",
        "        super(GCN, self).__init__()\n",
        "        torch.manual_seed(42)\n",
        "        self.conv1 = GCNConv(dataset.num_node_features, hidden_channels)\n",
        "        self.conv2 = GCNConv(hidden_channels, dataset.num_classes)\n",
        "\n",
        "    def forward(self, x, edge_index):\n",
        "        x = self.conv1(x, edge_index)\n",
        "        x = x.relu()\n",
        "        x = F.dropout(x, p=0.5, training=self.training)\n",
        "        x = self.conv2(x, edge_index)\n",
        "        return x\n",
        "\n",
        "device = 'cuda'\n",
        "model = GCN(hidden_channels=16)\n",
        "print(model)"
      ]
    },
    {
      "cell_type": "code",
      "execution_count": 25,
      "id": "9641af53",
      "metadata": {
        "colab": {
          "base_uri": "https://localhost:8080/"
        },
        "id": "9641af53",
        "outputId": "e363a28d-5cd1-4f52-8230-6d6ce8190e85"
      },
      "outputs": [
        {
          "output_type": "stream",
          "name": "stdout",
          "text": [
            "Epoch: 001, Train: 0.3500, Val Acc: 0.4180, Test Acc: 0.4080\n",
            "Epoch: 002, Train: 0.6667, Val Acc: 0.5720, Test Acc: 0.6060\n",
            "Epoch: 003, Train: 0.8833, Val Acc: 0.7200, Test Acc: 0.7330\n",
            "Epoch: 004, Train: 0.9500, Val Acc: 0.7660, Test Acc: 0.7660\n",
            "Epoch: 005, Train: 0.9500, Val Acc: 0.7820, Test Acc: 0.7780\n",
            "Epoch: 006, Train: 0.9500, Val Acc: 0.7760, Test Acc: 0.7680\n",
            "Epoch: 007, Train: 0.9667, Val Acc: 0.7640, Test Acc: 0.7600\n",
            "Epoch: 008, Train: 0.9667, Val Acc: 0.7580, Test Acc: 0.7390\n",
            "Epoch: 009, Train: 0.9333, Val Acc: 0.7440, Test Acc: 0.7270\n",
            "Epoch: 010, Train: 0.9500, Val Acc: 0.7640, Test Acc: 0.7530\n",
            "Epoch: 011, Train: 0.9500, Val Acc: 0.7800, Test Acc: 0.7700\n",
            "Epoch: 012, Train: 0.9500, Val Acc: 0.7760, Test Acc: 0.7670\n",
            "Epoch: 013, Train: 0.9667, Val Acc: 0.7680, Test Acc: 0.7650\n",
            "Epoch: 014, Train: 0.9667, Val Acc: 0.7660, Test Acc: 0.7560\n",
            "Epoch: 015, Train: 0.9667, Val Acc: 0.7700, Test Acc: 0.7720\n",
            "Epoch: 016, Train: 0.9500, Val Acc: 0.7740, Test Acc: 0.7690\n",
            "Epoch: 017, Train: 0.9500, Val Acc: 0.7800, Test Acc: 0.7670\n",
            "Epoch: 018, Train: 0.9500, Val Acc: 0.7800, Test Acc: 0.7690\n",
            "Epoch: 019, Train: 0.9500, Val Acc: 0.7820, Test Acc: 0.7660\n",
            "Epoch: 020, Train: 0.9667, Val Acc: 0.7820, Test Acc: 0.7680\n",
            "Epoch: 021, Train: 0.9667, Val Acc: 0.7860, Test Acc: 0.7700\n",
            "Epoch: 022, Train: 0.9833, Val Acc: 0.7900, Test Acc: 0.7700\n",
            "Epoch: 023, Train: 0.9667, Val Acc: 0.7900, Test Acc: 0.7770\n",
            "Epoch: 024, Train: 0.9667, Val Acc: 0.8000, Test Acc: 0.7870\n",
            "Epoch: 025, Train: 0.9667, Val Acc: 0.7940, Test Acc: 0.7780\n",
            "Epoch: 026, Train: 0.9667, Val Acc: 0.7920, Test Acc: 0.7630\n",
            "Epoch: 027, Train: 0.9667, Val Acc: 0.7860, Test Acc: 0.7810\n",
            "Epoch: 028, Train: 0.9833, Val Acc: 0.8000, Test Acc: 0.7860\n",
            "Epoch: 029, Train: 0.9833, Val Acc: 0.8160, Test Acc: 0.7880\n",
            "Epoch: 030, Train: 0.9833, Val Acc: 0.8040, Test Acc: 0.7910\n",
            "Epoch: 031, Train: 0.9833, Val Acc: 0.7900, Test Acc: 0.7810\n",
            "Epoch: 032, Train: 0.9833, Val Acc: 0.8100, Test Acc: 0.7910\n",
            "Epoch: 033, Train: 0.9833, Val Acc: 0.8100, Test Acc: 0.7880\n",
            "Epoch: 034, Train: 0.9833, Val Acc: 0.8020, Test Acc: 0.7870\n",
            "Epoch: 035, Train: 0.9833, Val Acc: 0.8080, Test Acc: 0.7870\n",
            "Epoch: 036, Train: 0.9833, Val Acc: 0.8040, Test Acc: 0.7850\n",
            "Epoch: 037, Train: 0.9833, Val Acc: 0.7940, Test Acc: 0.7810\n",
            "Epoch: 038, Train: 0.9833, Val Acc: 0.8120, Test Acc: 0.7910\n",
            "Epoch: 039, Train: 0.9833, Val Acc: 0.8100, Test Acc: 0.7920\n",
            "Epoch: 040, Train: 0.9833, Val Acc: 0.8080, Test Acc: 0.7890\n",
            "Epoch: 041, Train: 0.9833, Val Acc: 0.8080, Test Acc: 0.7860\n",
            "Epoch: 042, Train: 0.9833, Val Acc: 0.8040, Test Acc: 0.7880\n",
            "Epoch: 043, Train: 0.9833, Val Acc: 0.8020, Test Acc: 0.7830\n",
            "Epoch: 044, Train: 0.9833, Val Acc: 0.8040, Test Acc: 0.7830\n",
            "Epoch: 045, Train: 0.9833, Val Acc: 0.8160, Test Acc: 0.7960\n",
            "Epoch: 046, Train: 0.9833, Val Acc: 0.8100, Test Acc: 0.7970\n",
            "Epoch: 047, Train: 0.9833, Val Acc: 0.7960, Test Acc: 0.7880\n",
            "Epoch: 048, Train: 1.0000, Val Acc: 0.7920, Test Acc: 0.7850\n",
            "Epoch: 049, Train: 1.0000, Val Acc: 0.7920, Test Acc: 0.7840\n",
            "Epoch: 050, Train: 1.0000, Val Acc: 0.8020, Test Acc: 0.7880\n"
          ]
        }
      ],
      "source": [
        "model = GCN(hidden_channels=16)\n",
        "optimizer = torch.optim.Adam(model.parameters(), lr=0.01, weight_decay=5e-4)\n",
        "criterion = torch.nn.CrossEntropyLoss()\n",
        "\n",
        "\n",
        "def train():\n",
        "    model.train()\n",
        "\n",
        "    for sub_data in train_loader:  # Iterate over each mini-batch.\n",
        "        out = model(sub_data.x, sub_data.edge_index)\n",
        "        loss = criterion(out[sub_data.train_mask],\n",
        "                         sub_data.y[sub_data.train_mask])\n",
        "        loss.backward()\n",
        "        optimizer.step()\n",
        "        optimizer.zero_grad() \n",
        "\n",
        "\n",
        "def test():\n",
        "    model.eval()\n",
        "    out = model(data.x, data.edge_index)\n",
        "    pred = out.argmax(dim=1)\n",
        "\n",
        "    accs = []\n",
        "    for mask in [data.train_mask, data.val_mask, data.test_mask]:\n",
        "        correct = pred[mask] == data.y[mask]\n",
        "        accs.append(int(correct.sum()) / int(mask.sum()))\n",
        "    return accs\n",
        "\n",
        "\n",
        "for epoch in range(1, 51):\n",
        "    loss = train()\n",
        "    train_acc, val_acc, test_acc = test()\n",
        "    print(\n",
        "        f'Epoch: {epoch:03d}, Train: {train_acc:.4f}, Val Acc: {val_acc:.4f}, Test Acc: {test_acc:.4f}')"
      ]
    }
  ],
  "metadata": {
    "kernelspec": {
      "display_name": "Python 3 (ipykernel)",
      "language": "python",
      "name": "python3"
    },
    "language_info": {
      "codemirror_mode": {
        "name": "ipython",
        "version": 3
      },
      "file_extension": ".py",
      "mimetype": "text/x-python",
      "name": "python",
      "nbconvert_exporter": "python",
      "pygments_lexer": "ipython3",
      "version": "3.8.13"
    },
    "colab": {
      "provenance": []
    },
    "accelerator": "GPU",
    "gpuClass": "standard"
  },
  "nbformat": 4,
  "nbformat_minor": 5
}